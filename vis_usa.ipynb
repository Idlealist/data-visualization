{
  "cells": [
    {
      "cell_type": "markdown",
      "metadata": {
        "id": "EuiE7icncg0l"
      },
      "source": [
        "## Wymagania\n",
        "\n",
        "Aby uruchomić ten notebook, potrzebujesz następujących bibliotek:\n",
        "- numpy\n",
        "- pandas\n",
        "- matplotlib\n",
        "- requests\n",
        "- beautifulsoup4\n",
        "- plotly\n",
        "- geopandas\n",
        "- seaborn\n",
        "- openpyxl"
      ]
    },
    {
      "cell_type": "code",
      "execution_count": 38,
      "metadata": {
        "id": "1gse9uKxcg0l"
      },
      "outputs": [
        {
          "name": "stdout",
          "output_type": "stream",
          "text": [
            "Requirement already satisfied: pandas in c:\\users\\useresu\\appdata\\local\\programs\\python\\python39\\lib\\site-packages (2.0.2)Note: you may need to restart the kernel to use updated packages.\n",
            "\n",
            "Requirement already satisfied: tzdata>=2022.1 in c:\\users\\useresu\\appdata\\local\\programs\\python\\python39\\lib\\site-packages (from pandas) (2023.3)\n",
            "Requirement already satisfied: python-dateutil>=2.8.2 in c:\\users\\useresu\\appdata\\roaming\\python\\python39\\site-packages (from pandas) (2.8.2)\n",
            "Requirement already satisfied: numpy>=1.20.3 in c:\\users\\useresu\\appdata\\local\\programs\\python\\python39\\lib\\site-packages (from pandas) (1.25.0)\n",
            "Requirement already satisfied: pytz>=2020.1 in c:\\users\\useresu\\appdata\\local\\programs\\python\\python39\\lib\\site-packages (from pandas) (2023.3)\n",
            "Requirement already satisfied: six>=1.5 in c:\\users\\useresu\\appdata\\roaming\\python\\python39\\site-packages (from python-dateutil>=2.8.2->pandas) (1.16.0)\n"
          ]
        },
        {
          "name": "stderr",
          "output_type": "stream",
          "text": [
            "WARNING: You are using pip version 22.0.4; however, version 24.0 is available.\n",
            "You should consider upgrading via the 'c:\\Users\\UseresU\\AppData\\Local\\Programs\\Python\\Python39\\python.exe -m pip install --upgrade pip' command.\n"
          ]
        },
        {
          "name": "stdout",
          "output_type": "stream",
          "text": [
            "Requirement already satisfied: matplotlib in c:\\users\\useresu\\appdata\\local\\programs\\python\\python39\\lib\\site-packages (3.7.1)\n",
            "Requirement already satisfied: cycler>=0.10 in c:\\users\\useresu\\appdata\\local\\programs\\python\\python39\\lib\\site-packages (from matplotlib) (0.11.0)\n",
            "Requirement already satisfied: pillow>=6.2.0 in c:\\users\\useresu\\appdata\\local\\programs\\python\\python39\\lib\\site-packages (from matplotlib) (9.5.0)\n",
            "Requirement already satisfied: contourpy>=1.0.1 in c:\\users\\useresu\\appdata\\local\\programs\\python\\python39\\lib\\site-packages (from matplotlib) (1.1.0)\n",
            "Requirement already satisfied: packaging>=20.0 in c:\\users\\useresu\\appdata\\roaming\\python\\python39\\site-packages (from matplotlib) (23.1)\n",
            "Requirement already satisfied: importlib-resources>=3.2.0 in c:\\users\\useresu\\appdata\\local\\programs\\python\\python39\\lib\\site-packages (from matplotlib) (5.12.0)\n",
            "Requirement already satisfied: fonttools>=4.22.0 in c:\\users\\useresu\\appdata\\local\\programs\\python\\python39\\lib\\site-packages (from matplotlib) (4.40.0)\n",
            "Requirement already satisfied: pyparsing>=2.3.1 in c:\\users\\useresu\\appdata\\local\\programs\\python\\python39\\lib\\site-packages (from matplotlib) (3.1.0)\n",
            "Requirement already satisfied: kiwisolver>=1.0.1 in c:\\users\\useresu\\appdata\\local\\programs\\python\\python39\\lib\\site-packages (from matplotlib) (1.4.4)\n",
            "Requirement already satisfied: python-dateutil>=2.7 in c:\\users\\useresu\\appdata\\roaming\\python\\python39\\site-packages (from matplotlib) (2.8.2)\n",
            "Requirement already satisfied: numpy>=1.20 in c:\\users\\useresu\\appdata\\local\\programs\\python\\python39\\lib\\site-packages (from matplotlib) (1.25.0)\n",
            "Requirement already satisfied: zipp>=3.1.0 in c:\\users\\useresu\\appdata\\roaming\\python\\python39\\site-packages (from importlib-resources>=3.2.0->matplotlib) (3.15.0)\n",
            "Requirement already satisfied: six>=1.5 in c:\\users\\useresu\\appdata\\roaming\\python\\python39\\site-packages (from python-dateutil>=2.7->matplotlib) (1.16.0)\n",
            "Note: you may need to restart the kernel to use updated packages.\n"
          ]
        },
        {
          "name": "stderr",
          "output_type": "stream",
          "text": [
            "WARNING: You are using pip version 22.0.4; however, version 24.0 is available.\n",
            "You should consider upgrading via the 'c:\\Users\\UseresU\\AppData\\Local\\Programs\\Python\\Python39\\python.exe -m pip install --upgrade pip' command.\n"
          ]
        },
        {
          "name": "stdout",
          "output_type": "stream",
          "text": [
            "Requirement already satisfied: plotly in c:\\users\\useresu\\appdata\\local\\programs\\python\\python39\\lib\\site-packages (5.15.0)\n",
            "Requirement already satisfied: tenacity>=6.2.0 in c:\\users\\useresu\\appdata\\local\\programs\\python\\python39\\lib\\site-packages (from plotly) (8.2.2)\n",
            "Requirement already satisfied: packaging in c:\\users\\useresu\\appdata\\roaming\\python\\python39\\site-packages (from plotly) (23.1)\n",
            "Note: you may need to restart the kernel to use updated packages.\n"
          ]
        },
        {
          "name": "stderr",
          "output_type": "stream",
          "text": [
            "WARNING: You are using pip version 22.0.4; however, version 24.0 is available.\n",
            "You should consider upgrading via the 'c:\\Users\\UseresU\\AppData\\Local\\Programs\\Python\\Python39\\python.exe -m pip install --upgrade pip' command.\n"
          ]
        },
        {
          "name": "stdout",
          "output_type": "stream",
          "text": [
            "Requirement already satisfied: seaborn in c:\\users\\useresu\\appdata\\local\\programs\\python\\python39\\lib\\site-packages (0.12.2)\n",
            "Requirement already satisfied: numpy!=1.24.0,>=1.17 in c:\\users\\useresu\\appdata\\local\\programs\\python\\python39\\lib\\site-packages (from seaborn) (1.25.0)\n",
            "Requirement already satisfied: matplotlib!=3.6.1,>=3.1 in c:\\users\\useresu\\appdata\\local\\programs\\python\\python39\\lib\\site-packages (from seaborn) (3.7.1)\n",
            "Requirement already satisfied: pandas>=0.25 in c:\\users\\useresu\\appdata\\local\\programs\\python\\python39\\lib\\site-packages (from seaborn) (2.0.2)\n",
            "Requirement already satisfied: python-dateutil>=2.7 in c:\\users\\useresu\\appdata\\roaming\\python\\python39\\site-packages (from matplotlib!=3.6.1,>=3.1->seaborn) (2.8.2)\n",
            "Requirement already satisfied: pyparsing>=2.3.1 in c:\\users\\useresu\\appdata\\local\\programs\\python\\python39\\lib\\site-packages (from matplotlib!=3.6.1,>=3.1->seaborn) (3.1.0)\n",
            "Requirement already satisfied: contourpy>=1.0.1 in c:\\users\\useresu\\appdata\\local\\programs\\python\\python39\\lib\\site-packages (from matplotlib!=3.6.1,>=3.1->seaborn) (1.1.0)\n",
            "Requirement already satisfied: importlib-resources>=3.2.0 in c:\\users\\useresu\\appdata\\local\\programs\\python\\python39\\lib\\site-packages (from matplotlib!=3.6.1,>=3.1->seaborn) (5.12.0)\n",
            "Requirement already satisfied: kiwisolver>=1.0.1 in c:\\users\\useresu\\appdata\\local\\programs\\python\\python39\\lib\\site-packages (from matplotlib!=3.6.1,>=3.1->seaborn) (1.4.4)\n",
            "Requirement already satisfied: pillow>=6.2.0 in c:\\users\\useresu\\appdata\\local\\programs\\python\\python39\\lib\\site-packages (from matplotlib!=3.6.1,>=3.1->seaborn) (9.5.0)\n",
            "Requirement already satisfied: cycler>=0.10 in c:\\users\\useresu\\appdata\\local\\programs\\python\\python39\\lib\\site-packages (from matplotlib!=3.6.1,>=3.1->seaborn) (0.11.0)\n",
            "Requirement already satisfied: packaging>=20.0 in c:\\users\\useresu\\appdata\\roaming\\python\\python39\\site-packages (from matplotlib!=3.6.1,>=3.1->seaborn) (23.1)\n",
            "Requirement already satisfied: fonttools>=4.22.0 in c:\\users\\useresu\\appdata\\local\\programs\\python\\python39\\lib\\site-packages (from matplotlib!=3.6.1,>=3.1->seaborn) (4.40.0)\n",
            "Requirement already satisfied: pytz>=2020.1 in c:\\users\\useresu\\appdata\\local\\programs\\python\\python39\\lib\\site-packages (from pandas>=0.25->seaborn) (2023.3)\n",
            "Requirement already satisfied: tzdata>=2022.1 in c:\\users\\useresu\\appdata\\local\\programs\\python\\python39\\lib\\site-packages (from pandas>=0.25->seaborn) (2023.3)\n",
            "Requirement already satisfied: zipp>=3.1.0 in c:\\users\\useresu\\appdata\\roaming\\python\\python39\\site-packages (from importlib-resources>=3.2.0->matplotlib!=3.6.1,>=3.1->seaborn) (3.15.0)\n",
            "Requirement already satisfied: six>=1.5 in c:\\users\\useresu\\appdata\\roaming\\python\\python39\\site-packages (from python-dateutil>=2.7->matplotlib!=3.6.1,>=3.1->seaborn) (1.16.0)\n",
            "Note: you may need to restart the kernel to use updated packages.\n"
          ]
        },
        {
          "name": "stderr",
          "output_type": "stream",
          "text": [
            "WARNING: You are using pip version 22.0.4; however, version 24.0 is available.\n",
            "You should consider upgrading via the 'c:\\Users\\UseresU\\AppData\\Local\\Programs\\Python\\Python39\\python.exe -m pip install --upgrade pip' command.\n"
          ]
        }
      ],
      "source": [
        "%pip install pandas\n",
        "%pip install matplotlib\n",
        "%pip install plotly\n",
        "%pip install seaborn"
      ]
    },
    {
      "cell_type": "markdown",
      "metadata": {
        "id": "7tWwwbh-cg0m"
      },
      "source": [
        "## Importowanie bibliotek"
      ]
    },
    {
      "cell_type": "code",
      "execution_count": 39,
      "metadata": {
        "id": "Pi_OyxEecg0n"
      },
      "outputs": [],
      "source": [
        "import matplotlib.pyplot as plt\n",
        "import pandas as pd\n",
        "import plotly.graph_objects as go\n",
        "import seaborn as sns\n",
        "import plotly.express as px"
      ]
    },
    {
      "cell_type": "markdown",
      "metadata": {
        "id": "8eYEc_t9mpe2"
      },
      "source": [
        "Dane zostały pobrane z https://injuryfacts.nsc.org/"
      ]
    },
    {
      "cell_type": "code",
      "execution_count": 40,
      "metadata": {
        "id": "sI6YIITPnFdC"
      },
      "outputs": [],
      "source": [
        "prefix = 'data/'"
      ]
    },
    {
      "cell_type": "code",
      "execution_count": 41,
      "metadata": {
        "colab": {
          "base_uri": "https://localhost:8080/",
          "height": 423
        },
        "id": "N9CncqlYmpe3",
        "outputId": "9b4203a7-bdff-4478-dc0e-7205bc3450f0"
      },
      "outputs": [
        {
          "data": {
            "text/html": [
              "<div>\n",
              "<style scoped>\n",
              "    .dataframe tbody tr th:only-of-type {\n",
              "        vertical-align: middle;\n",
              "    }\n",
              "\n",
              "    .dataframe tbody tr th {\n",
              "        vertical-align: top;\n",
              "    }\n",
              "\n",
              "    .dataframe thead th {\n",
              "        text-align: right;\n",
              "    }\n",
              "</style>\n",
              "<table border=\"1\" class=\"dataframe\">\n",
              "  <thead>\n",
              "    <tr style=\"text-align: right;\">\n",
              "      <th></th>\n",
              "      <th>Year</th>\n",
              "      <th>Age Group</th>\n",
              "      <th>Rank</th>\n",
              "      <th>Cause of Death</th>\n",
              "      <th>Deaths</th>\n",
              "      <th>Rate (a)</th>\n",
              "    </tr>\n",
              "  </thead>\n",
              "  <tbody>\n",
              "    <tr>\n",
              "      <th>0</th>\n",
              "      <td>2021</td>\n",
              "      <td>All Ages</td>\n",
              "      <td>1.0</td>\n",
              "      <td>Heart disease</td>\n",
              "      <td>695547</td>\n",
              "      <td>209.6</td>\n",
              "    </tr>\n",
              "    <tr>\n",
              "      <th>1</th>\n",
              "      <td>2021</td>\n",
              "      <td>All Ages</td>\n",
              "      <td>2.0</td>\n",
              "      <td>Cancer (malignant neoplasms)</td>\n",
              "      <td>605213</td>\n",
              "      <td>182.4</td>\n",
              "    </tr>\n",
              "    <tr>\n",
              "      <th>2</th>\n",
              "      <td>2021</td>\n",
              "      <td>All Ages</td>\n",
              "      <td>3.0</td>\n",
              "      <td>COVID-19</td>\n",
              "      <td>416893</td>\n",
              "      <td>125.6</td>\n",
              "    </tr>\n",
              "    <tr>\n",
              "      <th>3</th>\n",
              "      <td>2021</td>\n",
              "      <td>All Ages</td>\n",
              "      <td>4.0</td>\n",
              "      <td>Preventable injury</td>\n",
              "      <td>224935</td>\n",
              "      <td>67.8</td>\n",
              "    </tr>\n",
              "    <tr>\n",
              "      <th>4</th>\n",
              "      <td>2021</td>\n",
              "      <td>All Ages</td>\n",
              "      <td>5.0</td>\n",
              "      <td>Stroke (cerebrovascular disease)</td>\n",
              "      <td>162890</td>\n",
              "      <td>49.1</td>\n",
              "    </tr>\n",
              "    <tr>\n",
              "      <th>...</th>\n",
              "      <td>...</td>\n",
              "      <td>...</td>\n",
              "      <td>...</td>\n",
              "      <td>...</td>\n",
              "      <td>...</td>\n",
              "      <td>...</td>\n",
              "    </tr>\n",
              "    <tr>\n",
              "      <th>2985</th>\n",
              "      <td>1999</td>\n",
              "      <td>All Ages</td>\n",
              "      <td>6.0</td>\n",
              "      <td>Diabetes mellitus</td>\n",
              "      <td>68399</td>\n",
              "      <td>24.5</td>\n",
              "    </tr>\n",
              "    <tr>\n",
              "      <th>2986</th>\n",
              "      <td>1999</td>\n",
              "      <td>All Ages</td>\n",
              "      <td>7.0</td>\n",
              "      <td>Influenza and pneumonia</td>\n",
              "      <td>63730</td>\n",
              "      <td>22.8</td>\n",
              "    </tr>\n",
              "    <tr>\n",
              "      <th>2987</th>\n",
              "      <td>1999</td>\n",
              "      <td>All Ages</td>\n",
              "      <td>8.0</td>\n",
              "      <td>Alzheimer's disease</td>\n",
              "      <td>44536</td>\n",
              "      <td>16.0</td>\n",
              "    </tr>\n",
              "    <tr>\n",
              "      <th>2988</th>\n",
              "      <td>1999</td>\n",
              "      <td>All Ages</td>\n",
              "      <td>9.0</td>\n",
              "      <td>Nephritis</td>\n",
              "      <td>35525</td>\n",
              "      <td>12.7</td>\n",
              "    </tr>\n",
              "    <tr>\n",
              "      <th>2989</th>\n",
              "      <td>1999</td>\n",
              "      <td>All Ages</td>\n",
              "      <td>10.0</td>\n",
              "      <td>Septicemia</td>\n",
              "      <td>30680</td>\n",
              "      <td>11.0</td>\n",
              "    </tr>\n",
              "  </tbody>\n",
              "</table>\n",
              "<p>2990 rows × 6 columns</p>\n",
              "</div>"
            ],
            "text/plain": [
              "      Year Age Group  Rank                    Cause of Death  Deaths  Rate (a)\n",
              "0     2021  All Ages   1.0                     Heart disease  695547     209.6\n",
              "1     2021  All Ages   2.0      Cancer (malignant neoplasms)  605213     182.4\n",
              "2     2021  All Ages   3.0                          COVID-19  416893     125.6\n",
              "3     2021  All Ages   4.0                Preventable injury  224935      67.8\n",
              "4     2021  All Ages   5.0  Stroke (cerebrovascular disease)  162890      49.1\n",
              "...    ...       ...   ...                               ...     ...       ...\n",
              "2985  1999  All Ages   6.0                 Diabetes mellitus   68399      24.5\n",
              "2986  1999  All Ages   7.0           Influenza and pneumonia   63730      22.8\n",
              "2987  1999  All Ages   8.0               Alzheimer's disease   44536      16.0\n",
              "2988  1999  All Ages   9.0                         Nephritis   35525      12.7\n",
              "2989  1999  All Ages  10.0                        Septicemia   30680      11.0\n",
              "\n",
              "[2990 rows x 6 columns]"
            ]
          },
          "execution_count": 41,
          "metadata": {},
          "output_type": "execute_result"
        }
      ],
      "source": [
        "cause_of_death_df = pd.read_excel(prefix+'All_leading_causes_of_death.xlsx', 'Total Leading Causes',skiprows=[0, 2992, 2993, 2994], usecols=lambda x: 'Unnamed' not in x,)\n",
        "cause_of_death_df"
      ]
    },
    {
      "cell_type": "code",
      "execution_count": 42,
      "metadata": {
        "colab": {
          "base_uri": "https://localhost:8080/",
          "height": 423
        },
        "id": "wZ1vXZdtmpe3",
        "outputId": "44822414-55f7-48fe-9a9f-3715d4f242bb"
      },
      "outputs": [
        {
          "data": {
            "text/html": [
              "<div>\n",
              "<style scoped>\n",
              "    .dataframe tbody tr th:only-of-type {\n",
              "        vertical-align: middle;\n",
              "    }\n",
              "\n",
              "    .dataframe tbody tr th {\n",
              "        vertical-align: top;\n",
              "    }\n",
              "\n",
              "    .dataframe thead th {\n",
              "        text-align: right;\n",
              "    }\n",
              "</style>\n",
              "<table border=\"1\" class=\"dataframe\">\n",
              "  <thead>\n",
              "    <tr style=\"text-align: right;\">\n",
              "      <th></th>\n",
              "      <th>Year</th>\n",
              "      <th>Age Group</th>\n",
              "      <th>Rank</th>\n",
              "      <th>Cause of Death</th>\n",
              "      <th>Deaths</th>\n",
              "      <th>Rate (a)</th>\n",
              "    </tr>\n",
              "  </thead>\n",
              "  <tbody>\n",
              "    <tr>\n",
              "      <th>0</th>\n",
              "      <td>2021</td>\n",
              "      <td>All Ages</td>\n",
              "      <td>1.0</td>\n",
              "      <td>Heart disease</td>\n",
              "      <td>384886</td>\n",
              "      <td>234.1</td>\n",
              "    </tr>\n",
              "    <tr>\n",
              "      <th>1</th>\n",
              "      <td>2021</td>\n",
              "      <td>All Ages</td>\n",
              "      <td>2.0</td>\n",
              "      <td>Cancer (malignant neoplasms)</td>\n",
              "      <td>318670</td>\n",
              "      <td>193.9</td>\n",
              "    </tr>\n",
              "    <tr>\n",
              "      <th>2</th>\n",
              "      <td>2021</td>\n",
              "      <td>All Ages</td>\n",
              "      <td>3.0</td>\n",
              "      <td>COVID-19</td>\n",
              "      <td>236610</td>\n",
              "      <td>143.9</td>\n",
              "    </tr>\n",
              "    <tr>\n",
              "      <th>3</th>\n",
              "      <td>2021</td>\n",
              "      <td>All Ages</td>\n",
              "      <td>4.0</td>\n",
              "      <td>Preventable injury</td>\n",
              "      <td>149602</td>\n",
              "      <td>91.0</td>\n",
              "    </tr>\n",
              "    <tr>\n",
              "      <th>4</th>\n",
              "      <td>2021</td>\n",
              "      <td>All Ages</td>\n",
              "      <td>5.0</td>\n",
              "      <td>Stroke (cerebrovascular disease)</td>\n",
              "      <td>70852</td>\n",
              "      <td>43.1</td>\n",
              "    </tr>\n",
              "    <tr>\n",
              "      <th>...</th>\n",
              "      <td>...</td>\n",
              "      <td>...</td>\n",
              "      <td>...</td>\n",
              "      <td>...</td>\n",
              "      <td>...</td>\n",
              "      <td>...</td>\n",
              "    </tr>\n",
              "    <tr>\n",
              "      <th>2985</th>\n",
              "      <td>1999</td>\n",
              "      <td>All Ages</td>\n",
              "      <td>6.0</td>\n",
              "      <td>Diabetes mellitus</td>\n",
              "      <td>31150</td>\n",
              "      <td>22.8</td>\n",
              "    </tr>\n",
              "    <tr>\n",
              "      <th>2986</th>\n",
              "      <td>1999</td>\n",
              "      <td>All Ages</td>\n",
              "      <td>7.0</td>\n",
              "      <td>Influenza and pneumonia</td>\n",
              "      <td>27718</td>\n",
              "      <td>20.3</td>\n",
              "    </tr>\n",
              "    <tr>\n",
              "      <th>2987</th>\n",
              "      <td>1999</td>\n",
              "      <td>All Ages</td>\n",
              "      <td>8.0</td>\n",
              "      <td>Suicide</td>\n",
              "      <td>23458</td>\n",
              "      <td>17.1</td>\n",
              "    </tr>\n",
              "    <tr>\n",
              "      <th>2988</th>\n",
              "      <td>1999</td>\n",
              "      <td>All Ages</td>\n",
              "      <td>9.0</td>\n",
              "      <td>Liver disease</td>\n",
              "      <td>17115</td>\n",
              "      <td>12.5</td>\n",
              "    </tr>\n",
              "    <tr>\n",
              "      <th>2989</th>\n",
              "      <td>1999</td>\n",
              "      <td>All Ages</td>\n",
              "      <td>10.0</td>\n",
              "      <td>Nephritis</td>\n",
              "      <td>17016</td>\n",
              "      <td>12.4</td>\n",
              "    </tr>\n",
              "  </tbody>\n",
              "</table>\n",
              "<p>2990 rows × 6 columns</p>\n",
              "</div>"
            ],
            "text/plain": [
              "      Year Age Group  Rank                    Cause of Death  Deaths  Rate (a)\n",
              "0     2021  All Ages   1.0                     Heart disease  384886     234.1\n",
              "1     2021  All Ages   2.0      Cancer (malignant neoplasms)  318670     193.9\n",
              "2     2021  All Ages   3.0                          COVID-19  236610     143.9\n",
              "3     2021  All Ages   4.0                Preventable injury  149602      91.0\n",
              "4     2021  All Ages   5.0  Stroke (cerebrovascular disease)   70852      43.1\n",
              "...    ...       ...   ...                               ...     ...       ...\n",
              "2985  1999  All Ages   6.0                 Diabetes mellitus   31150      22.8\n",
              "2986  1999  All Ages   7.0           Influenza and pneumonia   27718      20.3\n",
              "2987  1999  All Ages   8.0                           Suicide   23458      17.1\n",
              "2988  1999  All Ages   9.0                     Liver disease   17115      12.5\n",
              "2989  1999  All Ages  10.0                         Nephritis   17016      12.4\n",
              "\n",
              "[2990 rows x 6 columns]"
            ]
          },
          "execution_count": 42,
          "metadata": {},
          "output_type": "execute_result"
        }
      ],
      "source": [
        "cause_of_death_male_df = pd.read_excel(prefix+'All_leading_causes_of_death.xlsx', 'Male Leading Causes',skiprows=[0, 2992, 2993, 2994], usecols=lambda x: 'Unnamed' not in x,)\n",
        "cause_of_death_male_df"
      ]
    },
    {
      "cell_type": "code",
      "execution_count": 43,
      "metadata": {
        "colab": {
          "base_uri": "https://localhost:8080/",
          "height": 423
        },
        "id": "ocAcKj22mpe3",
        "outputId": "f1abde5a-5d7b-4109-da2e-a7db7a5fb7cd"
      },
      "outputs": [
        {
          "data": {
            "text/html": [
              "<div>\n",
              "<style scoped>\n",
              "    .dataframe tbody tr th:only-of-type {\n",
              "        vertical-align: middle;\n",
              "    }\n",
              "\n",
              "    .dataframe tbody tr th {\n",
              "        vertical-align: top;\n",
              "    }\n",
              "\n",
              "    .dataframe thead th {\n",
              "        text-align: right;\n",
              "    }\n",
              "</style>\n",
              "<table border=\"1\" class=\"dataframe\">\n",
              "  <thead>\n",
              "    <tr style=\"text-align: right;\">\n",
              "      <th></th>\n",
              "      <th>Year</th>\n",
              "      <th>Age Group</th>\n",
              "      <th>Rank</th>\n",
              "      <th>Cause of Death</th>\n",
              "      <th>Deaths</th>\n",
              "      <th>Rate (a)</th>\n",
              "    </tr>\n",
              "  </thead>\n",
              "  <tbody>\n",
              "    <tr>\n",
              "      <th>0</th>\n",
              "      <td>2021</td>\n",
              "      <td>All Ages</td>\n",
              "      <td>1.0</td>\n",
              "      <td>Heart disease</td>\n",
              "      <td>310661</td>\n",
              "      <td>185.5</td>\n",
              "    </tr>\n",
              "    <tr>\n",
              "      <th>1</th>\n",
              "      <td>2021</td>\n",
              "      <td>All Ages</td>\n",
              "      <td>2.0</td>\n",
              "      <td>Cancer (malignant neoplasms)</td>\n",
              "      <td>286543</td>\n",
              "      <td>171.1</td>\n",
              "    </tr>\n",
              "    <tr>\n",
              "      <th>2</th>\n",
              "      <td>2021</td>\n",
              "      <td>All Ages</td>\n",
              "      <td>3.0</td>\n",
              "      <td>COVID-19</td>\n",
              "      <td>180283</td>\n",
              "      <td>107.6</td>\n",
              "    </tr>\n",
              "    <tr>\n",
              "      <th>3</th>\n",
              "      <td>2021</td>\n",
              "      <td>All Ages</td>\n",
              "      <td>4.0</td>\n",
              "      <td>Stroke (cerebrovascular disease)</td>\n",
              "      <td>92038</td>\n",
              "      <td>54.9</td>\n",
              "    </tr>\n",
              "    <tr>\n",
              "      <th>4</th>\n",
              "      <td>2021</td>\n",
              "      <td>All Ages</td>\n",
              "      <td>5.0</td>\n",
              "      <td>Alzheimer's disease</td>\n",
              "      <td>82424</td>\n",
              "      <td>49.2</td>\n",
              "    </tr>\n",
              "    <tr>\n",
              "      <th>...</th>\n",
              "      <td>...</td>\n",
              "      <td>...</td>\n",
              "      <td>...</td>\n",
              "      <td>...</td>\n",
              "      <td>...</td>\n",
              "      <td>...</td>\n",
              "    </tr>\n",
              "    <tr>\n",
              "      <th>2985</th>\n",
              "      <td>1999</td>\n",
              "      <td>All Ages</td>\n",
              "      <td>6.0</td>\n",
              "      <td>Influenza and pneumonia</td>\n",
              "      <td>36012</td>\n",
              "      <td>25.3</td>\n",
              "    </tr>\n",
              "    <tr>\n",
              "      <th>2986</th>\n",
              "      <td>1999</td>\n",
              "      <td>All Ages</td>\n",
              "      <td>7.0</td>\n",
              "      <td>Preventable injury</td>\n",
              "      <td>34325</td>\n",
              "      <td>24.1</td>\n",
              "    </tr>\n",
              "    <tr>\n",
              "      <th>2987</th>\n",
              "      <td>1999</td>\n",
              "      <td>All Ages</td>\n",
              "      <td>8.0</td>\n",
              "      <td>Alzheimer's disease</td>\n",
              "      <td>31145</td>\n",
              "      <td>21.9</td>\n",
              "    </tr>\n",
              "    <tr>\n",
              "      <th>2988</th>\n",
              "      <td>1999</td>\n",
              "      <td>All Ages</td>\n",
              "      <td>9.0</td>\n",
              "      <td>Nephritis</td>\n",
              "      <td>18509</td>\n",
              "      <td>13.0</td>\n",
              "    </tr>\n",
              "    <tr>\n",
              "      <th>2989</th>\n",
              "      <td>1999</td>\n",
              "      <td>All Ages</td>\n",
              "      <td>10.0</td>\n",
              "      <td>Septicemia</td>\n",
              "      <td>17285</td>\n",
              "      <td>12.2</td>\n",
              "    </tr>\n",
              "  </tbody>\n",
              "</table>\n",
              "<p>2990 rows × 6 columns</p>\n",
              "</div>"
            ],
            "text/plain": [
              "      Year Age Group  Rank                    Cause of Death  Deaths  Rate (a)\n",
              "0     2021  All Ages   1.0                     Heart disease  310661     185.5\n",
              "1     2021  All Ages   2.0      Cancer (malignant neoplasms)  286543     171.1\n",
              "2     2021  All Ages   3.0                          COVID-19  180283     107.6\n",
              "3     2021  All Ages   4.0  Stroke (cerebrovascular disease)   92038      54.9\n",
              "4     2021  All Ages   5.0               Alzheimer's disease   82424      49.2\n",
              "...    ...       ...   ...                               ...     ...       ...\n",
              "2985  1999  All Ages   6.0           Influenza and pneumonia   36012      25.3\n",
              "2986  1999  All Ages   7.0                Preventable injury   34325      24.1\n",
              "2987  1999  All Ages   8.0               Alzheimer's disease   31145      21.9\n",
              "2988  1999  All Ages   9.0                         Nephritis   18509      13.0\n",
              "2989  1999  All Ages  10.0                        Septicemia   17285      12.2\n",
              "\n",
              "[2990 rows x 6 columns]"
            ]
          },
          "execution_count": 43,
          "metadata": {},
          "output_type": "execute_result"
        }
      ],
      "source": [
        "cause_of_death_female_df = pd.read_excel(prefix+'All_leading_causes_of_death.xlsx', 'Female Leading Causes',skiprows=[0, 2992, 2993, 2994], usecols=lambda x: 'Unnamed' not in x,)\n",
        "cause_of_death_female_df"
      ]
    },
    {
      "cell_type": "code",
      "execution_count": 44,
      "metadata": {
        "id": "We2sWtHDmpe3"
      },
      "outputs": [],
      "source": [
        "def plot_leading(chart_title, dataframe):\n",
        "    fig = go.Figure()\n",
        "    dataframe[\"Cause of Death\"].replace({'Heart Disease': 'Heart disease', 'Diabetes Mellitus': 'Diabetes mellitus', 'Alzheimer\\'s Disease': 'Alzheimer\\'s disease', 'Liver Disease':'Liver disease'}, inplace=True)\n",
        "    df = dataframe[dataframe['Age Group'] == 'All Ages']\n",
        "    for i, cause in enumerate(df['Cause of Death'].drop_duplicates()):\n",
        "        df2 = df[df['Cause of Death'] == cause]\n",
        "        fig.add_trace(go.Scatter(\n",
        "            x=df2['Year'],\n",
        "            y=df2['Rank'],\n",
        "            customdata=df2['Rate (a)'],\n",
        "            name=cause,\n",
        "            hovertemplate=\"Rank:%{y}: <br>Year: %{x} </br> 'Rate (a): %{customdata}\",\n",
        "            line_color=px.colors.qualitative.Bold[i % len(px.colors.qualitative.Pastel)],\n",
        "            mode=\"lines+markers\",\n",
        "            marker=dict(size=16),\n",
        "        ))\n",
        "    fig.update_yaxes(autorange=\"reversed\")\n",
        "    fig.update_traces(\n",
        "        line={\"width\": 12},\n",
        "        marker={\"size\": 16},\n",
        "        mode=\"lines+markers\",\n",
        "    )\n",
        "    fig.update_layout(yaxis={\"dtick\":1})\n",
        "    fig.update_layout(\n",
        "        title=chart_title,\n",
        "        xaxis=dict(\n",
        "            rangeselector=dict(\n",
        "                buttons=list([\n",
        "                    dict(count=2,\n",
        "                        label=\"2y\",\n",
        "                        step=\"year\",\n",
        "                        stepmode=\"backward\"),\n",
        "                    dict(count=5,\n",
        "                        label=\"5y\",\n",
        "                        step=\"year\",\n",
        "                        stepmode=\"backward\"),\n",
        "                        dict(count=10,\n",
        "                        label=\"10y\",\n",
        "                        step=\"year\",\n",
        "                        stepmode=\"backward\"),\n",
        "\n",
        "                    dict(step=\"all\")\n",
        "                ])\n",
        "            ),\n",
        "            rangeslider=dict(\n",
        "                visible=True,\n",
        "                thickness=0.02,\n",
        "                bgcolor='grey'\n",
        "            ),\n",
        "            type=\"date\",\n",
        "            title='Year'\n",
        "        ),\n",
        "        yaxis=dict(\n",
        "            title=\"Rank\",\n",
        "        )\n",
        "    )\n",
        "    fig.show()\n",
        "\n",
        "\n",
        "\n",
        "\n"
      ]
    },
    {
      "cell_type": "markdown",
      "metadata": {
        "id": "HOs7zShNmpe4"
      },
      "source": [
        "Przegląd głównych przyczyn śmierci w latach 1999-2021"
      ]
    },
    {
      "cell_type": "code",
      "execution_count": 45,
      "metadata": {
        "colab": {
          "base_uri": "https://localhost:8080/",
          "height": 542
        },
        "id": "YQbdHCY0mpe6",
        "outputId": "3239cf89-88bb-4d26-89ae-7f4ce24f5755"
      },
      "outputs": [
        {
          "data": {
            "application/vnd.plotly.v1+json": {
              "config": {
                "plotlyServerURL": "https://plot.ly"
              },
              "data": [
                {
                  "customdata": [
                    209.6,
                    211.5,
                    200.8,
                    200.3,
                    198.8,
                    196.6,
                    197.2,
                    192.6,
                    193.3,
                    191,
                    191.4,
                    193.6,
                    195.2,
                    202.7,
                    204.3,
                    211.5,
                    220.5,
                    222.7,
                    236,
                    242.2,
                    245.6,
                    251.9,
                    259.9
                  ],
                  "hovertemplate": "Rank:%{y}: <br>Year: %{x} </br> 'Rate (a): %{customdata}",
                  "line": {
                    "color": "rgb(127, 60, 141)",
                    "width": 12
                  },
                  "marker": {
                    "size": 16
                  },
                  "mode": "lines+markers",
                  "name": "Heart disease",
                  "type": "scatter",
                  "x": [
                    2021,
                    2020,
                    2019,
                    2018,
                    2017,
                    2016,
                    2015,
                    2014,
                    2013,
                    2012,
                    2011,
                    2010,
                    2009,
                    2008,
                    2007,
                    2006,
                    2005,
                    2004,
                    2003,
                    2002,
                    2001,
                    2000,
                    1999
                  ],
                  "y": [
                    1,
                    1,
                    1,
                    1,
                    1,
                    1,
                    1,
                    1,
                    1,
                    1,
                    1,
                    1,
                    1,
                    1,
                    1,
                    1,
                    1,
                    1,
                    1,
                    1,
                    1,
                    1,
                    1
                  ]
                },
                {
                  "customdata": [
                    182.4,
                    182.8,
                    182.7,
                    183.2,
                    183.9,
                    185.1,
                    185.4,
                    185.5,
                    185,
                    185.5,
                    185,
                    186.2,
                    184.9,
                    185.8,
                    186.6,
                    187.5,
                    189.1,
                    189,
                    191.8,
                    193.6,
                    194.2,
                    196,
                    197
                  ],
                  "hovertemplate": "Rank:%{y}: <br>Year: %{x} </br> 'Rate (a): %{customdata}",
                  "line": {
                    "color": "rgb(17, 165, 121)",
                    "width": 12
                  },
                  "marker": {
                    "size": 16
                  },
                  "mode": "lines+markers",
                  "name": "Cancer (malignant neoplasms)",
                  "type": "scatter",
                  "x": [
                    2021,
                    2020,
                    2019,
                    2018,
                    2017,
                    2016,
                    2015,
                    2014,
                    2013,
                    2012,
                    2011,
                    2010,
                    2009,
                    2008,
                    2007,
                    2006,
                    2005,
                    2004,
                    2003,
                    2002,
                    2001,
                    2000,
                    1999
                  ],
                  "y": [
                    2,
                    2,
                    2,
                    2,
                    2,
                    2,
                    2,
                    2,
                    2,
                    2,
                    2,
                    2,
                    2,
                    2,
                    2,
                    2,
                    2,
                    2,
                    2,
                    2,
                    2,
                    2,
                    2
                  ]
                },
                {
                  "customdata": [
                    125.6,
                    106.5
                  ],
                  "hovertemplate": "Rank:%{y}: <br>Year: %{x} </br> 'Rate (a): %{customdata}",
                  "line": {
                    "color": "rgb(57, 105, 172)",
                    "width": 12
                  },
                  "marker": {
                    "size": 16
                  },
                  "mode": "lines+markers",
                  "name": "COVID-19",
                  "type": "scatter",
                  "x": [
                    2021,
                    2020
                  ],
                  "y": [
                    3,
                    3
                  ]
                },
                {
                  "customdata": [
                    67.8,
                    61,
                    52.7,
                    51.1,
                    52.2,
                    49.9,
                    45.6,
                    42.6,
                    41.3,
                    40.7,
                    40.6,
                    39.1,
                    38.4,
                    40,
                    41,
                    40.7,
                    39.8,
                    38.2,
                    37.6,
                    37.1,
                    35.6,
                    34.7,
                    35.1
                  ],
                  "hovertemplate": "Rank:%{y}: <br>Year: %{x} </br> 'Rate (a): %{customdata}",
                  "line": {
                    "color": "rgb(242, 183, 1)",
                    "width": 12
                  },
                  "marker": {
                    "size": 16
                  },
                  "mode": "lines+markers",
                  "name": "Preventable injury",
                  "type": "scatter",
                  "x": [
                    2021,
                    2020,
                    2019,
                    2018,
                    2017,
                    2016,
                    2015,
                    2014,
                    2013,
                    2012,
                    2011,
                    2010,
                    2009,
                    2008,
                    2007,
                    2006,
                    2005,
                    2004,
                    2003,
                    2002,
                    2001,
                    2000,
                    1999
                  ],
                  "y": [
                    4,
                    4,
                    3,
                    3,
                    3,
                    3,
                    4,
                    4,
                    4,
                    5,
                    5,
                    5,
                    5,
                    5,
                    5,
                    5,
                    5,
                    5,
                    5,
                    5,
                    5,
                    5,
                    5
                  ]
                },
                {
                  "customdata": [
                    49.1,
                    48.6,
                    45.7,
                    45.2,
                    44.9,
                    44,
                    43.7,
                    41.7,
                    40.8,
                    40.9,
                    41.4,
                    41.9,
                    42,
                    44.1,
                    45.1,
                    45.9,
                    48.5,
                    51.2,
                    54.3,
                    56.5,
                    57.4,
                    59.4,
                    60
                  ],
                  "hovertemplate": "Rank:%{y}: <br>Year: %{x} </br> 'Rate (a): %{customdata}",
                  "line": {
                    "color": "rgb(231, 63, 116)",
                    "width": 12
                  },
                  "marker": {
                    "size": 16
                  },
                  "mode": "lines+markers",
                  "name": "Stroke (cerebrovascular disease)",
                  "type": "scatter",
                  "x": [
                    2021,
                    2020,
                    2019,
                    2018,
                    2017,
                    2016,
                    2015,
                    2014,
                    2013,
                    2012,
                    2011,
                    2010,
                    2009,
                    2008,
                    2007,
                    2006,
                    2005,
                    2004,
                    2003,
                    2002,
                    2001,
                    2000,
                    1999
                  ],
                  "y": [
                    5,
                    5,
                    5,
                    5,
                    5,
                    5,
                    5,
                    5,
                    5,
                    4,
                    4,
                    4,
                    4,
                    4,
                    3,
                    3,
                    3,
                    3,
                    3,
                    3,
                    3,
                    3,
                    3
                  ]
                },
                {
                  "customdata": [
                    42.9,
                    46.3,
                    47.8,
                    48.7,
                    49.2,
                    47.8,
                    48.2,
                    46.1,
                    47.2,
                    45.7,
                    45.9,
                    44.7,
                    44.7,
                    46.4,
                    42.4,
                    41.7,
                    44.3,
                    41.6,
                    43.5,
                    43.4,
                    43.2,
                    43.2,
                    44.5
                  ],
                  "hovertemplate": "Rank:%{y}: <br>Year: %{x} </br> 'Rate (a): %{customdata}",
                  "line": {
                    "color": "rgb(128, 186, 90)",
                    "width": 12
                  },
                  "marker": {
                    "size": 16
                  },
                  "mode": "lines+markers",
                  "name": "Chronic lower respiratory diseases",
                  "type": "scatter",
                  "x": [
                    2021,
                    2020,
                    2019,
                    2018,
                    2017,
                    2016,
                    2015,
                    2014,
                    2013,
                    2012,
                    2011,
                    2010,
                    2009,
                    2008,
                    2007,
                    2006,
                    2005,
                    2004,
                    2003,
                    2002,
                    2001,
                    2000,
                    1999
                  ],
                  "y": [
                    6,
                    6,
                    4,
                    4,
                    4,
                    4,
                    3,
                    3,
                    3,
                    3,
                    3,
                    3,
                    3,
                    3,
                    4,
                    4,
                    4,
                    4,
                    4,
                    4,
                    4,
                    4,
                    4
                  ]
                },
                {
                  "customdata": [
                    36,
                    40.7,
                    37,
                    37.3,
                    37.3,
                    35.9,
                    34.4,
                    29.3,
                    26.8,
                    26.6,
                    27.3,
                    27,
                    25.7,
                    27.1,
                    24.7,
                    24.3,
                    24.2,
                    22.5,
                    21.9,
                    20.5,
                    18.9,
                    17.6,
                    16
                  ],
                  "hovertemplate": "Rank:%{y}: <br>Year: %{x} </br> 'Rate (a): %{customdata}",
                  "line": {
                    "color": "rgb(230, 131, 16)",
                    "width": 12
                  },
                  "marker": {
                    "size": 16
                  },
                  "mode": "lines+markers",
                  "name": "Alzheimer's disease",
                  "type": "scatter",
                  "x": [
                    2021,
                    2020,
                    2019,
                    2018,
                    2017,
                    2016,
                    2015,
                    2014,
                    2013,
                    2012,
                    2011,
                    2010,
                    2009,
                    2008,
                    2007,
                    2006,
                    2005,
                    2004,
                    2003,
                    2002,
                    2001,
                    2000,
                    1999
                  ],
                  "y": [
                    7,
                    7,
                    6,
                    6,
                    6,
                    6,
                    6,
                    6,
                    6,
                    6,
                    6,
                    6,
                    6,
                    6,
                    6,
                    7,
                    7,
                    7,
                    8,
                    8,
                    8,
                    8,
                    8
                  ]
                },
                {
                  "customdata": [
                    31.1,
                    31,
                    26.7,
                    26,
                    25.7,
                    24.8,
                    24.7,
                    24,
                    23.9,
                    23.5,
                    23.7,
                    22.4,
                    22.4,
                    23.2,
                    23.7,
                    24.3,
                    25.4,
                    25,
                    25.6,
                    25.5,
                    25,
                    24.6,
                    24.5
                  ],
                  "hovertemplate": "Rank:%{y}: <br>Year: %{x} </br> 'Rate (a): %{customdata}",
                  "line": {
                    "color": "rgb(0, 134, 149)",
                    "width": 12
                  },
                  "marker": {
                    "size": 16
                  },
                  "mode": "lines+markers",
                  "name": "Diabetes mellitus",
                  "type": "scatter",
                  "x": [
                    2021,
                    2020,
                    2019,
                    2018,
                    2017,
                    2016,
                    2015,
                    2014,
                    2013,
                    2012,
                    2011,
                    2010,
                    2009,
                    2008,
                    2007,
                    2006,
                    2005,
                    2004,
                    2003,
                    2002,
                    2001,
                    2000,
                    1999
                  ],
                  "y": [
                    8,
                    8,
                    7,
                    7,
                    7,
                    7,
                    7,
                    7,
                    7,
                    7,
                    7,
                    7,
                    7,
                    7,
                    7,
                    6,
                    6,
                    6,
                    6,
                    6,
                    6,
                    6,
                    6
                  ]
                },
                {
                  "customdata": [
                    17
                  ],
                  "hovertemplate": "Rank:%{y}: <br>Year: %{x} </br> 'Rate (a): %{customdata}",
                  "line": {
                    "color": "rgb(207, 28, 144)",
                    "width": 12
                  },
                  "marker": {
                    "size": 16
                  },
                  "mode": "lines+markers",
                  "name": "Liver disease",
                  "type": "scatter",
                  "x": [
                    2021
                  ],
                  "y": [
                    9
                  ]
                },
                {
                  "customdata": [
                    16.4,
                    15.9,
                    15.7,
                    15.7,
                    15.5,
                    15.5,
                    15.5,
                    15.1,
                    14.9,
                    14.5,
                    14.6,
                    16.3,
                    15.9,
                    15.8,
                    15.4,
                    15.2,
                    14.8,
                    14.5,
                    14.6,
                    14.2,
                    13.8,
                    13.2,
                    12.7
                  ],
                  "hovertemplate": "Rank:%{y}: <br>Year: %{x} </br> 'Rate (a): %{customdata}",
                  "line": {
                    "color": "rgb(249, 123, 114)",
                    "width": 12
                  },
                  "marker": {
                    "size": 16
                  },
                  "mode": "lines+markers",
                  "name": "Nephritis",
                  "type": "scatter",
                  "x": [
                    2021,
                    2020,
                    2019,
                    2018,
                    2017,
                    2016,
                    2015,
                    2014,
                    2013,
                    2012,
                    2011,
                    2010,
                    2009,
                    2008,
                    2007,
                    2006,
                    2005,
                    2004,
                    2003,
                    2002,
                    2001,
                    2000,
                    1999
                  ],
                  "y": [
                    10,
                    10,
                    8,
                    9,
                    9,
                    9,
                    9,
                    9,
                    9,
                    9,
                    9,
                    8,
                    9,
                    9,
                    9,
                    9,
                    9,
                    9,
                    9,
                    9,
                    9,
                    9,
                    9
                  ]
                },
                {
                  "customdata": [
                    16.3,
                    15.2,
                    18.1,
                    17.1,
                    15.9,
                    17.8,
                    17.3,
                    18,
                    16.1,
                    17.3,
                    16.2,
                    17.5,
                    18.5,
                    17.5,
                    18.9,
                    21.3,
                    20.4,
                    22.4,
                    22.8,
                    21.8,
                    23.1,
                    22.8
                  ],
                  "hovertemplate": "Rank:%{y}: <br>Year: %{x} </br> 'Rate (a): %{customdata}",
                  "line": {
                    "color": "rgb(165, 170, 153)",
                    "width": 12
                  },
                  "marker": {
                    "size": 16
                  },
                  "mode": "lines+markers",
                  "name": "Influenza and pneumonia",
                  "type": "scatter",
                  "x": [
                    2020,
                    2019,
                    2018,
                    2017,
                    2016,
                    2015,
                    2014,
                    2013,
                    2012,
                    2011,
                    2010,
                    2009,
                    2008,
                    2007,
                    2006,
                    2005,
                    2004,
                    2003,
                    2002,
                    2001,
                    2000,
                    1999
                  ],
                  "y": [
                    9,
                    9,
                    8,
                    8,
                    8,
                    8,
                    8,
                    8,
                    8,
                    8,
                    9,
                    8,
                    8,
                    8,
                    8,
                    8,
                    8,
                    7,
                    7,
                    7,
                    7,
                    7
                  ]
                },
                {
                  "customdata": [
                    14.5,
                    14.8,
                    14.5,
                    13.9,
                    13.7,
                    13.4,
                    13,
                    12.9,
                    12.7,
                    12.4,
                    12,
                    11.8
                  ],
                  "hovertemplate": "Rank:%{y}: <br>Year: %{x} </br> 'Rate (a): %{customdata}",
                  "line": {
                    "color": "rgb(127, 60, 141)",
                    "width": 12
                  },
                  "marker": {
                    "size": 16
                  },
                  "mode": "lines+markers",
                  "name": "Suicide",
                  "type": "scatter",
                  "x": [
                    2019,
                    2018,
                    2017,
                    2016,
                    2015,
                    2014,
                    2013,
                    2012,
                    2011,
                    2010,
                    2009,
                    2008
                  ],
                  "y": [
                    10,
                    10,
                    10,
                    10,
                    10,
                    10,
                    10,
                    10,
                    10,
                    10,
                    10,
                    10
                  ]
                },
                {
                  "customdata": [
                    11.5,
                    11.5,
                    11.5,
                    11.4,
                    11.7,
                    11.8,
                    11.3,
                    11.1,
                    11
                  ],
                  "hovertemplate": "Rank:%{y}: <br>Year: %{x} </br> 'Rate (a): %{customdata}",
                  "line": {
                    "color": "rgb(17, 165, 121)",
                    "width": 12
                  },
                  "marker": {
                    "size": 16
                  },
                  "mode": "lines+markers",
                  "name": "Septicemia",
                  "type": "scatter",
                  "x": [
                    2007,
                    2006,
                    2005,
                    2004,
                    2003,
                    2002,
                    2001,
                    2000,
                    1999
                  ],
                  "y": [
                    10,
                    10,
                    10,
                    10,
                    10,
                    10,
                    10,
                    10,
                    10
                  ]
                }
              ],
              "layout": {
                "template": {
                  "data": {
                    "bar": [
                      {
                        "error_x": {
                          "color": "#2a3f5f"
                        },
                        "error_y": {
                          "color": "#2a3f5f"
                        },
                        "marker": {
                          "line": {
                            "color": "#E5ECF6",
                            "width": 0.5
                          },
                          "pattern": {
                            "fillmode": "overlay",
                            "size": 10,
                            "solidity": 0.2
                          }
                        },
                        "type": "bar"
                      }
                    ],
                    "barpolar": [
                      {
                        "marker": {
                          "line": {
                            "color": "#E5ECF6",
                            "width": 0.5
                          },
                          "pattern": {
                            "fillmode": "overlay",
                            "size": 10,
                            "solidity": 0.2
                          }
                        },
                        "type": "barpolar"
                      }
                    ],
                    "carpet": [
                      {
                        "aaxis": {
                          "endlinecolor": "#2a3f5f",
                          "gridcolor": "white",
                          "linecolor": "white",
                          "minorgridcolor": "white",
                          "startlinecolor": "#2a3f5f"
                        },
                        "baxis": {
                          "endlinecolor": "#2a3f5f",
                          "gridcolor": "white",
                          "linecolor": "white",
                          "minorgridcolor": "white",
                          "startlinecolor": "#2a3f5f"
                        },
                        "type": "carpet"
                      }
                    ],
                    "choropleth": [
                      {
                        "colorbar": {
                          "outlinewidth": 0,
                          "ticks": ""
                        },
                        "type": "choropleth"
                      }
                    ],
                    "contour": [
                      {
                        "colorbar": {
                          "outlinewidth": 0,
                          "ticks": ""
                        },
                        "colorscale": [
                          [
                            0,
                            "#0d0887"
                          ],
                          [
                            0.1111111111111111,
                            "#46039f"
                          ],
                          [
                            0.2222222222222222,
                            "#7201a8"
                          ],
                          [
                            0.3333333333333333,
                            "#9c179e"
                          ],
                          [
                            0.4444444444444444,
                            "#bd3786"
                          ],
                          [
                            0.5555555555555556,
                            "#d8576b"
                          ],
                          [
                            0.6666666666666666,
                            "#ed7953"
                          ],
                          [
                            0.7777777777777778,
                            "#fb9f3a"
                          ],
                          [
                            0.8888888888888888,
                            "#fdca26"
                          ],
                          [
                            1,
                            "#f0f921"
                          ]
                        ],
                        "type": "contour"
                      }
                    ],
                    "contourcarpet": [
                      {
                        "colorbar": {
                          "outlinewidth": 0,
                          "ticks": ""
                        },
                        "type": "contourcarpet"
                      }
                    ],
                    "heatmap": [
                      {
                        "colorbar": {
                          "outlinewidth": 0,
                          "ticks": ""
                        },
                        "colorscale": [
                          [
                            0,
                            "#0d0887"
                          ],
                          [
                            0.1111111111111111,
                            "#46039f"
                          ],
                          [
                            0.2222222222222222,
                            "#7201a8"
                          ],
                          [
                            0.3333333333333333,
                            "#9c179e"
                          ],
                          [
                            0.4444444444444444,
                            "#bd3786"
                          ],
                          [
                            0.5555555555555556,
                            "#d8576b"
                          ],
                          [
                            0.6666666666666666,
                            "#ed7953"
                          ],
                          [
                            0.7777777777777778,
                            "#fb9f3a"
                          ],
                          [
                            0.8888888888888888,
                            "#fdca26"
                          ],
                          [
                            1,
                            "#f0f921"
                          ]
                        ],
                        "type": "heatmap"
                      }
                    ],
                    "heatmapgl": [
                      {
                        "colorbar": {
                          "outlinewidth": 0,
                          "ticks": ""
                        },
                        "colorscale": [
                          [
                            0,
                            "#0d0887"
                          ],
                          [
                            0.1111111111111111,
                            "#46039f"
                          ],
                          [
                            0.2222222222222222,
                            "#7201a8"
                          ],
                          [
                            0.3333333333333333,
                            "#9c179e"
                          ],
                          [
                            0.4444444444444444,
                            "#bd3786"
                          ],
                          [
                            0.5555555555555556,
                            "#d8576b"
                          ],
                          [
                            0.6666666666666666,
                            "#ed7953"
                          ],
                          [
                            0.7777777777777778,
                            "#fb9f3a"
                          ],
                          [
                            0.8888888888888888,
                            "#fdca26"
                          ],
                          [
                            1,
                            "#f0f921"
                          ]
                        ],
                        "type": "heatmapgl"
                      }
                    ],
                    "histogram": [
                      {
                        "marker": {
                          "pattern": {
                            "fillmode": "overlay",
                            "size": 10,
                            "solidity": 0.2
                          }
                        },
                        "type": "histogram"
                      }
                    ],
                    "histogram2d": [
                      {
                        "colorbar": {
                          "outlinewidth": 0,
                          "ticks": ""
                        },
                        "colorscale": [
                          [
                            0,
                            "#0d0887"
                          ],
                          [
                            0.1111111111111111,
                            "#46039f"
                          ],
                          [
                            0.2222222222222222,
                            "#7201a8"
                          ],
                          [
                            0.3333333333333333,
                            "#9c179e"
                          ],
                          [
                            0.4444444444444444,
                            "#bd3786"
                          ],
                          [
                            0.5555555555555556,
                            "#d8576b"
                          ],
                          [
                            0.6666666666666666,
                            "#ed7953"
                          ],
                          [
                            0.7777777777777778,
                            "#fb9f3a"
                          ],
                          [
                            0.8888888888888888,
                            "#fdca26"
                          ],
                          [
                            1,
                            "#f0f921"
                          ]
                        ],
                        "type": "histogram2d"
                      }
                    ],
                    "histogram2dcontour": [
                      {
                        "colorbar": {
                          "outlinewidth": 0,
                          "ticks": ""
                        },
                        "colorscale": [
                          [
                            0,
                            "#0d0887"
                          ],
                          [
                            0.1111111111111111,
                            "#46039f"
                          ],
                          [
                            0.2222222222222222,
                            "#7201a8"
                          ],
                          [
                            0.3333333333333333,
                            "#9c179e"
                          ],
                          [
                            0.4444444444444444,
                            "#bd3786"
                          ],
                          [
                            0.5555555555555556,
                            "#d8576b"
                          ],
                          [
                            0.6666666666666666,
                            "#ed7953"
                          ],
                          [
                            0.7777777777777778,
                            "#fb9f3a"
                          ],
                          [
                            0.8888888888888888,
                            "#fdca26"
                          ],
                          [
                            1,
                            "#f0f921"
                          ]
                        ],
                        "type": "histogram2dcontour"
                      }
                    ],
                    "mesh3d": [
                      {
                        "colorbar": {
                          "outlinewidth": 0,
                          "ticks": ""
                        },
                        "type": "mesh3d"
                      }
                    ],
                    "parcoords": [
                      {
                        "line": {
                          "colorbar": {
                            "outlinewidth": 0,
                            "ticks": ""
                          }
                        },
                        "type": "parcoords"
                      }
                    ],
                    "pie": [
                      {
                        "automargin": true,
                        "type": "pie"
                      }
                    ],
                    "scatter": [
                      {
                        "fillpattern": {
                          "fillmode": "overlay",
                          "size": 10,
                          "solidity": 0.2
                        },
                        "type": "scatter"
                      }
                    ],
                    "scatter3d": [
                      {
                        "line": {
                          "colorbar": {
                            "outlinewidth": 0,
                            "ticks": ""
                          }
                        },
                        "marker": {
                          "colorbar": {
                            "outlinewidth": 0,
                            "ticks": ""
                          }
                        },
                        "type": "scatter3d"
                      }
                    ],
                    "scattercarpet": [
                      {
                        "marker": {
                          "colorbar": {
                            "outlinewidth": 0,
                            "ticks": ""
                          }
                        },
                        "type": "scattercarpet"
                      }
                    ],
                    "scattergeo": [
                      {
                        "marker": {
                          "colorbar": {
                            "outlinewidth": 0,
                            "ticks": ""
                          }
                        },
                        "type": "scattergeo"
                      }
                    ],
                    "scattergl": [
                      {
                        "marker": {
                          "colorbar": {
                            "outlinewidth": 0,
                            "ticks": ""
                          }
                        },
                        "type": "scattergl"
                      }
                    ],
                    "scattermapbox": [
                      {
                        "marker": {
                          "colorbar": {
                            "outlinewidth": 0,
                            "ticks": ""
                          }
                        },
                        "type": "scattermapbox"
                      }
                    ],
                    "scatterpolar": [
                      {
                        "marker": {
                          "colorbar": {
                            "outlinewidth": 0,
                            "ticks": ""
                          }
                        },
                        "type": "scatterpolar"
                      }
                    ],
                    "scatterpolargl": [
                      {
                        "marker": {
                          "colorbar": {
                            "outlinewidth": 0,
                            "ticks": ""
                          }
                        },
                        "type": "scatterpolargl"
                      }
                    ],
                    "scatterternary": [
                      {
                        "marker": {
                          "colorbar": {
                            "outlinewidth": 0,
                            "ticks": ""
                          }
                        },
                        "type": "scatterternary"
                      }
                    ],
                    "surface": [
                      {
                        "colorbar": {
                          "outlinewidth": 0,
                          "ticks": ""
                        },
                        "colorscale": [
                          [
                            0,
                            "#0d0887"
                          ],
                          [
                            0.1111111111111111,
                            "#46039f"
                          ],
                          [
                            0.2222222222222222,
                            "#7201a8"
                          ],
                          [
                            0.3333333333333333,
                            "#9c179e"
                          ],
                          [
                            0.4444444444444444,
                            "#bd3786"
                          ],
                          [
                            0.5555555555555556,
                            "#d8576b"
                          ],
                          [
                            0.6666666666666666,
                            "#ed7953"
                          ],
                          [
                            0.7777777777777778,
                            "#fb9f3a"
                          ],
                          [
                            0.8888888888888888,
                            "#fdca26"
                          ],
                          [
                            1,
                            "#f0f921"
                          ]
                        ],
                        "type": "surface"
                      }
                    ],
                    "table": [
                      {
                        "cells": {
                          "fill": {
                            "color": "#EBF0F8"
                          },
                          "line": {
                            "color": "white"
                          }
                        },
                        "header": {
                          "fill": {
                            "color": "#C8D4E3"
                          },
                          "line": {
                            "color": "white"
                          }
                        },
                        "type": "table"
                      }
                    ]
                  },
                  "layout": {
                    "annotationdefaults": {
                      "arrowcolor": "#2a3f5f",
                      "arrowhead": 0,
                      "arrowwidth": 1
                    },
                    "autotypenumbers": "strict",
                    "coloraxis": {
                      "colorbar": {
                        "outlinewidth": 0,
                        "ticks": ""
                      }
                    },
                    "colorscale": {
                      "diverging": [
                        [
                          0,
                          "#8e0152"
                        ],
                        [
                          0.1,
                          "#c51b7d"
                        ],
                        [
                          0.2,
                          "#de77ae"
                        ],
                        [
                          0.3,
                          "#f1b6da"
                        ],
                        [
                          0.4,
                          "#fde0ef"
                        ],
                        [
                          0.5,
                          "#f7f7f7"
                        ],
                        [
                          0.6,
                          "#e6f5d0"
                        ],
                        [
                          0.7,
                          "#b8e186"
                        ],
                        [
                          0.8,
                          "#7fbc41"
                        ],
                        [
                          0.9,
                          "#4d9221"
                        ],
                        [
                          1,
                          "#276419"
                        ]
                      ],
                      "sequential": [
                        [
                          0,
                          "#0d0887"
                        ],
                        [
                          0.1111111111111111,
                          "#46039f"
                        ],
                        [
                          0.2222222222222222,
                          "#7201a8"
                        ],
                        [
                          0.3333333333333333,
                          "#9c179e"
                        ],
                        [
                          0.4444444444444444,
                          "#bd3786"
                        ],
                        [
                          0.5555555555555556,
                          "#d8576b"
                        ],
                        [
                          0.6666666666666666,
                          "#ed7953"
                        ],
                        [
                          0.7777777777777778,
                          "#fb9f3a"
                        ],
                        [
                          0.8888888888888888,
                          "#fdca26"
                        ],
                        [
                          1,
                          "#f0f921"
                        ]
                      ],
                      "sequentialminus": [
                        [
                          0,
                          "#0d0887"
                        ],
                        [
                          0.1111111111111111,
                          "#46039f"
                        ],
                        [
                          0.2222222222222222,
                          "#7201a8"
                        ],
                        [
                          0.3333333333333333,
                          "#9c179e"
                        ],
                        [
                          0.4444444444444444,
                          "#bd3786"
                        ],
                        [
                          0.5555555555555556,
                          "#d8576b"
                        ],
                        [
                          0.6666666666666666,
                          "#ed7953"
                        ],
                        [
                          0.7777777777777778,
                          "#fb9f3a"
                        ],
                        [
                          0.8888888888888888,
                          "#fdca26"
                        ],
                        [
                          1,
                          "#f0f921"
                        ]
                      ]
                    },
                    "colorway": [
                      "#636efa",
                      "#EF553B",
                      "#00cc96",
                      "#ab63fa",
                      "#FFA15A",
                      "#19d3f3",
                      "#FF6692",
                      "#B6E880",
                      "#FF97FF",
                      "#FECB52"
                    ],
                    "font": {
                      "color": "#2a3f5f"
                    },
                    "geo": {
                      "bgcolor": "white",
                      "lakecolor": "white",
                      "landcolor": "#E5ECF6",
                      "showlakes": true,
                      "showland": true,
                      "subunitcolor": "white"
                    },
                    "hoverlabel": {
                      "align": "left"
                    },
                    "hovermode": "closest",
                    "mapbox": {
                      "style": "light"
                    },
                    "paper_bgcolor": "white",
                    "plot_bgcolor": "#E5ECF6",
                    "polar": {
                      "angularaxis": {
                        "gridcolor": "white",
                        "linecolor": "white",
                        "ticks": ""
                      },
                      "bgcolor": "#E5ECF6",
                      "radialaxis": {
                        "gridcolor": "white",
                        "linecolor": "white",
                        "ticks": ""
                      }
                    },
                    "scene": {
                      "xaxis": {
                        "backgroundcolor": "#E5ECF6",
                        "gridcolor": "white",
                        "gridwidth": 2,
                        "linecolor": "white",
                        "showbackground": true,
                        "ticks": "",
                        "zerolinecolor": "white"
                      },
                      "yaxis": {
                        "backgroundcolor": "#E5ECF6",
                        "gridcolor": "white",
                        "gridwidth": 2,
                        "linecolor": "white",
                        "showbackground": true,
                        "ticks": "",
                        "zerolinecolor": "white"
                      },
                      "zaxis": {
                        "backgroundcolor": "#E5ECF6",
                        "gridcolor": "white",
                        "gridwidth": 2,
                        "linecolor": "white",
                        "showbackground": true,
                        "ticks": "",
                        "zerolinecolor": "white"
                      }
                    },
                    "shapedefaults": {
                      "line": {
                        "color": "#2a3f5f"
                      }
                    },
                    "ternary": {
                      "aaxis": {
                        "gridcolor": "white",
                        "linecolor": "white",
                        "ticks": ""
                      },
                      "baxis": {
                        "gridcolor": "white",
                        "linecolor": "white",
                        "ticks": ""
                      },
                      "bgcolor": "#E5ECF6",
                      "caxis": {
                        "gridcolor": "white",
                        "linecolor": "white",
                        "ticks": ""
                      }
                    },
                    "title": {
                      "x": 0.05
                    },
                    "xaxis": {
                      "automargin": true,
                      "gridcolor": "white",
                      "linecolor": "white",
                      "ticks": "",
                      "title": {
                        "standoff": 15
                      },
                      "zerolinecolor": "white",
                      "zerolinewidth": 2
                    },
                    "yaxis": {
                      "automargin": true,
                      "gridcolor": "white",
                      "linecolor": "white",
                      "ticks": "",
                      "title": {
                        "standoff": 15
                      },
                      "zerolinecolor": "white",
                      "zerolinewidth": 2
                    }
                  }
                },
                "title": {
                  "text": "Ranking of leading causes of death in USA 1999-2021"
                },
                "xaxis": {
                  "rangeselector": {
                    "buttons": [
                      {
                        "count": 2,
                        "label": "2y",
                        "step": "year",
                        "stepmode": "backward"
                      },
                      {
                        "count": 5,
                        "label": "5y",
                        "step": "year",
                        "stepmode": "backward"
                      },
                      {
                        "count": 10,
                        "label": "10y",
                        "step": "year",
                        "stepmode": "backward"
                      },
                      {
                        "step": "all"
                      }
                    ]
                  },
                  "rangeslider": {
                    "bgcolor": "grey",
                    "thickness": 0.02,
                    "visible": true
                  },
                  "title": {
                    "text": "Year"
                  },
                  "type": "date"
                },
                "yaxis": {
                  "autorange": "reversed",
                  "dtick": 1,
                  "title": {
                    "text": "Rank"
                  }
                }
              }
            }
          },
          "metadata": {},
          "output_type": "display_data"
        }
      ],
      "source": [
        "plot_leading('Ranking of leading causes of death in USA 1999-2021', cause_of_death_df)"
      ]
    },
    {
      "cell_type": "code",
      "execution_count": 46,
      "metadata": {
        "colab": {
          "base_uri": "https://localhost:8080/",
          "height": 542
        },
        "id": "pBnFPbrlmpe6",
        "outputId": "91133064-53d7-46f6-e215-b808f8a1e7b6"
      },
      "outputs": [
        {
          "data": {
            "application/vnd.plotly.v1+json": {
              "config": {
                "plotlyServerURL": "https://plot.ly"
              },
              "data": [
                {
                  "customdata": [
                    234.1,
                    235.9,
                    221.3,
                    220,
                    216.9,
                    213.3,
                    211.7,
                    207.1,
                    206.5,
                    202.3,
                    201.2,
                    202.5,
                    202.9,
                    207.4,
                    208.5,
                    214.7,
                    221.8,
                    223.4,
                    235.6,
                    241.1,
                    242.2,
                    249,
                    257
                  ],
                  "hovertemplate": "Rank:%{y}: <br>Year: %{x} </br> 'Rate (a): %{customdata}",
                  "line": {
                    "color": "rgb(127, 60, 141)",
                    "width": 12
                  },
                  "marker": {
                    "size": 16
                  },
                  "mode": "lines+markers",
                  "name": "Heart disease",
                  "type": "scatter",
                  "x": [
                    2021,
                    2020,
                    2019,
                    2018,
                    2017,
                    2016,
                    2015,
                    2014,
                    2013,
                    2012,
                    2011,
                    2010,
                    2009,
                    2008,
                    2007,
                    2006,
                    2005,
                    2004,
                    2003,
                    2002,
                    2001,
                    2000,
                    1999
                  ],
                  "y": [
                    1,
                    1,
                    1,
                    1,
                    1,
                    1,
                    1,
                    1,
                    1,
                    1,
                    1,
                    1,
                    1,
                    1,
                    1,
                    1,
                    1,
                    1,
                    1,
                    1,
                    1,
                    1,
                    1
                  ]
                },
                {
                  "customdata": [
                    193.9,
                    195.8,
                    195.4,
                    195.8,
                    196.5,
                    197.7,
                    198.3,
                    198.3,
                    197.7,
                    197.9,
                    197.2,
                    198.3,
                    195.9,
                    196.7,
                    197.1,
                    197.2,
                    199.5,
                    199,
                    201.8,
                    204.2,
                    205.1,
                    206.6,
                    208.9
                  ],
                  "hovertemplate": "Rank:%{y}: <br>Year: %{x} </br> 'Rate (a): %{customdata}",
                  "line": {
                    "color": "rgb(17, 165, 121)",
                    "width": 12
                  },
                  "marker": {
                    "size": 16
                  },
                  "mode": "lines+markers",
                  "name": "Cancer (malignant neoplasms)",
                  "type": "scatter",
                  "x": [
                    2021,
                    2020,
                    2019,
                    2018,
                    2017,
                    2016,
                    2015,
                    2014,
                    2013,
                    2012,
                    2011,
                    2010,
                    2009,
                    2008,
                    2007,
                    2006,
                    2005,
                    2004,
                    2003,
                    2002,
                    2001,
                    2000,
                    1999
                  ],
                  "y": [
                    2,
                    2,
                    2,
                    2,
                    2,
                    2,
                    2,
                    2,
                    2,
                    2,
                    2,
                    2,
                    2,
                    2,
                    2,
                    2,
                    2,
                    2,
                    2,
                    2,
                    2,
                    2,
                    2
                  ]
                },
                {
                  "customdata": [
                    143.9,
                    118.6
                  ],
                  "hovertemplate": "Rank:%{y}: <br>Year: %{x} </br> 'Rate (a): %{customdata}",
                  "line": {
                    "color": "rgb(57, 105, 172)",
                    "width": 12
                  },
                  "marker": {
                    "size": 16
                  },
                  "mode": "lines+markers",
                  "name": "COVID-19",
                  "type": "scatter",
                  "x": [
                    2021,
                    2020
                  ],
                  "y": [
                    3,
                    3
                  ]
                },
                {
                  "customdata": [
                    91,
                    82.1,
                    69.7,
                    67,
                    68.4,
                    65.3,
                    58.7,
                    54.4,
                    52.6,
                    51.8,
                    51.7,
                    50,
                    49.5,
                    52.2,
                    53.7,
                    53.7,
                    52.5,
                    50,
                    49.4,
                    49,
                    47.2,
                    46.1,
                    46.4
                  ],
                  "hovertemplate": "Rank:%{y}: <br>Year: %{x} </br> 'Rate (a): %{customdata}",
                  "line": {
                    "color": "rgb(242, 183, 1)",
                    "width": 12
                  },
                  "marker": {
                    "size": 16
                  },
                  "mode": "lines+markers",
                  "name": "Preventable injury",
                  "type": "scatter",
                  "x": [
                    2021,
                    2020,
                    2019,
                    2018,
                    2017,
                    2016,
                    2015,
                    2014,
                    2013,
                    2012,
                    2011,
                    2010,
                    2009,
                    2008,
                    2007,
                    2006,
                    2005,
                    2004,
                    2003,
                    2002,
                    2001,
                    2000,
                    1999
                  ],
                  "y": [
                    4,
                    4,
                    3,
                    3,
                    3,
                    3,
                    3,
                    3,
                    3,
                    3,
                    3,
                    3,
                    3,
                    3,
                    3,
                    3,
                    3,
                    3,
                    3,
                    3,
                    3,
                    4,
                    4
                  ]
                },
                {
                  "customdata": [
                    43.1,
                    42.9,
                    39.8,
                    39,
                    38.4,
                    37.3,
                    36.8,
                    35.3,
                    34.5,
                    34.1,
                    34.1,
                    34.5,
                    34.4,
                    35.7,
                    36.4,
                    37.1,
                    38.9,
                    40.8,
                    43.1,
                    44.3,
                    45.1,
                    46.8,
                    47.1
                  ],
                  "hovertemplate": "Rank:%{y}: <br>Year: %{x} </br> 'Rate (a): %{customdata}",
                  "line": {
                    "color": "rgb(231, 63, 116)",
                    "width": 12
                  },
                  "marker": {
                    "size": 16
                  },
                  "mode": "lines+markers",
                  "name": "Stroke (cerebrovascular disease)",
                  "type": "scatter",
                  "x": [
                    2021,
                    2020,
                    2019,
                    2018,
                    2017,
                    2016,
                    2015,
                    2014,
                    2013,
                    2012,
                    2011,
                    2010,
                    2009,
                    2008,
                    2007,
                    2006,
                    2005,
                    2004,
                    2003,
                    2002,
                    2001,
                    2000,
                    1999
                  ],
                  "y": [
                    5,
                    6,
                    5,
                    5,
                    5,
                    5,
                    5,
                    5,
                    5,
                    5,
                    5,
                    5,
                    5,
                    5,
                    5,
                    5,
                    5,
                    4,
                    4,
                    4,
                    4,
                    3,
                    3
                  ]
                },
                {
                  "customdata": [
                    41.1,
                    45,
                    45.6,
                    46.7,
                    46.8,
                    45.9,
                    45.8,
                    44.3,
                    45.2,
                    43.8,
                    44.1,
                    43.1,
                    43,
                    44.7,
                    41.2,
                    40.3,
                    42.9,
                    40.7,
                    42.6,
                    42.9,
                    42.6,
                    43.3,
                    45.6
                  ],
                  "hovertemplate": "Rank:%{y}: <br>Year: %{x} </br> 'Rate (a): %{customdata}",
                  "line": {
                    "color": "rgb(128, 186, 90)",
                    "width": 12
                  },
                  "marker": {
                    "size": 16
                  },
                  "mode": "lines+markers",
                  "name": "Chronic lower respiratory diseases",
                  "type": "scatter",
                  "x": [
                    2021,
                    2020,
                    2019,
                    2018,
                    2017,
                    2016,
                    2015,
                    2014,
                    2013,
                    2012,
                    2011,
                    2010,
                    2009,
                    2008,
                    2007,
                    2006,
                    2005,
                    2004,
                    2003,
                    2002,
                    2001,
                    2000,
                    1999
                  ],
                  "y": [
                    6,
                    5,
                    4,
                    4,
                    4,
                    4,
                    4,
                    4,
                    4,
                    4,
                    4,
                    4,
                    4,
                    4,
                    4,
                    4,
                    4,
                    5,
                    5,
                    5,
                    5,
                    5,
                    5
                  ]
                },
                {
                  "customdata": [
                    35.7,
                    35.5,
                    30.6,
                    29.5,
                    28.9,
                    27.5,
                    27.3,
                    26.2,
                    25.6,
                    25,
                    25,
                    23.4,
                    23.1,
                    23.6,
                    23.9,
                    24.5,
                    25.1,
                    24.5,
                    24.8,
                    24.3,
                    23.5,
                    22.8,
                    22.8
                  ],
                  "hovertemplate": "Rank:%{y}: <br>Year: %{x} </br> 'Rate (a): %{customdata}",
                  "line": {
                    "color": "rgb(230, 131, 16)",
                    "width": 12
                  },
                  "marker": {
                    "size": 16
                  },
                  "mode": "lines+markers",
                  "name": "Diabetes mellitus",
                  "type": "scatter",
                  "x": [
                    2021,
                    2020,
                    2019,
                    2018,
                    2017,
                    2016,
                    2015,
                    2014,
                    2013,
                    2012,
                    2011,
                    2010,
                    2009,
                    2008,
                    2007,
                    2006,
                    2005,
                    2004,
                    2003,
                    2002,
                    2001,
                    2000,
                    1999
                  ],
                  "y": [
                    7,
                    7,
                    6,
                    6,
                    6,
                    6,
                    6,
                    6,
                    6,
                    6,
                    6,
                    6,
                    6,
                    6,
                    6,
                    6,
                    6,
                    6,
                    6,
                    6,
                    6,
                    6,
                    6
                  ]
                },
                {
                  "customdata": [
                    23.3,
                    22.5,
                    23,
                    23.4,
                    22.9,
                    21.8,
                    21.5,
                    21.1,
                    20.6,
                    20.6,
                    20.2,
                    19.9,
                    19.2,
                    19,
                    18.3,
                    17.9,
                    17.8,
                    17.7,
                    17.7,
                    18,
                    17.6,
                    17.1,
                    17.1
                  ],
                  "hovertemplate": "Rank:%{y}: <br>Year: %{x} </br> 'Rate (a): %{customdata}",
                  "line": {
                    "color": "rgb(0, 134, 149)",
                    "width": 12
                  },
                  "marker": {
                    "size": 16
                  },
                  "mode": "lines+markers",
                  "name": "Suicide",
                  "type": "scatter",
                  "x": [
                    2021,
                    2020,
                    2019,
                    2018,
                    2017,
                    2016,
                    2015,
                    2014,
                    2013,
                    2012,
                    2011,
                    2010,
                    2009,
                    2008,
                    2007,
                    2006,
                    2005,
                    2004,
                    2003,
                    2002,
                    2001,
                    2000,
                    1999
                  ],
                  "y": [
                    8,
                    9,
                    8,
                    8,
                    8,
                    8,
                    7,
                    7,
                    7,
                    7,
                    7,
                    7,
                    7,
                    7,
                    7,
                    7,
                    8,
                    8,
                    8,
                    8,
                    8,
                    8,
                    8
                  ]
                },
                {
                  "customdata": [
                    22.5,
                    25.4,
                    23.5,
                    23.6,
                    23.3,
                    22.2,
                    21.3,
                    18.1,
                    16.6,
                    16.6,
                    16.8,
                    16.7,
                    15.8,
                    16.3,
                    14.7,
                    14.4,
                    14.1,
                    13.2,
                    12.9
                  ],
                  "hovertemplate": "Rank:%{y}: <br>Year: %{x} </br> 'Rate (a): %{customdata}",
                  "line": {
                    "color": "rgb(207, 28, 144)",
                    "width": 12
                  },
                  "marker": {
                    "size": 16
                  },
                  "mode": "lines+markers",
                  "name": "Alzheimer's disease",
                  "type": "scatter",
                  "x": [
                    2021,
                    2020,
                    2019,
                    2018,
                    2017,
                    2016,
                    2015,
                    2014,
                    2013,
                    2012,
                    2011,
                    2010,
                    2009,
                    2008,
                    2007,
                    2006,
                    2005,
                    2004,
                    2003
                  ],
                  "y": [
                    9,
                    8,
                    7,
                    7,
                    7,
                    7,
                    8,
                    8,
                    9,
                    8,
                    8,
                    8,
                    10,
                    9,
                    10,
                    10,
                    10,
                    10,
                    10
                  ]
                },
                {
                  "customdata": [
                    21.7,
                    20.1,
                    17.4,
                    16.9,
                    16.5,
                    16.2,
                    16.2,
                    15.7,
                    15.2,
                    12.3,
                    12.4,
                    12.4,
                    12.5
                  ],
                  "hovertemplate": "Rank:%{y}: <br>Year: %{x} </br> 'Rate (a): %{customdata}",
                  "line": {
                    "color": "rgb(249, 123, 114)",
                    "width": 12
                  },
                  "marker": {
                    "size": 16
                  },
                  "mode": "lines+markers",
                  "name": "Liver disease",
                  "type": "scatter",
                  "x": [
                    2021,
                    2020,
                    2019,
                    2018,
                    2017,
                    2016,
                    2015,
                    2014,
                    2013,
                    2002,
                    2001,
                    2000,
                    1999
                  ],
                  "y": [
                    10,
                    10,
                    9,
                    10,
                    10,
                    9,
                    10,
                    10,
                    10,
                    10,
                    10,
                    10,
                    9
                  ]
                },
                {
                  "customdata": [
                    16.5,
                    16,
                    14.7,
                    14.8,
                    16.4,
                    15.8,
                    15.7,
                    15.2,
                    15,
                    14.6,
                    14.1,
                    14.4,
                    13.9,
                    13.5,
                    12.9,
                    12.4
                  ],
                  "hovertemplate": "Rank:%{y}: <br>Year: %{x} </br> 'Rate (a): %{customdata}",
                  "line": {
                    "color": "rgb(165, 170, 153)",
                    "width": 12
                  },
                  "marker": {
                    "size": 16
                  },
                  "mode": "lines+markers",
                  "name": "Nephritis",
                  "type": "scatter",
                  "x": [
                    2019,
                    2016,
                    2012,
                    2011,
                    2010,
                    2009,
                    2008,
                    2007,
                    2006,
                    2005,
                    2004,
                    2003,
                    2002,
                    2001,
                    2000,
                    1999
                  ],
                  "y": [
                    10,
                    10,
                    10,
                    10,
                    9,
                    9,
                    10,
                    9,
                    9,
                    9,
                    9,
                    9,
                    9,
                    9,
                    9,
                    10
                  ]
                },
                {
                  "customdata": [
                    17.8,
                    16.6,
                    17,
                    16.9,
                    17.2,
                    15.5,
                    16.6,
                    15.6,
                    16.6,
                    17,
                    16.2,
                    17.4,
                    19.3,
                    18.6,
                    20.2,
                    20.4,
                    19.5,
                    20.7,
                    20.3
                  ],
                  "hovertemplate": "Rank:%{y}: <br>Year: %{x} </br> 'Rate (a): %{customdata}",
                  "line": {
                    "color": "rgb(127, 60, 141)",
                    "width": 12
                  },
                  "marker": {
                    "size": 16
                  },
                  "mode": "lines+markers",
                  "name": "Influenza and pneumonia",
                  "type": "scatter",
                  "x": [
                    2018,
                    2017,
                    2015,
                    2014,
                    2013,
                    2012,
                    2011,
                    2010,
                    2009,
                    2008,
                    2007,
                    2006,
                    2005,
                    2004,
                    2003,
                    2002,
                    2001,
                    2000,
                    1999
                  ],
                  "y": [
                    9,
                    9,
                    9,
                    9,
                    8,
                    9,
                    9,
                    10,
                    8,
                    8,
                    8,
                    8,
                    7,
                    7,
                    7,
                    7,
                    7,
                    7,
                    7
                  ]
                }
              ],
              "layout": {
                "template": {
                  "data": {
                    "bar": [
                      {
                        "error_x": {
                          "color": "#2a3f5f"
                        },
                        "error_y": {
                          "color": "#2a3f5f"
                        },
                        "marker": {
                          "line": {
                            "color": "#E5ECF6",
                            "width": 0.5
                          },
                          "pattern": {
                            "fillmode": "overlay",
                            "size": 10,
                            "solidity": 0.2
                          }
                        },
                        "type": "bar"
                      }
                    ],
                    "barpolar": [
                      {
                        "marker": {
                          "line": {
                            "color": "#E5ECF6",
                            "width": 0.5
                          },
                          "pattern": {
                            "fillmode": "overlay",
                            "size": 10,
                            "solidity": 0.2
                          }
                        },
                        "type": "barpolar"
                      }
                    ],
                    "carpet": [
                      {
                        "aaxis": {
                          "endlinecolor": "#2a3f5f",
                          "gridcolor": "white",
                          "linecolor": "white",
                          "minorgridcolor": "white",
                          "startlinecolor": "#2a3f5f"
                        },
                        "baxis": {
                          "endlinecolor": "#2a3f5f",
                          "gridcolor": "white",
                          "linecolor": "white",
                          "minorgridcolor": "white",
                          "startlinecolor": "#2a3f5f"
                        },
                        "type": "carpet"
                      }
                    ],
                    "choropleth": [
                      {
                        "colorbar": {
                          "outlinewidth": 0,
                          "ticks": ""
                        },
                        "type": "choropleth"
                      }
                    ],
                    "contour": [
                      {
                        "colorbar": {
                          "outlinewidth": 0,
                          "ticks": ""
                        },
                        "colorscale": [
                          [
                            0,
                            "#0d0887"
                          ],
                          [
                            0.1111111111111111,
                            "#46039f"
                          ],
                          [
                            0.2222222222222222,
                            "#7201a8"
                          ],
                          [
                            0.3333333333333333,
                            "#9c179e"
                          ],
                          [
                            0.4444444444444444,
                            "#bd3786"
                          ],
                          [
                            0.5555555555555556,
                            "#d8576b"
                          ],
                          [
                            0.6666666666666666,
                            "#ed7953"
                          ],
                          [
                            0.7777777777777778,
                            "#fb9f3a"
                          ],
                          [
                            0.8888888888888888,
                            "#fdca26"
                          ],
                          [
                            1,
                            "#f0f921"
                          ]
                        ],
                        "type": "contour"
                      }
                    ],
                    "contourcarpet": [
                      {
                        "colorbar": {
                          "outlinewidth": 0,
                          "ticks": ""
                        },
                        "type": "contourcarpet"
                      }
                    ],
                    "heatmap": [
                      {
                        "colorbar": {
                          "outlinewidth": 0,
                          "ticks": ""
                        },
                        "colorscale": [
                          [
                            0,
                            "#0d0887"
                          ],
                          [
                            0.1111111111111111,
                            "#46039f"
                          ],
                          [
                            0.2222222222222222,
                            "#7201a8"
                          ],
                          [
                            0.3333333333333333,
                            "#9c179e"
                          ],
                          [
                            0.4444444444444444,
                            "#bd3786"
                          ],
                          [
                            0.5555555555555556,
                            "#d8576b"
                          ],
                          [
                            0.6666666666666666,
                            "#ed7953"
                          ],
                          [
                            0.7777777777777778,
                            "#fb9f3a"
                          ],
                          [
                            0.8888888888888888,
                            "#fdca26"
                          ],
                          [
                            1,
                            "#f0f921"
                          ]
                        ],
                        "type": "heatmap"
                      }
                    ],
                    "heatmapgl": [
                      {
                        "colorbar": {
                          "outlinewidth": 0,
                          "ticks": ""
                        },
                        "colorscale": [
                          [
                            0,
                            "#0d0887"
                          ],
                          [
                            0.1111111111111111,
                            "#46039f"
                          ],
                          [
                            0.2222222222222222,
                            "#7201a8"
                          ],
                          [
                            0.3333333333333333,
                            "#9c179e"
                          ],
                          [
                            0.4444444444444444,
                            "#bd3786"
                          ],
                          [
                            0.5555555555555556,
                            "#d8576b"
                          ],
                          [
                            0.6666666666666666,
                            "#ed7953"
                          ],
                          [
                            0.7777777777777778,
                            "#fb9f3a"
                          ],
                          [
                            0.8888888888888888,
                            "#fdca26"
                          ],
                          [
                            1,
                            "#f0f921"
                          ]
                        ],
                        "type": "heatmapgl"
                      }
                    ],
                    "histogram": [
                      {
                        "marker": {
                          "pattern": {
                            "fillmode": "overlay",
                            "size": 10,
                            "solidity": 0.2
                          }
                        },
                        "type": "histogram"
                      }
                    ],
                    "histogram2d": [
                      {
                        "colorbar": {
                          "outlinewidth": 0,
                          "ticks": ""
                        },
                        "colorscale": [
                          [
                            0,
                            "#0d0887"
                          ],
                          [
                            0.1111111111111111,
                            "#46039f"
                          ],
                          [
                            0.2222222222222222,
                            "#7201a8"
                          ],
                          [
                            0.3333333333333333,
                            "#9c179e"
                          ],
                          [
                            0.4444444444444444,
                            "#bd3786"
                          ],
                          [
                            0.5555555555555556,
                            "#d8576b"
                          ],
                          [
                            0.6666666666666666,
                            "#ed7953"
                          ],
                          [
                            0.7777777777777778,
                            "#fb9f3a"
                          ],
                          [
                            0.8888888888888888,
                            "#fdca26"
                          ],
                          [
                            1,
                            "#f0f921"
                          ]
                        ],
                        "type": "histogram2d"
                      }
                    ],
                    "histogram2dcontour": [
                      {
                        "colorbar": {
                          "outlinewidth": 0,
                          "ticks": ""
                        },
                        "colorscale": [
                          [
                            0,
                            "#0d0887"
                          ],
                          [
                            0.1111111111111111,
                            "#46039f"
                          ],
                          [
                            0.2222222222222222,
                            "#7201a8"
                          ],
                          [
                            0.3333333333333333,
                            "#9c179e"
                          ],
                          [
                            0.4444444444444444,
                            "#bd3786"
                          ],
                          [
                            0.5555555555555556,
                            "#d8576b"
                          ],
                          [
                            0.6666666666666666,
                            "#ed7953"
                          ],
                          [
                            0.7777777777777778,
                            "#fb9f3a"
                          ],
                          [
                            0.8888888888888888,
                            "#fdca26"
                          ],
                          [
                            1,
                            "#f0f921"
                          ]
                        ],
                        "type": "histogram2dcontour"
                      }
                    ],
                    "mesh3d": [
                      {
                        "colorbar": {
                          "outlinewidth": 0,
                          "ticks": ""
                        },
                        "type": "mesh3d"
                      }
                    ],
                    "parcoords": [
                      {
                        "line": {
                          "colorbar": {
                            "outlinewidth": 0,
                            "ticks": ""
                          }
                        },
                        "type": "parcoords"
                      }
                    ],
                    "pie": [
                      {
                        "automargin": true,
                        "type": "pie"
                      }
                    ],
                    "scatter": [
                      {
                        "fillpattern": {
                          "fillmode": "overlay",
                          "size": 10,
                          "solidity": 0.2
                        },
                        "type": "scatter"
                      }
                    ],
                    "scatter3d": [
                      {
                        "line": {
                          "colorbar": {
                            "outlinewidth": 0,
                            "ticks": ""
                          }
                        },
                        "marker": {
                          "colorbar": {
                            "outlinewidth": 0,
                            "ticks": ""
                          }
                        },
                        "type": "scatter3d"
                      }
                    ],
                    "scattercarpet": [
                      {
                        "marker": {
                          "colorbar": {
                            "outlinewidth": 0,
                            "ticks": ""
                          }
                        },
                        "type": "scattercarpet"
                      }
                    ],
                    "scattergeo": [
                      {
                        "marker": {
                          "colorbar": {
                            "outlinewidth": 0,
                            "ticks": ""
                          }
                        },
                        "type": "scattergeo"
                      }
                    ],
                    "scattergl": [
                      {
                        "marker": {
                          "colorbar": {
                            "outlinewidth": 0,
                            "ticks": ""
                          }
                        },
                        "type": "scattergl"
                      }
                    ],
                    "scattermapbox": [
                      {
                        "marker": {
                          "colorbar": {
                            "outlinewidth": 0,
                            "ticks": ""
                          }
                        },
                        "type": "scattermapbox"
                      }
                    ],
                    "scatterpolar": [
                      {
                        "marker": {
                          "colorbar": {
                            "outlinewidth": 0,
                            "ticks": ""
                          }
                        },
                        "type": "scatterpolar"
                      }
                    ],
                    "scatterpolargl": [
                      {
                        "marker": {
                          "colorbar": {
                            "outlinewidth": 0,
                            "ticks": ""
                          }
                        },
                        "type": "scatterpolargl"
                      }
                    ],
                    "scatterternary": [
                      {
                        "marker": {
                          "colorbar": {
                            "outlinewidth": 0,
                            "ticks": ""
                          }
                        },
                        "type": "scatterternary"
                      }
                    ],
                    "surface": [
                      {
                        "colorbar": {
                          "outlinewidth": 0,
                          "ticks": ""
                        },
                        "colorscale": [
                          [
                            0,
                            "#0d0887"
                          ],
                          [
                            0.1111111111111111,
                            "#46039f"
                          ],
                          [
                            0.2222222222222222,
                            "#7201a8"
                          ],
                          [
                            0.3333333333333333,
                            "#9c179e"
                          ],
                          [
                            0.4444444444444444,
                            "#bd3786"
                          ],
                          [
                            0.5555555555555556,
                            "#d8576b"
                          ],
                          [
                            0.6666666666666666,
                            "#ed7953"
                          ],
                          [
                            0.7777777777777778,
                            "#fb9f3a"
                          ],
                          [
                            0.8888888888888888,
                            "#fdca26"
                          ],
                          [
                            1,
                            "#f0f921"
                          ]
                        ],
                        "type": "surface"
                      }
                    ],
                    "table": [
                      {
                        "cells": {
                          "fill": {
                            "color": "#EBF0F8"
                          },
                          "line": {
                            "color": "white"
                          }
                        },
                        "header": {
                          "fill": {
                            "color": "#C8D4E3"
                          },
                          "line": {
                            "color": "white"
                          }
                        },
                        "type": "table"
                      }
                    ]
                  },
                  "layout": {
                    "annotationdefaults": {
                      "arrowcolor": "#2a3f5f",
                      "arrowhead": 0,
                      "arrowwidth": 1
                    },
                    "autotypenumbers": "strict",
                    "coloraxis": {
                      "colorbar": {
                        "outlinewidth": 0,
                        "ticks": ""
                      }
                    },
                    "colorscale": {
                      "diverging": [
                        [
                          0,
                          "#8e0152"
                        ],
                        [
                          0.1,
                          "#c51b7d"
                        ],
                        [
                          0.2,
                          "#de77ae"
                        ],
                        [
                          0.3,
                          "#f1b6da"
                        ],
                        [
                          0.4,
                          "#fde0ef"
                        ],
                        [
                          0.5,
                          "#f7f7f7"
                        ],
                        [
                          0.6,
                          "#e6f5d0"
                        ],
                        [
                          0.7,
                          "#b8e186"
                        ],
                        [
                          0.8,
                          "#7fbc41"
                        ],
                        [
                          0.9,
                          "#4d9221"
                        ],
                        [
                          1,
                          "#276419"
                        ]
                      ],
                      "sequential": [
                        [
                          0,
                          "#0d0887"
                        ],
                        [
                          0.1111111111111111,
                          "#46039f"
                        ],
                        [
                          0.2222222222222222,
                          "#7201a8"
                        ],
                        [
                          0.3333333333333333,
                          "#9c179e"
                        ],
                        [
                          0.4444444444444444,
                          "#bd3786"
                        ],
                        [
                          0.5555555555555556,
                          "#d8576b"
                        ],
                        [
                          0.6666666666666666,
                          "#ed7953"
                        ],
                        [
                          0.7777777777777778,
                          "#fb9f3a"
                        ],
                        [
                          0.8888888888888888,
                          "#fdca26"
                        ],
                        [
                          1,
                          "#f0f921"
                        ]
                      ],
                      "sequentialminus": [
                        [
                          0,
                          "#0d0887"
                        ],
                        [
                          0.1111111111111111,
                          "#46039f"
                        ],
                        [
                          0.2222222222222222,
                          "#7201a8"
                        ],
                        [
                          0.3333333333333333,
                          "#9c179e"
                        ],
                        [
                          0.4444444444444444,
                          "#bd3786"
                        ],
                        [
                          0.5555555555555556,
                          "#d8576b"
                        ],
                        [
                          0.6666666666666666,
                          "#ed7953"
                        ],
                        [
                          0.7777777777777778,
                          "#fb9f3a"
                        ],
                        [
                          0.8888888888888888,
                          "#fdca26"
                        ],
                        [
                          1,
                          "#f0f921"
                        ]
                      ]
                    },
                    "colorway": [
                      "#636efa",
                      "#EF553B",
                      "#00cc96",
                      "#ab63fa",
                      "#FFA15A",
                      "#19d3f3",
                      "#FF6692",
                      "#B6E880",
                      "#FF97FF",
                      "#FECB52"
                    ],
                    "font": {
                      "color": "#2a3f5f"
                    },
                    "geo": {
                      "bgcolor": "white",
                      "lakecolor": "white",
                      "landcolor": "#E5ECF6",
                      "showlakes": true,
                      "showland": true,
                      "subunitcolor": "white"
                    },
                    "hoverlabel": {
                      "align": "left"
                    },
                    "hovermode": "closest",
                    "mapbox": {
                      "style": "light"
                    },
                    "paper_bgcolor": "white",
                    "plot_bgcolor": "#E5ECF6",
                    "polar": {
                      "angularaxis": {
                        "gridcolor": "white",
                        "linecolor": "white",
                        "ticks": ""
                      },
                      "bgcolor": "#E5ECF6",
                      "radialaxis": {
                        "gridcolor": "white",
                        "linecolor": "white",
                        "ticks": ""
                      }
                    },
                    "scene": {
                      "xaxis": {
                        "backgroundcolor": "#E5ECF6",
                        "gridcolor": "white",
                        "gridwidth": 2,
                        "linecolor": "white",
                        "showbackground": true,
                        "ticks": "",
                        "zerolinecolor": "white"
                      },
                      "yaxis": {
                        "backgroundcolor": "#E5ECF6",
                        "gridcolor": "white",
                        "gridwidth": 2,
                        "linecolor": "white",
                        "showbackground": true,
                        "ticks": "",
                        "zerolinecolor": "white"
                      },
                      "zaxis": {
                        "backgroundcolor": "#E5ECF6",
                        "gridcolor": "white",
                        "gridwidth": 2,
                        "linecolor": "white",
                        "showbackground": true,
                        "ticks": "",
                        "zerolinecolor": "white"
                      }
                    },
                    "shapedefaults": {
                      "line": {
                        "color": "#2a3f5f"
                      }
                    },
                    "ternary": {
                      "aaxis": {
                        "gridcolor": "white",
                        "linecolor": "white",
                        "ticks": ""
                      },
                      "baxis": {
                        "gridcolor": "white",
                        "linecolor": "white",
                        "ticks": ""
                      },
                      "bgcolor": "#E5ECF6",
                      "caxis": {
                        "gridcolor": "white",
                        "linecolor": "white",
                        "ticks": ""
                      }
                    },
                    "title": {
                      "x": 0.05
                    },
                    "xaxis": {
                      "automargin": true,
                      "gridcolor": "white",
                      "linecolor": "white",
                      "ticks": "",
                      "title": {
                        "standoff": 15
                      },
                      "zerolinecolor": "white",
                      "zerolinewidth": 2
                    },
                    "yaxis": {
                      "automargin": true,
                      "gridcolor": "white",
                      "linecolor": "white",
                      "ticks": "",
                      "title": {
                        "standoff": 15
                      },
                      "zerolinecolor": "white",
                      "zerolinewidth": 2
                    }
                  }
                },
                "title": {
                  "text": "Ranking of leading causes of male's death in USA 1999-2021"
                },
                "xaxis": {
                  "rangeselector": {
                    "buttons": [
                      {
                        "count": 2,
                        "label": "2y",
                        "step": "year",
                        "stepmode": "backward"
                      },
                      {
                        "count": 5,
                        "label": "5y",
                        "step": "year",
                        "stepmode": "backward"
                      },
                      {
                        "count": 10,
                        "label": "10y",
                        "step": "year",
                        "stepmode": "backward"
                      },
                      {
                        "step": "all"
                      }
                    ]
                  },
                  "rangeslider": {
                    "bgcolor": "grey",
                    "thickness": 0.02,
                    "visible": true
                  },
                  "title": {
                    "text": "Year"
                  },
                  "type": "date"
                },
                "yaxis": {
                  "autorange": "reversed",
                  "dtick": 1,
                  "title": {
                    "text": "Rank"
                  }
                }
              }
            }
          },
          "metadata": {},
          "output_type": "display_data"
        }
      ],
      "source": [
        "plot_leading('Ranking of leading causes of male\\'s death in USA 1999-2021', cause_of_death_male_df)"
      ]
    },
    {
      "cell_type": "code",
      "execution_count": 47,
      "metadata": {
        "colab": {
          "base_uri": "https://localhost:8080/",
          "height": 542
        },
        "id": "e_H5evUbmpe6",
        "outputId": "496d19f3-9461-46f0-fe26-3fcf5a4fca7c"
      },
      "outputs": [
        {
          "data": {
            "application/vnd.plotly.v1+json": {
              "config": {
                "plotlyServerURL": "https://plot.ly"
              },
              "data": [
                {
                  "customdata": [
                    185.5,
                    187.9,
                    180.9,
                    181.3,
                    181.2,
                    180.4,
                    183.1,
                    178.6,
                    180.4,
                    180,
                    181.9,
                    184.9,
                    187.8,
                    198.1,
                    200.2,
                    208.5,
                    219.2,
                    222,
                    236.4,
                    243.2,
                    248.9,
                    254.6,
                    262.6
                  ],
                  "hovertemplate": "Rank:%{y}: <br>Year: %{x} </br> 'Rate (a): %{customdata}",
                  "line": {
                    "color": "rgb(127, 60, 141)",
                    "width": 12
                  },
                  "marker": {
                    "size": 16
                  },
                  "mode": "lines+markers",
                  "name": "Heart disease",
                  "type": "scatter",
                  "x": [
                    2021,
                    2020,
                    2019,
                    2018,
                    2017,
                    2016,
                    2015,
                    2014,
                    2013,
                    2012,
                    2011,
                    2010,
                    2009,
                    2008,
                    2007,
                    2006,
                    2005,
                    2004,
                    2003,
                    2002,
                    2001,
                    2000,
                    1999
                  ],
                  "y": [
                    1,
                    1,
                    1,
                    1,
                    1,
                    1,
                    1,
                    1,
                    1,
                    1,
                    1,
                    1,
                    1,
                    1,
                    1,
                    1,
                    1,
                    1,
                    1,
                    1,
                    1,
                    1,
                    1
                  ]
                },
                {
                  "customdata": [
                    171.1,
                    170.2,
                    170.3,
                    170.9,
                    171.8,
                    172.8,
                    172.9,
                    173.1,
                    172.7,
                    173.6,
                    173.3,
                    174.4,
                    174.1,
                    175.1,
                    176.5,
                    178.1,
                    179,
                    179.3,
                    182.1,
                    183.4,
                    183.8,
                    185.8,
                    185.6
                  ],
                  "hovertemplate": "Rank:%{y}: <br>Year: %{x} </br> 'Rate (a): %{customdata}",
                  "line": {
                    "color": "rgb(17, 165, 121)",
                    "width": 12
                  },
                  "marker": {
                    "size": 16
                  },
                  "mode": "lines+markers",
                  "name": "Cancer (malignant neoplasms)",
                  "type": "scatter",
                  "x": [
                    2021,
                    2020,
                    2019,
                    2018,
                    2017,
                    2016,
                    2015,
                    2014,
                    2013,
                    2012,
                    2011,
                    2010,
                    2009,
                    2008,
                    2007,
                    2006,
                    2005,
                    2004,
                    2003,
                    2002,
                    2001,
                    2000,
                    1999
                  ],
                  "y": [
                    2,
                    2,
                    2,
                    2,
                    2,
                    2,
                    2,
                    2,
                    2,
                    2,
                    2,
                    2,
                    2,
                    2,
                    2,
                    2,
                    2,
                    2,
                    2,
                    2,
                    2,
                    2,
                    2
                  ]
                },
                {
                  "customdata": [
                    107.6,
                    94.7
                  ],
                  "hovertemplate": "Rank:%{y}: <br>Year: %{x} </br> 'Rate (a): %{customdata}",
                  "line": {
                    "color": "rgb(57, 105, 172)",
                    "width": 12
                  },
                  "marker": {
                    "size": 16
                  },
                  "mode": "lines+markers",
                  "name": "COVID-19",
                  "type": "scatter",
                  "x": [
                    2021,
                    2020
                  ],
                  "y": [
                    3,
                    3
                  ]
                },
                {
                  "customdata": [
                    54.9,
                    54.2,
                    51.4,
                    51.2,
                    51.3,
                    50.5,
                    50.3,
                    47.9,
                    46.9,
                    47.6,
                    48.4,
                    49.1,
                    49.4,
                    52.3,
                    53.5,
                    54.5,
                    57.9,
                    61.3,
                    65.2,
                    68.3,
                    69.2,
                    71.6,
                    72.3
                  ],
                  "hovertemplate": "Rank:%{y}: <br>Year: %{x} </br> 'Rate (a): %{customdata}",
                  "line": {
                    "color": "rgb(242, 183, 1)",
                    "width": 12
                  },
                  "marker": {
                    "size": 16
                  },
                  "mode": "lines+markers",
                  "name": "Stroke (cerebrovascular disease)",
                  "type": "scatter",
                  "x": [
                    2021,
                    2020,
                    2019,
                    2018,
                    2017,
                    2016,
                    2015,
                    2014,
                    2013,
                    2012,
                    2011,
                    2010,
                    2009,
                    2008,
                    2007,
                    2006,
                    2005,
                    2004,
                    2003,
                    2002,
                    2001,
                    2000,
                    1999
                  ],
                  "y": [
                    4,
                    5,
                    3,
                    3,
                    4,
                    3,
                    4,
                    4,
                    4,
                    3,
                    3,
                    3,
                    3,
                    3,
                    3,
                    3,
                    3,
                    3,
                    3,
                    3,
                    3,
                    3,
                    3
                  ]
                },
                {
                  "customdata": [
                    49.2,
                    55.6,
                    50.1,
                    50.6,
                    50.9,
                    49.2,
                    47.1,
                    40.2,
                    36.7,
                    36.3,
                    37.4,
                    37,
                    35.4,
                    37.5,
                    34.5,
                    33.8,
                    34,
                    31.6,
                    30.6,
                    28.6,
                    26.3,
                    24.4,
                    21.9
                  ],
                  "hovertemplate": "Rank:%{y}: <br>Year: %{x} </br> 'Rate (a): %{customdata}",
                  "line": {
                    "color": "rgb(231, 63, 116)",
                    "width": 12
                  },
                  "marker": {
                    "size": 16
                  },
                  "mode": "lines+markers",
                  "name": "Alzheimer's disease",
                  "type": "scatter",
                  "x": [
                    2021,
                    2020,
                    2019,
                    2018,
                    2017,
                    2016,
                    2015,
                    2014,
                    2013,
                    2012,
                    2011,
                    2010,
                    2009,
                    2008,
                    2007,
                    2006,
                    2005,
                    2004,
                    2003,
                    2002,
                    2001,
                    2000,
                    1999
                  ],
                  "y": [
                    5,
                    4,
                    4,
                    5,
                    5,
                    5,
                    5,
                    5,
                    5,
                    5,
                    5,
                    5,
                    5,
                    5,
                    5,
                    5,
                    5,
                    5,
                    5,
                    5,
                    6,
                    7,
                    8
                  ]
                },
                {
                  "customdata": [
                    45,
                    40.5,
                    36.2,
                    35.7,
                    36.4,
                    35.1,
                    32.9,
                    31.2,
                    30.3,
                    30,
                    29.8,
                    28.6,
                    27.6,
                    28.2,
                    28.7,
                    28.2,
                    27.6,
                    26.8,
                    26.2,
                    25.6,
                    24.5,
                    23.7,
                    24.1
                  ],
                  "hovertemplate": "Rank:%{y}: <br>Year: %{x} </br> 'Rate (a): %{customdata}",
                  "line": {
                    "color": "rgb(128, 186, 90)",
                    "width": 12
                  },
                  "marker": {
                    "size": 16
                  },
                  "mode": "lines+markers",
                  "name": "Preventable injury",
                  "type": "scatter",
                  "x": [
                    2021,
                    2020,
                    2019,
                    2018,
                    2017,
                    2016,
                    2015,
                    2014,
                    2013,
                    2012,
                    2011,
                    2010,
                    2009,
                    2008,
                    2007,
                    2006,
                    2005,
                    2004,
                    2003,
                    2002,
                    2001,
                    2000,
                    1999
                  ],
                  "y": [
                    6,
                    7,
                    6,
                    6,
                    6,
                    6,
                    6,
                    6,
                    6,
                    6,
                    6,
                    6,
                    6,
                    6,
                    6,
                    6,
                    6,
                    6,
                    7,
                    7,
                    7,
                    8,
                    7
                  ]
                },
                {
                  "customdata": [
                    44.7,
                    47.7,
                    50,
                    50.7,
                    51.5,
                    49.7,
                    50.6,
                    47.9,
                    49.1,
                    47.5,
                    47.6,
                    46.3,
                    46.4,
                    47.9,
                    43.6,
                    43.1,
                    45.6,
                    42.5,
                    44.5,
                    43.8,
                    43.6,
                    43.1,
                    43.4
                  ],
                  "hovertemplate": "Rank:%{y}: <br>Year: %{x} </br> 'Rate (a): %{customdata}",
                  "line": {
                    "color": "rgb(230, 131, 16)",
                    "width": 12
                  },
                  "marker": {
                    "size": 16
                  },
                  "mode": "lines+markers",
                  "name": "Chronic lower respiratory diseases",
                  "type": "scatter",
                  "x": [
                    2021,
                    2020,
                    2019,
                    2018,
                    2017,
                    2016,
                    2015,
                    2014,
                    2013,
                    2012,
                    2011,
                    2010,
                    2009,
                    2008,
                    2007,
                    2006,
                    2005,
                    2004,
                    2003,
                    2002,
                    2001,
                    2000,
                    1999
                  ],
                  "y": [
                    7,
                    6,
                    5,
                    4,
                    3,
                    4,
                    3,
                    3,
                    3,
                    4,
                    4,
                    4,
                    4,
                    4,
                    4,
                    4,
                    4,
                    4,
                    4,
                    4,
                    4,
                    4,
                    4
                  ]
                },
                {
                  "customdata": [
                    26.7,
                    26.7,
                    22.9,
                    22.5,
                    22.5,
                    22.1,
                    22.3,
                    21.8,
                    22.3,
                    22.2,
                    22.4,
                    21.4,
                    21.6,
                    22.8,
                    23.5,
                    24,
                    25.7,
                    25.4,
                    26.3,
                    26.6,
                    26.6,
                    26.2,
                    26.2
                  ],
                  "hovertemplate": "Rank:%{y}: <br>Year: %{x} </br> 'Rate (a): %{customdata}",
                  "line": {
                    "color": "rgb(0, 134, 149)",
                    "width": 12
                  },
                  "marker": {
                    "size": 16
                  },
                  "mode": "lines+markers",
                  "name": "Diabetes mellitus",
                  "type": "scatter",
                  "x": [
                    2021,
                    2020,
                    2019,
                    2018,
                    2017,
                    2016,
                    2015,
                    2014,
                    2013,
                    2012,
                    2011,
                    2010,
                    2009,
                    2008,
                    2007,
                    2006,
                    2005,
                    2004,
                    2003,
                    2002,
                    2001,
                    2000,
                    1999
                  ],
                  "y": [
                    8,
                    8,
                    7,
                    7,
                    7,
                    7,
                    7,
                    7,
                    7,
                    7,
                    7,
                    7,
                    7,
                    7,
                    7,
                    7,
                    7,
                    7,
                    6,
                    6,
                    5,
                    5,
                    5
                  ]
                },
                {
                  "customdata": [
                    15.4,
                    15.1,
                    14.9,
                    14.9,
                    15.1,
                    15,
                    15,
                    14.6,
                    14.7,
                    14.3,
                    14.5,
                    16.3,
                    16.1,
                    16,
                    15.6,
                    15.3,
                    15.1,
                    14.8,
                    14.9,
                    14.5,
                    14.2,
                    13.5,
                    13
                  ],
                  "hovertemplate": "Rank:%{y}: <br>Year: %{x} </br> 'Rate (a): %{customdata}",
                  "line": {
                    "color": "rgb(207, 28, 144)",
                    "width": 12
                  },
                  "marker": {
                    "size": 16
                  },
                  "mode": "lines+markers",
                  "name": "Nephritis",
                  "type": "scatter",
                  "x": [
                    2021,
                    2020,
                    2019,
                    2018,
                    2017,
                    2016,
                    2015,
                    2014,
                    2013,
                    2012,
                    2011,
                    2010,
                    2009,
                    2008,
                    2007,
                    2006,
                    2005,
                    2004,
                    2003,
                    2002,
                    2001,
                    2000,
                    1999
                  ],
                  "y": [
                    9,
                    10,
                    9,
                    9,
                    9,
                    9,
                    9,
                    9,
                    9,
                    9,
                    9,
                    9,
                    9,
                    9,
                    9,
                    9,
                    9,
                    9,
                    9,
                    9,
                    9,
                    9,
                    9
                  ]
                },
                {
                  "customdata": [
                    13.6
                  ],
                  "hovertemplate": "Rank:%{y}: <br>Year: %{x} </br> 'Rate (a): %{customdata}",
                  "line": {
                    "color": "rgb(249, 123, 114)",
                    "width": 12
                  },
                  "marker": {
                    "size": 16
                  },
                  "mode": "lines+markers",
                  "name": "Renal disease",
                  "type": "scatter",
                  "x": [
                    2021
                  ],
                  "y": [
                    10
                  ]
                },
                {
                  "customdata": [
                    15.4,
                    15.1,
                    18.3,
                    17.6,
                    16.2,
                    18.5,
                    17.7,
                    18.8,
                    16.7,
                    17.9,
                    16.9,
                    18.4,
                    19.9,
                    18.7,
                    20.2,
                    23.3,
                    22,
                    24.6,
                    25.1,
                    23.9,
                    25.5,
                    25.3
                  ],
                  "hovertemplate": "Rank:%{y}: <br>Year: %{x} </br> 'Rate (a): %{customdata}",
                  "line": {
                    "color": "rgb(165, 170, 153)",
                    "width": 12
                  },
                  "marker": {
                    "size": 16
                  },
                  "mode": "lines+markers",
                  "name": "Influenza and pneumonia",
                  "type": "scatter",
                  "x": [
                    2020,
                    2019,
                    2018,
                    2017,
                    2016,
                    2015,
                    2014,
                    2013,
                    2012,
                    2011,
                    2010,
                    2009,
                    2008,
                    2007,
                    2006,
                    2005,
                    2004,
                    2003,
                    2002,
                    2001,
                    2000,
                    1999
                  ],
                  "y": [
                    9,
                    8,
                    8,
                    8,
                    8,
                    8,
                    8,
                    8,
                    8,
                    8,
                    8,
                    8,
                    8,
                    8,
                    8,
                    8,
                    8,
                    8,
                    8,
                    8,
                    6,
                    6
                  ]
                },
                {
                  "customdata": [
                    12
                  ],
                  "hovertemplate": "Rank:%{y}: <br>Year: %{x} </br> 'Rate (a): %{customdata}",
                  "line": {
                    "color": "rgb(127, 60, 141)",
                    "width": 12
                  },
                  "marker": {
                    "size": 16
                  },
                  "mode": "lines+markers",
                  "name": "Hypertension",
                  "type": "scatter",
                  "x": [
                    2019
                  ],
                  "y": [
                    10
                  ]
                },
                {
                  "customdata": [
                    12.6,
                    12.9,
                    12.8,
                    13.1,
                    12.7,
                    12.6,
                    11.9,
                    12.2,
                    11.9,
                    12.4,
                    12.7,
                    12.4,
                    12.3,
                    12.5,
                    12.3,
                    12.9,
                    12.9,
                    12.4,
                    12.3,
                    12.2
                  ],
                  "hovertemplate": "Rank:%{y}: <br>Year: %{x} </br> 'Rate (a): %{customdata}",
                  "line": {
                    "color": "rgb(17, 165, 121)",
                    "width": 12
                  },
                  "marker": {
                    "size": 16
                  },
                  "mode": "lines+markers",
                  "name": "Septicemia",
                  "type": "scatter",
                  "x": [
                    2018,
                    2017,
                    2016,
                    2015,
                    2014,
                    2013,
                    2012,
                    2011,
                    2010,
                    2009,
                    2008,
                    2007,
                    2006,
                    2005,
                    2004,
                    2003,
                    2002,
                    2001,
                    2000,
                    1999
                  ],
                  "y": [
                    10,
                    10,
                    10,
                    10,
                    10,
                    10,
                    10,
                    10,
                    10,
                    10,
                    10,
                    10,
                    10,
                    10,
                    10,
                    10,
                    10,
                    10,
                    10,
                    10
                  ]
                }
              ],
              "layout": {
                "template": {
                  "data": {
                    "bar": [
                      {
                        "error_x": {
                          "color": "#2a3f5f"
                        },
                        "error_y": {
                          "color": "#2a3f5f"
                        },
                        "marker": {
                          "line": {
                            "color": "#E5ECF6",
                            "width": 0.5
                          },
                          "pattern": {
                            "fillmode": "overlay",
                            "size": 10,
                            "solidity": 0.2
                          }
                        },
                        "type": "bar"
                      }
                    ],
                    "barpolar": [
                      {
                        "marker": {
                          "line": {
                            "color": "#E5ECF6",
                            "width": 0.5
                          },
                          "pattern": {
                            "fillmode": "overlay",
                            "size": 10,
                            "solidity": 0.2
                          }
                        },
                        "type": "barpolar"
                      }
                    ],
                    "carpet": [
                      {
                        "aaxis": {
                          "endlinecolor": "#2a3f5f",
                          "gridcolor": "white",
                          "linecolor": "white",
                          "minorgridcolor": "white",
                          "startlinecolor": "#2a3f5f"
                        },
                        "baxis": {
                          "endlinecolor": "#2a3f5f",
                          "gridcolor": "white",
                          "linecolor": "white",
                          "minorgridcolor": "white",
                          "startlinecolor": "#2a3f5f"
                        },
                        "type": "carpet"
                      }
                    ],
                    "choropleth": [
                      {
                        "colorbar": {
                          "outlinewidth": 0,
                          "ticks": ""
                        },
                        "type": "choropleth"
                      }
                    ],
                    "contour": [
                      {
                        "colorbar": {
                          "outlinewidth": 0,
                          "ticks": ""
                        },
                        "colorscale": [
                          [
                            0,
                            "#0d0887"
                          ],
                          [
                            0.1111111111111111,
                            "#46039f"
                          ],
                          [
                            0.2222222222222222,
                            "#7201a8"
                          ],
                          [
                            0.3333333333333333,
                            "#9c179e"
                          ],
                          [
                            0.4444444444444444,
                            "#bd3786"
                          ],
                          [
                            0.5555555555555556,
                            "#d8576b"
                          ],
                          [
                            0.6666666666666666,
                            "#ed7953"
                          ],
                          [
                            0.7777777777777778,
                            "#fb9f3a"
                          ],
                          [
                            0.8888888888888888,
                            "#fdca26"
                          ],
                          [
                            1,
                            "#f0f921"
                          ]
                        ],
                        "type": "contour"
                      }
                    ],
                    "contourcarpet": [
                      {
                        "colorbar": {
                          "outlinewidth": 0,
                          "ticks": ""
                        },
                        "type": "contourcarpet"
                      }
                    ],
                    "heatmap": [
                      {
                        "colorbar": {
                          "outlinewidth": 0,
                          "ticks": ""
                        },
                        "colorscale": [
                          [
                            0,
                            "#0d0887"
                          ],
                          [
                            0.1111111111111111,
                            "#46039f"
                          ],
                          [
                            0.2222222222222222,
                            "#7201a8"
                          ],
                          [
                            0.3333333333333333,
                            "#9c179e"
                          ],
                          [
                            0.4444444444444444,
                            "#bd3786"
                          ],
                          [
                            0.5555555555555556,
                            "#d8576b"
                          ],
                          [
                            0.6666666666666666,
                            "#ed7953"
                          ],
                          [
                            0.7777777777777778,
                            "#fb9f3a"
                          ],
                          [
                            0.8888888888888888,
                            "#fdca26"
                          ],
                          [
                            1,
                            "#f0f921"
                          ]
                        ],
                        "type": "heatmap"
                      }
                    ],
                    "heatmapgl": [
                      {
                        "colorbar": {
                          "outlinewidth": 0,
                          "ticks": ""
                        },
                        "colorscale": [
                          [
                            0,
                            "#0d0887"
                          ],
                          [
                            0.1111111111111111,
                            "#46039f"
                          ],
                          [
                            0.2222222222222222,
                            "#7201a8"
                          ],
                          [
                            0.3333333333333333,
                            "#9c179e"
                          ],
                          [
                            0.4444444444444444,
                            "#bd3786"
                          ],
                          [
                            0.5555555555555556,
                            "#d8576b"
                          ],
                          [
                            0.6666666666666666,
                            "#ed7953"
                          ],
                          [
                            0.7777777777777778,
                            "#fb9f3a"
                          ],
                          [
                            0.8888888888888888,
                            "#fdca26"
                          ],
                          [
                            1,
                            "#f0f921"
                          ]
                        ],
                        "type": "heatmapgl"
                      }
                    ],
                    "histogram": [
                      {
                        "marker": {
                          "pattern": {
                            "fillmode": "overlay",
                            "size": 10,
                            "solidity": 0.2
                          }
                        },
                        "type": "histogram"
                      }
                    ],
                    "histogram2d": [
                      {
                        "colorbar": {
                          "outlinewidth": 0,
                          "ticks": ""
                        },
                        "colorscale": [
                          [
                            0,
                            "#0d0887"
                          ],
                          [
                            0.1111111111111111,
                            "#46039f"
                          ],
                          [
                            0.2222222222222222,
                            "#7201a8"
                          ],
                          [
                            0.3333333333333333,
                            "#9c179e"
                          ],
                          [
                            0.4444444444444444,
                            "#bd3786"
                          ],
                          [
                            0.5555555555555556,
                            "#d8576b"
                          ],
                          [
                            0.6666666666666666,
                            "#ed7953"
                          ],
                          [
                            0.7777777777777778,
                            "#fb9f3a"
                          ],
                          [
                            0.8888888888888888,
                            "#fdca26"
                          ],
                          [
                            1,
                            "#f0f921"
                          ]
                        ],
                        "type": "histogram2d"
                      }
                    ],
                    "histogram2dcontour": [
                      {
                        "colorbar": {
                          "outlinewidth": 0,
                          "ticks": ""
                        },
                        "colorscale": [
                          [
                            0,
                            "#0d0887"
                          ],
                          [
                            0.1111111111111111,
                            "#46039f"
                          ],
                          [
                            0.2222222222222222,
                            "#7201a8"
                          ],
                          [
                            0.3333333333333333,
                            "#9c179e"
                          ],
                          [
                            0.4444444444444444,
                            "#bd3786"
                          ],
                          [
                            0.5555555555555556,
                            "#d8576b"
                          ],
                          [
                            0.6666666666666666,
                            "#ed7953"
                          ],
                          [
                            0.7777777777777778,
                            "#fb9f3a"
                          ],
                          [
                            0.8888888888888888,
                            "#fdca26"
                          ],
                          [
                            1,
                            "#f0f921"
                          ]
                        ],
                        "type": "histogram2dcontour"
                      }
                    ],
                    "mesh3d": [
                      {
                        "colorbar": {
                          "outlinewidth": 0,
                          "ticks": ""
                        },
                        "type": "mesh3d"
                      }
                    ],
                    "parcoords": [
                      {
                        "line": {
                          "colorbar": {
                            "outlinewidth": 0,
                            "ticks": ""
                          }
                        },
                        "type": "parcoords"
                      }
                    ],
                    "pie": [
                      {
                        "automargin": true,
                        "type": "pie"
                      }
                    ],
                    "scatter": [
                      {
                        "fillpattern": {
                          "fillmode": "overlay",
                          "size": 10,
                          "solidity": 0.2
                        },
                        "type": "scatter"
                      }
                    ],
                    "scatter3d": [
                      {
                        "line": {
                          "colorbar": {
                            "outlinewidth": 0,
                            "ticks": ""
                          }
                        },
                        "marker": {
                          "colorbar": {
                            "outlinewidth": 0,
                            "ticks": ""
                          }
                        },
                        "type": "scatter3d"
                      }
                    ],
                    "scattercarpet": [
                      {
                        "marker": {
                          "colorbar": {
                            "outlinewidth": 0,
                            "ticks": ""
                          }
                        },
                        "type": "scattercarpet"
                      }
                    ],
                    "scattergeo": [
                      {
                        "marker": {
                          "colorbar": {
                            "outlinewidth": 0,
                            "ticks": ""
                          }
                        },
                        "type": "scattergeo"
                      }
                    ],
                    "scattergl": [
                      {
                        "marker": {
                          "colorbar": {
                            "outlinewidth": 0,
                            "ticks": ""
                          }
                        },
                        "type": "scattergl"
                      }
                    ],
                    "scattermapbox": [
                      {
                        "marker": {
                          "colorbar": {
                            "outlinewidth": 0,
                            "ticks": ""
                          }
                        },
                        "type": "scattermapbox"
                      }
                    ],
                    "scatterpolar": [
                      {
                        "marker": {
                          "colorbar": {
                            "outlinewidth": 0,
                            "ticks": ""
                          }
                        },
                        "type": "scatterpolar"
                      }
                    ],
                    "scatterpolargl": [
                      {
                        "marker": {
                          "colorbar": {
                            "outlinewidth": 0,
                            "ticks": ""
                          }
                        },
                        "type": "scatterpolargl"
                      }
                    ],
                    "scatterternary": [
                      {
                        "marker": {
                          "colorbar": {
                            "outlinewidth": 0,
                            "ticks": ""
                          }
                        },
                        "type": "scatterternary"
                      }
                    ],
                    "surface": [
                      {
                        "colorbar": {
                          "outlinewidth": 0,
                          "ticks": ""
                        },
                        "colorscale": [
                          [
                            0,
                            "#0d0887"
                          ],
                          [
                            0.1111111111111111,
                            "#46039f"
                          ],
                          [
                            0.2222222222222222,
                            "#7201a8"
                          ],
                          [
                            0.3333333333333333,
                            "#9c179e"
                          ],
                          [
                            0.4444444444444444,
                            "#bd3786"
                          ],
                          [
                            0.5555555555555556,
                            "#d8576b"
                          ],
                          [
                            0.6666666666666666,
                            "#ed7953"
                          ],
                          [
                            0.7777777777777778,
                            "#fb9f3a"
                          ],
                          [
                            0.8888888888888888,
                            "#fdca26"
                          ],
                          [
                            1,
                            "#f0f921"
                          ]
                        ],
                        "type": "surface"
                      }
                    ],
                    "table": [
                      {
                        "cells": {
                          "fill": {
                            "color": "#EBF0F8"
                          },
                          "line": {
                            "color": "white"
                          }
                        },
                        "header": {
                          "fill": {
                            "color": "#C8D4E3"
                          },
                          "line": {
                            "color": "white"
                          }
                        },
                        "type": "table"
                      }
                    ]
                  },
                  "layout": {
                    "annotationdefaults": {
                      "arrowcolor": "#2a3f5f",
                      "arrowhead": 0,
                      "arrowwidth": 1
                    },
                    "autotypenumbers": "strict",
                    "coloraxis": {
                      "colorbar": {
                        "outlinewidth": 0,
                        "ticks": ""
                      }
                    },
                    "colorscale": {
                      "diverging": [
                        [
                          0,
                          "#8e0152"
                        ],
                        [
                          0.1,
                          "#c51b7d"
                        ],
                        [
                          0.2,
                          "#de77ae"
                        ],
                        [
                          0.3,
                          "#f1b6da"
                        ],
                        [
                          0.4,
                          "#fde0ef"
                        ],
                        [
                          0.5,
                          "#f7f7f7"
                        ],
                        [
                          0.6,
                          "#e6f5d0"
                        ],
                        [
                          0.7,
                          "#b8e186"
                        ],
                        [
                          0.8,
                          "#7fbc41"
                        ],
                        [
                          0.9,
                          "#4d9221"
                        ],
                        [
                          1,
                          "#276419"
                        ]
                      ],
                      "sequential": [
                        [
                          0,
                          "#0d0887"
                        ],
                        [
                          0.1111111111111111,
                          "#46039f"
                        ],
                        [
                          0.2222222222222222,
                          "#7201a8"
                        ],
                        [
                          0.3333333333333333,
                          "#9c179e"
                        ],
                        [
                          0.4444444444444444,
                          "#bd3786"
                        ],
                        [
                          0.5555555555555556,
                          "#d8576b"
                        ],
                        [
                          0.6666666666666666,
                          "#ed7953"
                        ],
                        [
                          0.7777777777777778,
                          "#fb9f3a"
                        ],
                        [
                          0.8888888888888888,
                          "#fdca26"
                        ],
                        [
                          1,
                          "#f0f921"
                        ]
                      ],
                      "sequentialminus": [
                        [
                          0,
                          "#0d0887"
                        ],
                        [
                          0.1111111111111111,
                          "#46039f"
                        ],
                        [
                          0.2222222222222222,
                          "#7201a8"
                        ],
                        [
                          0.3333333333333333,
                          "#9c179e"
                        ],
                        [
                          0.4444444444444444,
                          "#bd3786"
                        ],
                        [
                          0.5555555555555556,
                          "#d8576b"
                        ],
                        [
                          0.6666666666666666,
                          "#ed7953"
                        ],
                        [
                          0.7777777777777778,
                          "#fb9f3a"
                        ],
                        [
                          0.8888888888888888,
                          "#fdca26"
                        ],
                        [
                          1,
                          "#f0f921"
                        ]
                      ]
                    },
                    "colorway": [
                      "#636efa",
                      "#EF553B",
                      "#00cc96",
                      "#ab63fa",
                      "#FFA15A",
                      "#19d3f3",
                      "#FF6692",
                      "#B6E880",
                      "#FF97FF",
                      "#FECB52"
                    ],
                    "font": {
                      "color": "#2a3f5f"
                    },
                    "geo": {
                      "bgcolor": "white",
                      "lakecolor": "white",
                      "landcolor": "#E5ECF6",
                      "showlakes": true,
                      "showland": true,
                      "subunitcolor": "white"
                    },
                    "hoverlabel": {
                      "align": "left"
                    },
                    "hovermode": "closest",
                    "mapbox": {
                      "style": "light"
                    },
                    "paper_bgcolor": "white",
                    "plot_bgcolor": "#E5ECF6",
                    "polar": {
                      "angularaxis": {
                        "gridcolor": "white",
                        "linecolor": "white",
                        "ticks": ""
                      },
                      "bgcolor": "#E5ECF6",
                      "radialaxis": {
                        "gridcolor": "white",
                        "linecolor": "white",
                        "ticks": ""
                      }
                    },
                    "scene": {
                      "xaxis": {
                        "backgroundcolor": "#E5ECF6",
                        "gridcolor": "white",
                        "gridwidth": 2,
                        "linecolor": "white",
                        "showbackground": true,
                        "ticks": "",
                        "zerolinecolor": "white"
                      },
                      "yaxis": {
                        "backgroundcolor": "#E5ECF6",
                        "gridcolor": "white",
                        "gridwidth": 2,
                        "linecolor": "white",
                        "showbackground": true,
                        "ticks": "",
                        "zerolinecolor": "white"
                      },
                      "zaxis": {
                        "backgroundcolor": "#E5ECF6",
                        "gridcolor": "white",
                        "gridwidth": 2,
                        "linecolor": "white",
                        "showbackground": true,
                        "ticks": "",
                        "zerolinecolor": "white"
                      }
                    },
                    "shapedefaults": {
                      "line": {
                        "color": "#2a3f5f"
                      }
                    },
                    "ternary": {
                      "aaxis": {
                        "gridcolor": "white",
                        "linecolor": "white",
                        "ticks": ""
                      },
                      "baxis": {
                        "gridcolor": "white",
                        "linecolor": "white",
                        "ticks": ""
                      },
                      "bgcolor": "#E5ECF6",
                      "caxis": {
                        "gridcolor": "white",
                        "linecolor": "white",
                        "ticks": ""
                      }
                    },
                    "title": {
                      "x": 0.05
                    },
                    "xaxis": {
                      "automargin": true,
                      "gridcolor": "white",
                      "linecolor": "white",
                      "ticks": "",
                      "title": {
                        "standoff": 15
                      },
                      "zerolinecolor": "white",
                      "zerolinewidth": 2
                    },
                    "yaxis": {
                      "automargin": true,
                      "gridcolor": "white",
                      "linecolor": "white",
                      "ticks": "",
                      "title": {
                        "standoff": 15
                      },
                      "zerolinecolor": "white",
                      "zerolinewidth": 2
                    }
                  }
                },
                "title": {
                  "text": "Ranking of leading causes of female's death in USA 1999-2021"
                },
                "xaxis": {
                  "rangeselector": {
                    "buttons": [
                      {
                        "count": 2,
                        "label": "2y",
                        "step": "year",
                        "stepmode": "backward"
                      },
                      {
                        "count": 5,
                        "label": "5y",
                        "step": "year",
                        "stepmode": "backward"
                      },
                      {
                        "count": 10,
                        "label": "10y",
                        "step": "year",
                        "stepmode": "backward"
                      },
                      {
                        "step": "all"
                      }
                    ]
                  },
                  "rangeslider": {
                    "bgcolor": "grey",
                    "thickness": 0.02,
                    "visible": true
                  },
                  "title": {
                    "text": "Year"
                  },
                  "type": "date"
                },
                "yaxis": {
                  "autorange": "reversed",
                  "dtick": 1,
                  "title": {
                    "text": "Rank"
                  }
                }
              }
            }
          },
          "metadata": {},
          "output_type": "display_data"
        }
      ],
      "source": [
        "plot_leading('Ranking of leading causes of female\\'s death in USA 1999-2021', cause_of_death_female_df)"
      ]
    },
    {
      "cell_type": "code",
      "execution_count": 48,
      "metadata": {
        "id": "g4zCbkQEmpe6"
      },
      "outputs": [],
      "source": [
        "def plot_compare_years(dataframe, year1, year2):\n",
        "    year2_df = dataframe[dataframe['Year'] == year2]\n",
        "    y2_df = dataframe[dataframe['Year'] == year1]\n",
        "\n",
        "    deaths_year2 = year2_df.groupby('Cause of Death')['Rate (a)'].sum()\n",
        "    deaths_y2 = y2_df.groupby('Cause of Death')['Rate (a)'].sum()\n",
        "\n",
        "    percent_change = ((deaths_y2 - deaths_year2) / deaths_year2) * 100\n",
        "\n",
        "    sorted_causes = percent_change.sort_values()\n",
        "\n",
        "    plt.figure(figsize=(10, 6))\n",
        "    plt.barh(sorted_causes.index, sorted_causes.values, color='red')\n",
        "    plt.xlabel('[%]')\n",
        "    plt.title('Change in deaths per 100k pop between ' + str(year2) + '-' + str(year1))\n",
        "    plt.show()\n",
        "\n",
        "def plot_compare_years2(dataframe, year1, year2):\n",
        "    year2_df = dataframe[dataframe['Year'] == year2]\n",
        "    y2_df = dataframe[dataframe['Year'] == year1]\n",
        "\n",
        "    deaths_year2 = year2_df.groupby('Cause of Death')['Deaths'].sum()\n",
        "    deaths_y2 = y2_df.groupby('Cause of Death')['Deaths'].sum()\n",
        "\n",
        "    percent_change = ((deaths_y2 - deaths_year2) / deaths_year2) * 100\n",
        "\n",
        "    sorted_causes = percent_change.sort_values()\n",
        "\n",
        "    plt.figure(figsize=(10, 6))\n",
        "    plt.barh(sorted_causes.index, sorted_causes.values, color='red')\n",
        "    plt.xlabel('[%]')\n",
        "    plt.title('Change in number of deaths between ' + str(year2) + '-' + str(year1))\n",
        "    plt.show()"
      ]
    },
    {
      "cell_type": "code",
      "execution_count": 49,
      "metadata": {
        "colab": {
          "base_uri": "https://localhost:8080/",
          "height": 564
        },
        "id": "OnjymSvumpe6",
        "outputId": "5e063f2a-7e2e-49f2-e95e-b06640cef56a"
      },
      "outputs": [
        {
          "data": {
            "image/png": "[encoded data removed]",
            "text/plain": [
              "<Figure size 1000x600 with 1 Axes>"
            ]
          },
          "metadata": {},
          "output_type": "display_data"
        }
      ],
      "source": [
        "plot_compare_years(cause_of_death_df, 2021, 1999)"
      ]
    },
    {
      "cell_type": "code",
      "execution_count": 50,
      "metadata": {
        "colab": {
          "base_uri": "https://localhost:8080/",
          "height": 423
        },
        "id": "I3OCM9Gtmpe7",
        "outputId": "8dfbaf72-13d9-4e6c-8663-d7dc59357760"
      },
      "outputs": [
        {
          "data": {
            "text/html": [
              "<div>\n",
              "<style scoped>\n",
              "    .dataframe tbody tr th:only-of-type {\n",
              "        vertical-align: middle;\n",
              "    }\n",
              "\n",
              "    .dataframe tbody tr th {\n",
              "        vertical-align: top;\n",
              "    }\n",
              "\n",
              "    .dataframe thead th {\n",
              "        text-align: right;\n",
              "    }\n",
              "</style>\n",
              "<table border=\"1\" class=\"dataframe\">\n",
              "  <thead>\n",
              "    <tr style=\"text-align: right;\">\n",
              "      <th></th>\n",
              "      <th>Year</th>\n",
              "      <th>Age Group</th>\n",
              "      <th>Rank</th>\n",
              "      <th>Cause of Death</th>\n",
              "      <th>Deaths</th>\n",
              "    </tr>\n",
              "  </thead>\n",
              "  <tbody>\n",
              "    <tr>\n",
              "      <th>0</th>\n",
              "      <td>2021</td>\n",
              "      <td>All Ages</td>\n",
              "      <td>1.0</td>\n",
              "      <td>Poisoning</td>\n",
              "      <td>102001</td>\n",
              "    </tr>\n",
              "    <tr>\n",
              "      <th>1</th>\n",
              "      <td>2021</td>\n",
              "      <td>All Ages</td>\n",
              "      <td>2.0</td>\n",
              "      <td>Motor vehicle</td>\n",
              "      <td>46980</td>\n",
              "    </tr>\n",
              "    <tr>\n",
              "      <th>2</th>\n",
              "      <td>2021</td>\n",
              "      <td>All Ages</td>\n",
              "      <td>3.0</td>\n",
              "      <td>Fall</td>\n",
              "      <td>44686</td>\n",
              "    </tr>\n",
              "    <tr>\n",
              "      <th>3</th>\n",
              "      <td>2021</td>\n",
              "      <td>All Ages</td>\n",
              "      <td>4.0</td>\n",
              "      <td>Suffocation</td>\n",
              "      <td>7182</td>\n",
              "    </tr>\n",
              "    <tr>\n",
              "      <th>4</th>\n",
              "      <td>2021</td>\n",
              "      <td>All Ages</td>\n",
              "      <td>5.0</td>\n",
              "      <td>Drowning</td>\n",
              "      <td>4337</td>\n",
              "    </tr>\n",
              "    <tr>\n",
              "      <th>...</th>\n",
              "      <td>...</td>\n",
              "      <td>...</td>\n",
              "      <td>...</td>\n",
              "      <td>...</td>\n",
              "      <td>...</td>\n",
              "    </tr>\n",
              "    <tr>\n",
              "      <th>3218</th>\n",
              "      <td>1999</td>\n",
              "      <td>All Ages</td>\n",
              "      <td>6.0</td>\n",
              "      <td>Fire/burn</td>\n",
              "      <td>3471</td>\n",
              "    </tr>\n",
              "    <tr>\n",
              "      <th>3219</th>\n",
              "      <td>1999</td>\n",
              "      <td>All Ages</td>\n",
              "      <td>7.0</td>\n",
              "      <td>Natural/ Environment</td>\n",
              "      <td>1923</td>\n",
              "    </tr>\n",
              "    <tr>\n",
              "      <th>3220</th>\n",
              "      <td>1999</td>\n",
              "      <td>All Ages</td>\n",
              "      <td>8.0</td>\n",
              "      <td>Other Transport</td>\n",
              "      <td>1408</td>\n",
              "    </tr>\n",
              "    <tr>\n",
              "      <th>3221</th>\n",
              "      <td>1999</td>\n",
              "      <td>All Ages</td>\n",
              "      <td>9.0</td>\n",
              "      <td>Other Specified, classifiable</td>\n",
              "      <td>1310</td>\n",
              "    </tr>\n",
              "    <tr>\n",
              "      <th>3222</th>\n",
              "      <td>1999</td>\n",
              "      <td>All Ages</td>\n",
              "      <td>10.0</td>\n",
              "      <td>Pedestrian, Other</td>\n",
              "      <td>1199</td>\n",
              "    </tr>\n",
              "  </tbody>\n",
              "</table>\n",
              "<p>3223 rows × 5 columns</p>\n",
              "</div>"
            ],
            "text/plain": [
              "      Year Age Group  Rank                 Cause of Death  Deaths\n",
              "0     2021  All Ages   1.0                      Poisoning  102001\n",
              "1     2021  All Ages   2.0                  Motor vehicle   46980\n",
              "2     2021  All Ages   3.0                           Fall   44686\n",
              "3     2021  All Ages   4.0                    Suffocation    7182\n",
              "4     2021  All Ages   5.0                       Drowning    4337\n",
              "...    ...       ...   ...                            ...     ...\n",
              "3218  1999  All Ages   6.0                      Fire/burn    3471\n",
              "3219  1999  All Ages   7.0           Natural/ Environment    1923\n",
              "3220  1999  All Ages   8.0                Other Transport    1408\n",
              "3221  1999  All Ages   9.0  Other Specified, classifiable    1310\n",
              "3222  1999  All Ages  10.0              Pedestrian, Other    1199\n",
              "\n",
              "[3223 rows x 5 columns]"
            ]
          },
          "execution_count": 50,
          "metadata": {},
          "output_type": "execute_result"
        }
      ],
      "source": [
        "preventable_deaths_df = pd.read_excel(prefix+'Leading causes of fatal and nonfatal preventable injuries table.xlsx', 'Deaths',skiprows=[0,3225,3226,3227], usecols=lambda x: 'Unnamed' not in x,)\n",
        "preventable_deaths_df[\"Cause of Death\"].replace({'MV-Occupant': 'Motor vehicle-Occupant', 'Other Specified (b)' :'Other Specified',\n",
        "                                                    'Other land transport' : 'Other Land Transport', 'Other transport' : 'Other Transport',\n",
        "                                                  'Struck by or against' : 'Struck by or Against', 'Other Specified, n.e.c. (a)' : 'Other Specified, NEC'}, inplace=True)\n",
        "preventable_deaths_df"
      ]
    },
    {
      "cell_type": "code",
      "execution_count": 51,
      "metadata": {
        "colab": {
          "base_uri": "https://localhost:8080/",
          "height": 423
        },
        "id": "cPK_Ch7Cmpe7",
        "outputId": "5cf3f685-dd3f-4e05-da9a-2a75f214f45a"
      },
      "outputs": [
        {
          "data": {
            "text/html": [
              "<div>\n",
              "<style scoped>\n",
              "    .dataframe tbody tr th:only-of-type {\n",
              "        vertical-align: middle;\n",
              "    }\n",
              "\n",
              "    .dataframe tbody tr th {\n",
              "        vertical-align: top;\n",
              "    }\n",
              "\n",
              "    .dataframe thead th {\n",
              "        text-align: right;\n",
              "    }\n",
              "</style>\n",
              "<table border=\"1\" class=\"dataframe\">\n",
              "  <thead>\n",
              "    <tr style=\"text-align: right;\">\n",
              "      <th></th>\n",
              "      <th>Year</th>\n",
              "      <th>Age Group</th>\n",
              "      <th>Rank</th>\n",
              "      <th>Cause of Injury</th>\n",
              "      <th>Injuries</th>\n",
              "    </tr>\n",
              "  </thead>\n",
              "  <tbody>\n",
              "    <tr>\n",
              "      <th>0</th>\n",
              "      <td>2020</td>\n",
              "      <td>&lt;1 years</td>\n",
              "      <td>1.0</td>\n",
              "      <td>Fall</td>\n",
              "      <td>83049.0</td>\n",
              "    </tr>\n",
              "    <tr>\n",
              "      <th>1</th>\n",
              "      <td>2020</td>\n",
              "      <td>&lt;1 years</td>\n",
              "      <td>2.0</td>\n",
              "      <td>Struck By/Against</td>\n",
              "      <td>17162.0</td>\n",
              "    </tr>\n",
              "    <tr>\n",
              "      <th>2</th>\n",
              "      <td>2020</td>\n",
              "      <td>&lt;1 years</td>\n",
              "      <td>3.0</td>\n",
              "      <td>Inhalation/Suffocation</td>\n",
              "      <td>9294.0</td>\n",
              "    </tr>\n",
              "    <tr>\n",
              "      <th>3</th>\n",
              "      <td>2020</td>\n",
              "      <td>&lt;1 years</td>\n",
              "      <td>4.0</td>\n",
              "      <td>Foreign Body</td>\n",
              "      <td>8326.0</td>\n",
              "    </tr>\n",
              "    <tr>\n",
              "      <th>4</th>\n",
              "      <td>2020</td>\n",
              "      <td>&lt;1 years</td>\n",
              "      <td>5.0</td>\n",
              "      <td>Other Specified</td>\n",
              "      <td>6086.0</td>\n",
              "    </tr>\n",
              "    <tr>\n",
              "      <th>...</th>\n",
              "      <td>...</td>\n",
              "      <td>...</td>\n",
              "      <td>...</td>\n",
              "      <td>...</td>\n",
              "      <td>...</td>\n",
              "    </tr>\n",
              "    <tr>\n",
              "      <th>2815</th>\n",
              "      <td>2001</td>\n",
              "      <td>All ages (d)</td>\n",
              "      <td>6.0</td>\n",
              "      <td>Other Bite/Sting</td>\n",
              "      <td>849703.0</td>\n",
              "    </tr>\n",
              "    <tr>\n",
              "      <th>2816</th>\n",
              "      <td>2001</td>\n",
              "      <td>All ages (d)</td>\n",
              "      <td>7.0</td>\n",
              "      <td>Unknown/Unspecified</td>\n",
              "      <td>829324.0</td>\n",
              "    </tr>\n",
              "    <tr>\n",
              "      <th>2817</th>\n",
              "      <td>2001</td>\n",
              "      <td>All ages (d)</td>\n",
              "      <td>8.0</td>\n",
              "      <td>Foreign Body</td>\n",
              "      <td>708374.0</td>\n",
              "    </tr>\n",
              "    <tr>\n",
              "      <th>2818</th>\n",
              "      <td>2001</td>\n",
              "      <td>All ages (d)</td>\n",
              "      <td>9.0</td>\n",
              "      <td>Other Transport</td>\n",
              "      <td>583142.0</td>\n",
              "    </tr>\n",
              "    <tr>\n",
              "      <th>2819</th>\n",
              "      <td>2001</td>\n",
              "      <td>All ages (d)</td>\n",
              "      <td>10.0</td>\n",
              "      <td>Poisoning</td>\n",
              "      <td>519164.0</td>\n",
              "    </tr>\n",
              "  </tbody>\n",
              "</table>\n",
              "<p>2598 rows × 5 columns</p>\n",
              "</div>"
            ],
            "text/plain": [
              "      Year     Age Group  Rank         Cause of Injury  Injuries\n",
              "0     2020      <1 years   1.0                    Fall   83049.0\n",
              "1     2020      <1 years   2.0       Struck By/Against   17162.0\n",
              "2     2020      <1 years   3.0  Inhalation/Suffocation    9294.0\n",
              "3     2020      <1 years   4.0            Foreign Body    8326.0\n",
              "4     2020      <1 years   5.0         Other Specified    6086.0\n",
              "...    ...           ...   ...                     ...       ...\n",
              "2815  2001  All ages (d)   6.0        Other Bite/Sting  849703.0\n",
              "2816  2001  All ages (d)   7.0     Unknown/Unspecified  829324.0\n",
              "2817  2001  All ages (d)   8.0            Foreign Body  708374.0\n",
              "2818  2001  All ages (d)   9.0         Other Transport  583142.0\n",
              "2819  2001  All ages (d)  10.0               Poisoning  519164.0\n",
              "\n",
              "[2598 rows x 5 columns]"
            ]
          },
          "execution_count": 51,
          "metadata": {},
          "output_type": "execute_result"
        }
      ],
      "source": [
        "preventable_injuries_df = pd.read_excel(prefix+'Leading causes of fatal and nonfatal preventable injuries table.xlsx', 'Injuries',skiprows=[0,1, 2830,2831,2832], usecols=lambda x: 'Unnamed' not in x,)\n",
        "preventable_injuries_df.dropna(inplace=True)\n",
        "preventable_injuries_df[\"Cause of Injury\"].replace({'MV-Occupant': 'Motor vehicle-Occupant', 'Other Specified (b)' :'Other Specified',\n",
        "                                                    'Other land transport' : 'Other Land Transport', 'Other Transport (c)' : 'Other Transport',\n",
        "                                                    'Other Bite/Sting (a)' : 'Other Bite/Sting'}, inplace=True)\n",
        "preventable_injuries_df"
      ]
    },
    {
      "cell_type": "code",
      "execution_count": 52,
      "metadata": {
        "id": "lmFheLyHmpe7"
      },
      "outputs": [],
      "source": [
        "def plot_preventable_injuries(dataframe):\n",
        "    dataframe = dataframe[dataframe['Cause of Injury'] != 'All Causes']\n",
        "    grouped_df = dataframe.groupby(['Year', 'Cause of Injury'])['Injuries'].sum().unstack()\n",
        "\n",
        "    last_year = grouped_df.index[-1]\n",
        "    sorted_columns = grouped_df.loc[last_year-3].sort_values(ascending=False).index\n",
        "\n",
        "    sorted_df = grouped_df[sorted_columns]\n",
        "\n",
        "    data = []\n",
        "    for cause in sorted_df.columns:\n",
        "        data.append(go.Bar(\n",
        "            x=sorted_df.index,\n",
        "            y=sorted_df[cause],\n",
        "            name=cause\n",
        "        ))\n",
        "\n",
        "    layout = go.Layout(\n",
        "        barmode='stack',\n",
        "        xaxis=dict(title='Year'),\n",
        "        yaxis=dict(title='Injuries'),\n",
        "        title='Preventable causes of injuries in USA 2001-2020'\n",
        "    )\n",
        "\n",
        "    fig = go.Figure(data=data, layout=layout)\n",
        "\n",
        "    fig.show()"
      ]
    },
    {
      "cell_type": "code",
      "execution_count": 53,
      "metadata": {
        "colab": {
          "base_uri": "https://localhost:8080/",
          "height": 542
        },
        "id": "WoTC2kekmpe8",
        "outputId": "98f2c838-a6bf-4393-a114-1ad40dc556fb"
      },
      "outputs": [
        {
          "data": {
            "application/vnd.plotly.v1+json": {
              "config": {
                "plotlyServerURL": "https://plot.ly"
              },
              "data": [
                {
                  "name": "Fall",
                  "type": "bar",
                  "x": [
                    2001,
                    2002,
                    2003,
                    2004,
                    2005,
                    2006,
                    2007,
                    2008,
                    2009,
                    2010,
                    2011,
                    2012,
                    2013,
                    2014,
                    2015,
                    2016,
                    2017,
                    2018,
                    2019,
                    2020
                  ],
                  "y": [
                    15672196,
                    14820106,
                    15790408,
                    16116497,
                    15876426,
                    15869138,
                    16070841,
                    17101864,
                    17530651,
                    18291765,
                    18513202,
                    17949364,
                    17542895,
                    18327757,
                    18738183,
                    18387759,
                    17182592,
                    16345955,
                    16099145,
                    13681621
                  ]
                },
                {
                  "name": "Struck By/Against",
                  "type": "bar",
                  "x": [
                    2001,
                    2002,
                    2003,
                    2004,
                    2005,
                    2006,
                    2007,
                    2008,
                    2009,
                    2010,
                    2011,
                    2012,
                    2013,
                    2014,
                    2015,
                    2016,
                    2017,
                    2018,
                    2019,
                    2020
                  ],
                  "y": [
                    9220436,
                    8979832,
                    8844273,
                    8860199,
                    8673330,
                    9326597,
                    9107687,
                    8984460,
                    8871603,
                    9130043,
                    9239656,
                    9106673,
                    8428178,
                    8166548,
                    8120550,
                    8087403,
                    7369799,
                    6640668,
                    6367380,
                    4503967
                  ]
                },
                {
                  "name": "Overexertion",
                  "type": "bar",
                  "x": [
                    2001,
                    2002,
                    2003,
                    2004,
                    2005,
                    2006,
                    2007,
                    2008,
                    2009,
                    2010,
                    2011,
                    2012,
                    2013,
                    2014,
                    2015,
                    2016,
                    2017,
                    2018,
                    2019,
                    2020
                  ],
                  "y": [
                    6974421,
                    6573603,
                    6649037,
                    6552899,
                    6567928,
                    6949051,
                    7085389,
                    6551588,
                    6415754,
                    6860015,
                    6880556,
                    6770256,
                    6513066,
                    6264542,
                    6243767,
                    5932844,
                    5136267,
                    4635703,
                    4186508,
                    3024248
                  ]
                },
                {
                  "name": "Motor vehicle-Occupant",
                  "type": "bar",
                  "x": [
                    2001,
                    2002,
                    2003,
                    2004,
                    2005,
                    2006,
                    2007,
                    2008,
                    2009,
                    2010,
                    2011,
                    2012,
                    2013,
                    2014,
                    2015,
                    2016,
                    2017,
                    2018,
                    2019,
                    2020
                  ],
                  "y": [
                    6081153,
                    5975627,
                    6052549,
                    5956447,
                    5676553,
                    5407410,
                    5269211,
                    5128405,
                    5252261,
                    5492565,
                    5337276,
                    5088977,
                    4891325,
                    4794783,
                    5220049,
                    5418093,
                    4970388,
                    4526311,
                    4191541,
                    3374940
                  ]
                },
                {
                  "name": "Other Specified",
                  "type": "bar",
                  "x": [
                    2001,
                    2002,
                    2003,
                    2004,
                    2005,
                    2006,
                    2007,
                    2008,
                    2009,
                    2010,
                    2011,
                    2012,
                    2013,
                    2014,
                    2015,
                    2016,
                    2017,
                    2018,
                    2019,
                    2020
                  ],
                  "y": [
                    167544,
                    1039955,
                    1450153,
                    1597617,
                    1700566,
                    1828882,
                    1983826,
                    2176830,
                    1810093,
                    2511775,
                    3177762,
                    3110956,
                    3479002,
                    3461553,
                    3866255,
                    4317244,
                    4682453,
                    4198703,
                    3671882,
                    3576792
                  ]
                },
                {
                  "name": "Cut/Pierce",
                  "type": "bar",
                  "x": [
                    2001,
                    2002,
                    2003,
                    2004,
                    2005,
                    2006,
                    2007,
                    2008,
                    2009,
                    2010,
                    2011,
                    2012,
                    2013,
                    2014,
                    2015,
                    2016,
                    2017,
                    2018,
                    2019,
                    2020
                  ],
                  "y": [
                    4944477,
                    4550035,
                    4471542,
                    4570119,
                    4473471,
                    4430085,
                    4247693,
                    4145122,
                    3995382,
                    4286801,
                    4330297,
                    4291855,
                    4155550,
                    3978854,
                    4023307,
                    3988303,
                    3646694,
                    3405574,
                    3294210,
                    3084052
                  ]
                },
                {
                  "name": "Poisoning",
                  "type": "bar",
                  "x": [
                    2001,
                    2002,
                    2003,
                    2004,
                    2005,
                    2006,
                    2007,
                    2008,
                    2009,
                    2010,
                    2011,
                    2012,
                    2013,
                    2014,
                    2015,
                    2016,
                    2017,
                    2018,
                    2019,
                    2020
                  ],
                  "y": [
                    819131,
                    290997,
                    436201,
                    556350,
                    1208753,
                    1385242,
                    1245378,
                    1406992,
                    1395428,
                    1638101,
                    1918046,
                    1884197,
                    2089766,
                    2411069,
                    2916653,
                    3399722,
                    3486275,
                    3384219,
                    3476128,
                    3573162
                  ]
                },
                {
                  "name": "Other Bite/Sting",
                  "type": "bar",
                  "x": [
                    2001,
                    2002,
                    2003,
                    2004,
                    2005,
                    2006,
                    2007,
                    2008,
                    2009,
                    2010,
                    2011,
                    2012,
                    2013,
                    2014,
                    2015,
                    2016,
                    2017,
                    2018,
                    2019,
                    2020
                  ],
                  "y": [
                    1699380,
                    1761753,
                    1996901,
                    2206504,
                    2192444,
                    2190971,
                    2089569,
                    1987845,
                    2135844,
                    2291426,
                    2463298,
                    2501832,
                    2348534,
                    2433853,
                    2374895,
                    2299017,
                    2274999,
                    2011173,
                    1826094,
                    1098133
                  ]
                },
                {
                  "name": "Unknown/Unspecified",
                  "type": "bar",
                  "x": [
                    2001,
                    2002,
                    2003,
                    2004,
                    2005,
                    2006,
                    2007,
                    2008,
                    2009,
                    2010,
                    2011,
                    2012,
                    2013,
                    2014,
                    2015,
                    2016,
                    2017,
                    2018,
                    2019,
                    2020
                  ],
                  "y": [
                    1658231,
                    1427771,
                    1202075,
                    901588,
                    1109800,
                    1005370,
                    1294449,
                    1613574,
                    1468579,
                    1338529,
                    1365237,
                    1468303,
                    1639549,
                    1415438,
                    1436652,
                    1571778,
                    1510805,
                    1252939,
                    1125021,
                    222243
                  ]
                },
                {
                  "name": "Foreign Body",
                  "type": "bar",
                  "x": [
                    2001,
                    2002,
                    2003,
                    2004,
                    2005,
                    2006,
                    2007,
                    2008,
                    2009,
                    2010,
                    2011,
                    2012,
                    2013,
                    2014,
                    2015,
                    2016,
                    2017,
                    2018,
                    2019,
                    2020
                  ],
                  "y": [
                    1384381,
                    955798,
                    977804,
                    1091064,
                    458819,
                    467007,
                    406379,
                    197088,
                    190105,
                    212724,
                    833594,
                    809439,
                    788934,
                    725509,
                    185992,
                    757822,
                    885945,
                    808709,
                    721846,
                    598666
                  ]
                },
                {
                  "name": "Other Transport",
                  "type": "bar",
                  "x": [
                    2001,
                    2002,
                    2003,
                    2004,
                    2005,
                    2006,
                    2007,
                    2008,
                    2009,
                    2010,
                    2011,
                    2012,
                    2013,
                    2014,
                    2015,
                    2016,
                    2017,
                    2018,
                    2019,
                    2020
                  ],
                  "y": [
                    939729,
                    1106248,
                    1204919,
                    1214399,
                    1152129,
                    1238475,
                    1314318,
                    1215063,
                    1173635,
                    1203412,
                    561583,
                    390333,
                    345814,
                    501092,
                    1077499,
                    542196,
                    304404,
                    323812,
                    401482,
                    859328
                  ]
                },
                {
                  "name": "Pedal Cyclist",
                  "type": "bar",
                  "x": [
                    2001,
                    2002,
                    2003,
                    2004,
                    2005,
                    2006,
                    2007,
                    2008,
                    2009,
                    2010,
                    2011,
                    2012,
                    2013,
                    2014,
                    2015,
                    2016,
                    2017,
                    2018,
                    2019,
                    2020
                  ],
                  "y": [
                    254102,
                    260131,
                    254765,
                    241954,
                    226671,
                    199240,
                    210735,
                    188759,
                    202685,
                    192747,
                    194806,
                    291585,
                    256307,
                    155347,
                    128644,
                    107898,
                    88671,
                    77472,
                    84708,
                    97802
                  ]
                },
                {
                  "name": "Dog Bite",
                  "type": "bar",
                  "x": [
                    2001,
                    2002,
                    2003,
                    2004,
                    2005,
                    2006,
                    2007,
                    2008,
                    2009,
                    2010,
                    2011,
                    2012,
                    2013,
                    2014,
                    2015,
                    2016,
                    2017,
                    2018,
                    2019,
                    2020
                  ],
                  "y": [
                    105277,
                    93398,
                    92015,
                    91833,
                    83312,
                    44239,
                    32094,
                    70947,
                    78975,
                    78261,
                    123670,
                    117750,
                    76563,
                    108930,
                    95055,
                    67357,
                    63866,
                    56423,
                    55945,
                    84910
                  ]
                },
                {
                  "name": "Fire/Burn",
                  "type": "bar",
                  "x": [
                    2001,
                    2002,
                    2003,
                    2004,
                    2005,
                    2006,
                    2007,
                    2008,
                    2009,
                    2010,
                    2011,
                    2012,
                    2013,
                    2014,
                    2015,
                    2016,
                    2017,
                    2018,
                    2019,
                    2020
                  ],
                  "y": [
                    269662,
                    166837,
                    70237,
                    69100,
                    71270,
                    63737,
                    62182,
                    59809,
                    57742,
                    60413,
                    66573,
                    67548,
                    62700,
                    56476,
                    52867,
                    46160,
                    48633,
                    45656,
                    37126,
                    32201
                  ]
                },
                {
                  "name": "Inhalation/Suffocation",
                  "type": "bar",
                  "x": [
                    2001,
                    2002,
                    2003,
                    2004,
                    2005,
                    2006,
                    2007,
                    2008,
                    2009,
                    2010,
                    2011,
                    2012,
                    2013,
                    2014,
                    2015,
                    2016,
                    2017,
                    2018,
                    2019,
                    2020
                  ],
                  "y": [
                    null,
                    6452,
                    null,
                    7801,
                    6611,
                    null,
                    6297,
                    4975,
                    6057,
                    6354,
                    7501,
                    9658,
                    0,
                    10441,
                    7674,
                    5111,
                    8518,
                    5791,
                    6911,
                    9294
                  ]
                },
                {
                  "name": "Motorcyclist",
                  "type": "bar",
                  "x": [
                    2001,
                    2002,
                    2003,
                    2004,
                    2005,
                    2006,
                    2007,
                    2008,
                    2009,
                    2010,
                    2011,
                    2012,
                    2013,
                    2014,
                    2015,
                    2016,
                    2017,
                    2018,
                    2019,
                    2020
                  ],
                  "y": [
                    null,
                    null,
                    null,
                    null,
                    null,
                    null,
                    null,
                    null,
                    null,
                    null,
                    null,
                    null,
                    null,
                    null,
                    null,
                    null,
                    null,
                    null,
                    null,
                    122683
                  ]
                }
              ],
              "layout": {
                "barmode": "stack",
                "template": {
                  "data": {
                    "bar": [
                      {
                        "error_x": {
                          "color": "#2a3f5f"
                        },
                        "error_y": {
                          "color": "#2a3f5f"
                        },
                        "marker": {
                          "line": {
                            "color": "#E5ECF6",
                            "width": 0.5
                          },
                          "pattern": {
                            "fillmode": "overlay",
                            "size": 10,
                            "solidity": 0.2
                          }
                        },
                        "type": "bar"
                      }
                    ],
                    "barpolar": [
                      {
                        "marker": {
                          "line": {
                            "color": "#E5ECF6",
                            "width": 0.5
                          },
                          "pattern": {
                            "fillmode": "overlay",
                            "size": 10,
                            "solidity": 0.2
                          }
                        },
                        "type": "barpolar"
                      }
                    ],
                    "carpet": [
                      {
                        "aaxis": {
                          "endlinecolor": "#2a3f5f",
                          "gridcolor": "white",
                          "linecolor": "white",
                          "minorgridcolor": "white",
                          "startlinecolor": "#2a3f5f"
                        },
                        "baxis": {
                          "endlinecolor": "#2a3f5f",
                          "gridcolor": "white",
                          "linecolor": "white",
                          "minorgridcolor": "white",
                          "startlinecolor": "#2a3f5f"
                        },
                        "type": "carpet"
                      }
                    ],
                    "choropleth": [
                      {
                        "colorbar": {
                          "outlinewidth": 0,
                          "ticks": ""
                        },
                        "type": "choropleth"
                      }
                    ],
                    "contour": [
                      {
                        "colorbar": {
                          "outlinewidth": 0,
                          "ticks": ""
                        },
                        "colorscale": [
                          [
                            0,
                            "#0d0887"
                          ],
                          [
                            0.1111111111111111,
                            "#46039f"
                          ],
                          [
                            0.2222222222222222,
                            "#7201a8"
                          ],
                          [
                            0.3333333333333333,
                            "#9c179e"
                          ],
                          [
                            0.4444444444444444,
                            "#bd3786"
                          ],
                          [
                            0.5555555555555556,
                            "#d8576b"
                          ],
                          [
                            0.6666666666666666,
                            "#ed7953"
                          ],
                          [
                            0.7777777777777778,
                            "#fb9f3a"
                          ],
                          [
                            0.8888888888888888,
                            "#fdca26"
                          ],
                          [
                            1,
                            "#f0f921"
                          ]
                        ],
                        "type": "contour"
                      }
                    ],
                    "contourcarpet": [
                      {
                        "colorbar": {
                          "outlinewidth": 0,
                          "ticks": ""
                        },
                        "type": "contourcarpet"
                      }
                    ],
                    "heatmap": [
                      {
                        "colorbar": {
                          "outlinewidth": 0,
                          "ticks": ""
                        },
                        "colorscale": [
                          [
                            0,
                            "#0d0887"
                          ],
                          [
                            0.1111111111111111,
                            "#46039f"
                          ],
                          [
                            0.2222222222222222,
                            "#7201a8"
                          ],
                          [
                            0.3333333333333333,
                            "#9c179e"
                          ],
                          [
                            0.4444444444444444,
                            "#bd3786"
                          ],
                          [
                            0.5555555555555556,
                            "#d8576b"
                          ],
                          [
                            0.6666666666666666,
                            "#ed7953"
                          ],
                          [
                            0.7777777777777778,
                            "#fb9f3a"
                          ],
                          [
                            0.8888888888888888,
                            "#fdca26"
                          ],
                          [
                            1,
                            "#f0f921"
                          ]
                        ],
                        "type": "heatmap"
                      }
                    ],
                    "heatmapgl": [
                      {
                        "colorbar": {
                          "outlinewidth": 0,
                          "ticks": ""
                        },
                        "colorscale": [
                          [
                            0,
                            "#0d0887"
                          ],
                          [
                            0.1111111111111111,
                            "#46039f"
                          ],
                          [
                            0.2222222222222222,
                            "#7201a8"
                          ],
                          [
                            0.3333333333333333,
                            "#9c179e"
                          ],
                          [
                            0.4444444444444444,
                            "#bd3786"
                          ],
                          [
                            0.5555555555555556,
                            "#d8576b"
                          ],
                          [
                            0.6666666666666666,
                            "#ed7953"
                          ],
                          [
                            0.7777777777777778,
                            "#fb9f3a"
                          ],
                          [
                            0.8888888888888888,
                            "#fdca26"
                          ],
                          [
                            1,
                            "#f0f921"
                          ]
                        ],
                        "type": "heatmapgl"
                      }
                    ],
                    "histogram": [
                      {
                        "marker": {
                          "pattern": {
                            "fillmode": "overlay",
                            "size": 10,
                            "solidity": 0.2
                          }
                        },
                        "type": "histogram"
                      }
                    ],
                    "histogram2d": [
                      {
                        "colorbar": {
                          "outlinewidth": 0,
                          "ticks": ""
                        },
                        "colorscale": [
                          [
                            0,
                            "#0d0887"
                          ],
                          [
                            0.1111111111111111,
                            "#46039f"
                          ],
                          [
                            0.2222222222222222,
                            "#7201a8"
                          ],
                          [
                            0.3333333333333333,
                            "#9c179e"
                          ],
                          [
                            0.4444444444444444,
                            "#bd3786"
                          ],
                          [
                            0.5555555555555556,
                            "#d8576b"
                          ],
                          [
                            0.6666666666666666,
                            "#ed7953"
                          ],
                          [
                            0.7777777777777778,
                            "#fb9f3a"
                          ],
                          [
                            0.8888888888888888,
                            "#fdca26"
                          ],
                          [
                            1,
                            "#f0f921"
                          ]
                        ],
                        "type": "histogram2d"
                      }
                    ],
                    "histogram2dcontour": [
                      {
                        "colorbar": {
                          "outlinewidth": 0,
                          "ticks": ""
                        },
                        "colorscale": [
                          [
                            0,
                            "#0d0887"
                          ],
                          [
                            0.1111111111111111,
                            "#46039f"
                          ],
                          [
                            0.2222222222222222,
                            "#7201a8"
                          ],
                          [
                            0.3333333333333333,
                            "#9c179e"
                          ],
                          [
                            0.4444444444444444,
                            "#bd3786"
                          ],
                          [
                            0.5555555555555556,
                            "#d8576b"
                          ],
                          [
                            0.6666666666666666,
                            "#ed7953"
                          ],
                          [
                            0.7777777777777778,
                            "#fb9f3a"
                          ],
                          [
                            0.8888888888888888,
                            "#fdca26"
                          ],
                          [
                            1,
                            "#f0f921"
                          ]
                        ],
                        "type": "histogram2dcontour"
                      }
                    ],
                    "mesh3d": [
                      {
                        "colorbar": {
                          "outlinewidth": 0,
                          "ticks": ""
                        },
                        "type": "mesh3d"
                      }
                    ],
                    "parcoords": [
                      {
                        "line": {
                          "colorbar": {
                            "outlinewidth": 0,
                            "ticks": ""
                          }
                        },
                        "type": "parcoords"
                      }
                    ],
                    "pie": [
                      {
                        "automargin": true,
                        "type": "pie"
                      }
                    ],
                    "scatter": [
                      {
                        "fillpattern": {
                          "fillmode": "overlay",
                          "size": 10,
                          "solidity": 0.2
                        },
                        "type": "scatter"
                      }
                    ],
                    "scatter3d": [
                      {
                        "line": {
                          "colorbar": {
                            "outlinewidth": 0,
                            "ticks": ""
                          }
                        },
                        "marker": {
                          "colorbar": {
                            "outlinewidth": 0,
                            "ticks": ""
                          }
                        },
                        "type": "scatter3d"
                      }
                    ],
                    "scattercarpet": [
                      {
                        "marker": {
                          "colorbar": {
                            "outlinewidth": 0,
                            "ticks": ""
                          }
                        },
                        "type": "scattercarpet"
                      }
                    ],
                    "scattergeo": [
                      {
                        "marker": {
                          "colorbar": {
                            "outlinewidth": 0,
                            "ticks": ""
                          }
                        },
                        "type": "scattergeo"
                      }
                    ],
                    "scattergl": [
                      {
                        "marker": {
                          "colorbar": {
                            "outlinewidth": 0,
                            "ticks": ""
                          }
                        },
                        "type": "scattergl"
                      }
                    ],
                    "scattermapbox": [
                      {
                        "marker": {
                          "colorbar": {
                            "outlinewidth": 0,
                            "ticks": ""
                          }
                        },
                        "type": "scattermapbox"
                      }
                    ],
                    "scatterpolar": [
                      {
                        "marker": {
                          "colorbar": {
                            "outlinewidth": 0,
                            "ticks": ""
                          }
                        },
                        "type": "scatterpolar"
                      }
                    ],
                    "scatterpolargl": [
                      {
                        "marker": {
                          "colorbar": {
                            "outlinewidth": 0,
                            "ticks": ""
                          }
                        },
                        "type": "scatterpolargl"
                      }
                    ],
                    "scatterternary": [
                      {
                        "marker": {
                          "colorbar": {
                            "outlinewidth": 0,
                            "ticks": ""
                          }
                        },
                        "type": "scatterternary"
                      }
                    ],
                    "surface": [
                      {
                        "colorbar": {
                          "outlinewidth": 0,
                          "ticks": ""
                        },
                        "colorscale": [
                          [
                            0,
                            "#0d0887"
                          ],
                          [
                            0.1111111111111111,
                            "#46039f"
                          ],
                          [
                            0.2222222222222222,
                            "#7201a8"
                          ],
                          [
                            0.3333333333333333,
                            "#9c179e"
                          ],
                          [
                            0.4444444444444444,
                            "#bd3786"
                          ],
                          [
                            0.5555555555555556,
                            "#d8576b"
                          ],
                          [
                            0.6666666666666666,
                            "#ed7953"
                          ],
                          [
                            0.7777777777777778,
                            "#fb9f3a"
                          ],
                          [
                            0.8888888888888888,
                            "#fdca26"
                          ],
                          [
                            1,
                            "#f0f921"
                          ]
                        ],
                        "type": "surface"
                      }
                    ],
                    "table": [
                      {
                        "cells": {
                          "fill": {
                            "color": "#EBF0F8"
                          },
                          "line": {
                            "color": "white"
                          }
                        },
                        "header": {
                          "fill": {
                            "color": "#C8D4E3"
                          },
                          "line": {
                            "color": "white"
                          }
                        },
                        "type": "table"
                      }
                    ]
                  },
                  "layout": {
                    "annotationdefaults": {
                      "arrowcolor": "#2a3f5f",
                      "arrowhead": 0,
                      "arrowwidth": 1
                    },
                    "autotypenumbers": "strict",
                    "coloraxis": {
                      "colorbar": {
                        "outlinewidth": 0,
                        "ticks": ""
                      }
                    },
                    "colorscale": {
                      "diverging": [
                        [
                          0,
                          "#8e0152"
                        ],
                        [
                          0.1,
                          "#c51b7d"
                        ],
                        [
                          0.2,
                          "#de77ae"
                        ],
                        [
                          0.3,
                          "#f1b6da"
                        ],
                        [
                          0.4,
                          "#fde0ef"
                        ],
                        [
                          0.5,
                          "#f7f7f7"
                        ],
                        [
                          0.6,
                          "#e6f5d0"
                        ],
                        [
                          0.7,
                          "#b8e186"
                        ],
                        [
                          0.8,
                          "#7fbc41"
                        ],
                        [
                          0.9,
                          "#4d9221"
                        ],
                        [
                          1,
                          "#276419"
                        ]
                      ],
                      "sequential": [
                        [
                          0,
                          "#0d0887"
                        ],
                        [
                          0.1111111111111111,
                          "#46039f"
                        ],
                        [
                          0.2222222222222222,
                          "#7201a8"
                        ],
                        [
                          0.3333333333333333,
                          "#9c179e"
                        ],
                        [
                          0.4444444444444444,
                          "#bd3786"
                        ],
                        [
                          0.5555555555555556,
                          "#d8576b"
                        ],
                        [
                          0.6666666666666666,
                          "#ed7953"
                        ],
                        [
                          0.7777777777777778,
                          "#fb9f3a"
                        ],
                        [
                          0.8888888888888888,
                          "#fdca26"
                        ],
                        [
                          1,
                          "#f0f921"
                        ]
                      ],
                      "sequentialminus": [
                        [
                          0,
                          "#0d0887"
                        ],
                        [
                          0.1111111111111111,
                          "#46039f"
                        ],
                        [
                          0.2222222222222222,
                          "#7201a8"
                        ],
                        [
                          0.3333333333333333,
                          "#9c179e"
                        ],
                        [
                          0.4444444444444444,
                          "#bd3786"
                        ],
                        [
                          0.5555555555555556,
                          "#d8576b"
                        ],
                        [
                          0.6666666666666666,
                          "#ed7953"
                        ],
                        [
                          0.7777777777777778,
                          "#fb9f3a"
                        ],
                        [
                          0.8888888888888888,
                          "#fdca26"
                        ],
                        [
                          1,
                          "#f0f921"
                        ]
                      ]
                    },
                    "colorway": [
                      "#636efa",
                      "#EF553B",
                      "#00cc96",
                      "#ab63fa",
                      "#FFA15A",
                      "#19d3f3",
                      "#FF6692",
                      "#B6E880",
                      "#FF97FF",
                      "#FECB52"
                    ],
                    "font": {
                      "color": "#2a3f5f"
                    },
                    "geo": {
                      "bgcolor": "white",
                      "lakecolor": "white",
                      "landcolor": "#E5ECF6",
                      "showlakes": true,
                      "showland": true,
                      "subunitcolor": "white"
                    },
                    "hoverlabel": {
                      "align": "left"
                    },
                    "hovermode": "closest",
                    "mapbox": {
                      "style": "light"
                    },
                    "paper_bgcolor": "white",
                    "plot_bgcolor": "#E5ECF6",
                    "polar": {
                      "angularaxis": {
                        "gridcolor": "white",
                        "linecolor": "white",
                        "ticks": ""
                      },
                      "bgcolor": "#E5ECF6",
                      "radialaxis": {
                        "gridcolor": "white",
                        "linecolor": "white",
                        "ticks": ""
                      }
                    },
                    "scene": {
                      "xaxis": {
                        "backgroundcolor": "#E5ECF6",
                        "gridcolor": "white",
                        "gridwidth": 2,
                        "linecolor": "white",
                        "showbackground": true,
                        "ticks": "",
                        "zerolinecolor": "white"
                      },
                      "yaxis": {
                        "backgroundcolor": "#E5ECF6",
                        "gridcolor": "white",
                        "gridwidth": 2,
                        "linecolor": "white",
                        "showbackground": true,
                        "ticks": "",
                        "zerolinecolor": "white"
                      },
                      "zaxis": {
                        "backgroundcolor": "#E5ECF6",
                        "gridcolor": "white",
                        "gridwidth": 2,
                        "linecolor": "white",
                        "showbackground": true,
                        "ticks": "",
                        "zerolinecolor": "white"
                      }
                    },
                    "shapedefaults": {
                      "line": {
                        "color": "#2a3f5f"
                      }
                    },
                    "ternary": {
                      "aaxis": {
                        "gridcolor": "white",
                        "linecolor": "white",
                        "ticks": ""
                      },
                      "baxis": {
                        "gridcolor": "white",
                        "linecolor": "white",
                        "ticks": ""
                      },
                      "bgcolor": "#E5ECF6",
                      "caxis": {
                        "gridcolor": "white",
                        "linecolor": "white",
                        "ticks": ""
                      }
                    },
                    "title": {
                      "x": 0.05
                    },
                    "xaxis": {
                      "automargin": true,
                      "gridcolor": "white",
                      "linecolor": "white",
                      "ticks": "",
                      "title": {
                        "standoff": 15
                      },
                      "zerolinecolor": "white",
                      "zerolinewidth": 2
                    },
                    "yaxis": {
                      "automargin": true,
                      "gridcolor": "white",
                      "linecolor": "white",
                      "ticks": "",
                      "title": {
                        "standoff": 15
                      },
                      "zerolinecolor": "white",
                      "zerolinewidth": 2
                    }
                  }
                },
                "title": {
                  "text": "Preventable causes of injuries in USA 2001-2020"
                },
                "xaxis": {
                  "title": {
                    "text": "Year"
                  }
                },
                "yaxis": {
                  "title": {
                    "text": "Injuries"
                  }
                }
              }
            }
          },
          "metadata": {},
          "output_type": "display_data"
        }
      ],
      "source": [
        "plot_preventable_injuries(preventable_injuries_df)"
      ]
    },
    {
      "cell_type": "code",
      "execution_count": 54,
      "metadata": {
        "id": "4m-eq5-Ympe8"
      },
      "outputs": [],
      "source": [
        "def plot_preventable_deaths(dataframe):\n",
        "    dataframe = dataframe[dataframe['Cause of Death'] != 'All Causes']\n",
        "    grouped_df = dataframe.groupby(['Year', 'Cause of Death'])['Deaths'].sum().unstack()\n",
        "\n",
        "    last_year = grouped_df.index[-1]\n",
        "    sorted_columns = grouped_df.loc[last_year].sort_values(ascending=False).index\n",
        "\n",
        "    sorted_df = grouped_df[sorted_columns]\n",
        "\n",
        "    data = []\n",
        "    for cause in sorted_df.columns:\n",
        "        data.append(go.Bar(\n",
        "            x=sorted_df.index,\n",
        "            y=sorted_df[cause],\n",
        "            name=cause\n",
        "        ))\n",
        "\n",
        "    layout = go.Layout(\n",
        "        barmode='stack',\n",
        "        xaxis=dict(title='Year'),\n",
        "        yaxis=dict(title='Deaths'),\n",
        "        title='Preventable causes of death in USA 1999-2021'\n",
        "    )\n",
        "\n",
        "    fig = go.Figure(data=data, layout=layout)\n",
        "\n",
        "    fig.show()"
      ]
    },
    {
      "cell_type": "markdown",
      "metadata": {
        "id": "kmqNeeKzmpe8"
      },
      "source": [
        "Śmierci którym można było zaradzić na przestrzeni lat 1999-2021"
      ]
    },
    {
      "cell_type": "code",
      "execution_count": 55,
      "metadata": {
        "colab": {
          "base_uri": "https://localhost:8080/",
          "height": 542
        },
        "id": "wUaTrULSmpe8",
        "outputId": "042705f5-d00d-4e8b-b433-fe5975cfd409"
      },
      "outputs": [
        {
          "data": {
            "application/vnd.plotly.v1+json": {
              "config": {
                "plotlyServerURL": "https://plot.ly"
              },
              "data": [
                {
                  "name": "Poisoning",
                  "type": "bar",
                  "x": [
                    1999,
                    2000,
                    2001,
                    2002,
                    2003,
                    2004,
                    2005,
                    2006,
                    2007,
                    2008,
                    2009,
                    2010,
                    2011,
                    2012,
                    2013,
                    2014,
                    2015,
                    2016,
                    2017,
                    2018,
                    2019,
                    2020,
                    2021
                  ],
                  "y": [
                    24348,
                    25507,
                    28146,
                    35091,
                    38908,
                    41883,
                    47230,
                    55051,
                    59689,
                    62228,
                    63510,
                    66076,
                    72554,
                    72662,
                    77697,
                    84057,
                    94950,
                    116660,
                    129571,
                    124784,
                    131539,
                    174790,
                    203993
                  ]
                },
                {
                  "name": "Motor vehicle",
                  "type": "bar",
                  "x": [
                    1999,
                    2000,
                    2001,
                    2002,
                    2003,
                    2004,
                    2005,
                    2006,
                    2007,
                    2008,
                    2009,
                    2010,
                    2011,
                    2012,
                    2013,
                    2014,
                    2015,
                    2016,
                    2017,
                    2018,
                    2019,
                    2020,
                    2021
                  ],
                  "y": [
                    84772,
                    86682,
                    87543,
                    90725,
                    89498,
                    89840,
                    90680,
                    90618,
                    87881,
                    79577,
                    72423,
                    70661,
                    70602,
                    72825,
                    70734,
                    70789,
                    75509,
                    80651,
                    80462,
                    78806,
                    76700,
                    84625,
                    93956
                  ]
                },
                {
                  "name": "Fall",
                  "type": "bar",
                  "x": [
                    1999,
                    2000,
                    2001,
                    2002,
                    2003,
                    2004,
                    2005,
                    2006,
                    2007,
                    2008,
                    2009,
                    2010,
                    2011,
                    2012,
                    2013,
                    2014,
                    2015,
                    2016,
                    2017,
                    2018,
                    2019,
                    2020,
                    2021
                  ],
                  "y": [
                    26320,
                    26628,
                    30034,
                    32513,
                    34457,
                    37610,
                    39310,
                    41642,
                    45260,
                    48025,
                    49581,
                    52017,
                    54964,
                    57505,
                    60407,
                    63917,
                    66761,
                    69338,
                    72676,
                    74906,
                    78886,
                    84227,
                    89363
                  ]
                },
                {
                  "name": "Suffocation",
                  "type": "bar",
                  "x": [
                    1999,
                    2000,
                    2001,
                    2002,
                    2003,
                    2004,
                    2005,
                    2006,
                    2007,
                    2008,
                    2009,
                    2010,
                    2011,
                    2012,
                    2013,
                    2014,
                    2015,
                    2016,
                    2017,
                    2018,
                    2019,
                    2020,
                    2021
                  ],
                  "y": [
                    10867,
                    11296,
                    11110,
                    11034,
                    11157,
                    11782,
                    11800,
                    11824,
                    11994,
                    12250,
                    11878,
                    12330,
                    12484,
                    12476,
                    13202,
                    13160,
                    13828,
                    13220,
                    13892,
                    13402,
                    14152,
                    13536,
                    14364
                  ]
                },
                {
                  "name": "Drowning",
                  "type": "bar",
                  "x": [
                    1999,
                    2000,
                    2001,
                    2002,
                    2003,
                    2004,
                    2005,
                    2006,
                    2007,
                    2008,
                    2009,
                    2010,
                    2011,
                    2012,
                    2013,
                    2014,
                    2015,
                    2016,
                    2017,
                    2018,
                    2019,
                    2020,
                    2021
                  ],
                  "y": [
                    7024,
                    6940,
                    6528,
                    6874,
                    6582,
                    6602,
                    7146,
                    7147,
                    6881,
                    7093,
                    7027,
                    7561,
                    7111,
                    7100,
                    6778,
                    6810,
                    7201,
                    7564,
                    7417,
                    7416,
                    7381,
                    8353,
                    8674
                  ]
                },
                {
                  "name": "Fire/burn",
                  "type": "bar",
                  "x": [
                    1999,
                    2000,
                    2001,
                    2002,
                    2003,
                    2004,
                    2005,
                    2006,
                    2007,
                    2008,
                    2009,
                    2010,
                    2011,
                    2012,
                    2013,
                    2014,
                    2015,
                    2016,
                    2017,
                    2018,
                    2019,
                    2020,
                    2021
                  ],
                  "y": [
                    6938,
                    6969,
                    6843,
                    6519,
                    6910,
                    6641,
                    6594,
                    6399,
                    6746,
                    5982,
                    5646,
                    5689,
                    5622,
                    5044,
                    5633,
                    5542,
                    5421,
                    5604,
                    5804,
                    6128,
                    5515,
                    5902,
                    6777
                  ]
                },
                {
                  "name": "Natural/ Environment",
                  "type": "bar",
                  "x": [
                    1999,
                    2000,
                    2001,
                    2002,
                    2003,
                    2004,
                    2005,
                    2006,
                    2007,
                    2008,
                    2009,
                    2010,
                    2011,
                    2012,
                    2013,
                    2014,
                    2015,
                    2016,
                    2017,
                    2018,
                    2019,
                    2020,
                    2021
                  ],
                  "y": [
                    3634,
                    3097,
                    2686,
                    2926,
                    2745,
                    2513,
                    4823,
                    3085,
                    2799,
                    2653,
                    2485,
                    2980,
                    4385,
                    2862,
                    3011,
                    3192,
                    3106,
                    3279,
                    3427,
                    3939,
                    4159,
                    4158,
                    5551
                  ]
                },
                {
                  "name": "Other Specified, classifiable",
                  "type": "bar",
                  "x": [
                    1999,
                    2000,
                    2001,
                    2002,
                    2003,
                    2004,
                    2005,
                    2006,
                    2007,
                    2008,
                    2009,
                    2010,
                    2011,
                    2012,
                    2013,
                    2014,
                    2015,
                    2016,
                    2017,
                    2018,
                    2019,
                    2020,
                    2021
                  ],
                  "y": [
                    2587,
                    2457,
                    2695,
                    2718,
                    2777,
                    2839,
                    2950,
                    2969,
                    3076,
                    2870,
                    2757,
                    2776,
                    2812,
                    2759,
                    2650,
                    2572,
                    2492,
                    2753,
                    2872,
                    2690,
                    2973,
                    2876,
                    3109
                  ]
                },
                {
                  "name": "Other Land Transport",
                  "type": "bar",
                  "x": [
                    1999,
                    2000,
                    2001,
                    2002,
                    2003,
                    2004,
                    2005,
                    2006,
                    2007,
                    2008,
                    2009,
                    2010,
                    2011,
                    2012,
                    2013,
                    2014,
                    2015,
                    2016,
                    2017,
                    2018,
                    2019,
                    2020,
                    2021
                  ],
                  "y": [
                    181,
                    null,
                    null,
                    2,
                    161,
                    null,
                    null,
                    1,
                    null,
                    null,
                    null,
                    null,
                    null,
                    null,
                    null,
                    null,
                    1,
                    null,
                    null,
                    1917,
                    1975,
                    2105,
                    2107
                  ]
                },
                {
                  "name": "Other Specified, NEC",
                  "type": "bar",
                  "x": [
                    1999,
                    2000,
                    2001,
                    2002,
                    2003,
                    2004,
                    2005,
                    2006,
                    2007,
                    2008,
                    2009,
                    2010,
                    2011,
                    2012,
                    2013,
                    2014,
                    2015,
                    2016,
                    2017,
                    2018,
                    2019,
                    2020,
                    2021
                  ],
                  "y": [
                    523,
                    506,
                    1612,
                    1665,
                    1716,
                    1468,
                    1660,
                    1742,
                    1994,
                    1908,
                    1901,
                    1873,
                    2117,
                    2218,
                    2170,
                    2031,
                    1939,
                    2447,
                    2314,
                    1845,
                    1963,
                    1912,
                    2022
                  ]
                },
                {
                  "name": "Struck by or Against",
                  "type": "bar",
                  "x": [
                    1999,
                    2000,
                    2001,
                    2002,
                    2003,
                    2004,
                    2005,
                    2006,
                    2007,
                    2008,
                    2009,
                    2010,
                    2011,
                    2012,
                    2013,
                    2014,
                    2015,
                    2016,
                    2017,
                    2018,
                    2019,
                    2020,
                    2021
                  ],
                  "y": [
                    225,
                    447,
                    285,
                    546,
                    432,
                    469,
                    409,
                    81,
                    232,
                    496,
                    210,
                    204,
                    293,
                    1362,
                    1194,
                    1604,
                    434,
                    252,
                    440,
                    152,
                    161,
                    186,
                    566
                  ]
                },
                {
                  "name": "Other Transport",
                  "type": "bar",
                  "x": [
                    1999,
                    2000,
                    2001,
                    2002,
                    2003,
                    2004,
                    2005,
                    2006,
                    2007,
                    2008,
                    2009,
                    2010,
                    2011,
                    2012,
                    2013,
                    2014,
                    2015,
                    2016,
                    2017,
                    2018,
                    2019,
                    2020,
                    2021
                  ],
                  "y": [
                    2763,
                    2774,
                    2958,
                    2492,
                    2570,
                    2352,
                    2190,
                    2219,
                    2010,
                    1913,
                    1964,
                    1689,
                    1994,
                    635,
                    624,
                    510,
                    1531,
                    1745,
                    1496,
                    595,
                    665,
                    526,
                    341
                  ]
                },
                {
                  "name": "Firearm",
                  "type": "bar",
                  "x": [
                    1999,
                    2000,
                    2001,
                    2002,
                    2003,
                    2004,
                    2005,
                    2006,
                    2007,
                    2008,
                    2009,
                    2010,
                    2011,
                    2012,
                    2013,
                    2014,
                    2015,
                    2016,
                    2017,
                    2018,
                    2019,
                    2020,
                    2021
                  ],
                  "y": [
                    470,
                    419,
                    385,
                    401,
                    369,
                    235,
                    408,
                    360,
                    313,
                    194,
                    278,
                    314,
                    290,
                    170,
                    176,
                    158,
                    169,
                    194,
                    272,
                    183,
                    179,
                    222,
                    229
                  ]
                },
                {
                  "name": "Cut/pierce",
                  "type": "bar",
                  "x": [
                    1999,
                    2000,
                    2001,
                    2002,
                    2003,
                    2004,
                    2005,
                    2006,
                    2007,
                    2008,
                    2009,
                    2010,
                    2011,
                    2012,
                    2013,
                    2014,
                    2015,
                    2016,
                    2017,
                    2018,
                    2019,
                    2020,
                    2021
                  ],
                  "y": [
                    null,
                    null,
                    null,
                    null,
                    null,
                    null,
                    null,
                    null,
                    null,
                    null,
                    1,
                    null,
                    null,
                    null,
                    null,
                    null,
                    null,
                    null,
                    null,
                    null,
                    null,
                    null,
                    null
                  ]
                },
                {
                  "name": "Machinery",
                  "type": "bar",
                  "x": [
                    1999,
                    2000,
                    2001,
                    2002,
                    2003,
                    2004,
                    2005,
                    2006,
                    2007,
                    2008,
                    2009,
                    2010,
                    2011,
                    2012,
                    2013,
                    2014,
                    2015,
                    2016,
                    2017,
                    2018,
                    2019,
                    2020,
                    2021
                  ],
                  "y": [
                    null,
                    null,
                    109,
                    283,
                    null,
                    343,
                    94,
                    324,
                    63,
                    101,
                    75,
                    68,
                    null,
                    87,
                    66,
                    73,
                    63,
                    15,
                    11,
                    107,
                    null,
                    null,
                    null
                  ]
                },
                {
                  "name": "Pedal cyclist, Other",
                  "type": "bar",
                  "x": [
                    1999,
                    2000,
                    2001,
                    2002,
                    2003,
                    2004,
                    2005,
                    2006,
                    2007,
                    2008,
                    2009,
                    2010,
                    2011,
                    2012,
                    2013,
                    2014,
                    2015,
                    2016,
                    2017,
                    2018,
                    2019,
                    2020,
                    2021
                  ],
                  "y": [
                    null,
                    null,
                    null,
                    null,
                    null,
                    null,
                    null,
                    null,
                    null,
                    null,
                    14,
                    null,
                    null,
                    null,
                    null,
                    null,
                    null,
                    9,
                    null,
                    null,
                    null,
                    null,
                    null
                  ]
                },
                {
                  "name": "Pedestrian, Other",
                  "type": "bar",
                  "x": [
                    1999,
                    2000,
                    2001,
                    2002,
                    2003,
                    2004,
                    2005,
                    2006,
                    2007,
                    2008,
                    2009,
                    2010,
                    2011,
                    2012,
                    2013,
                    2014,
                    2015,
                    2016,
                    2017,
                    2018,
                    2019,
                    2020,
                    2021
                  ],
                  "y": [
                    2188,
                    1592,
                    603,
                    133,
                    31,
                    237,
                    120,
                    273,
                    127,
                    232,
                    220,
                    236,
                    null,
                    126,
                    179,
                    89,
                    189,
                    97,
                    81,
                    null,
                    null,
                    null,
                    null
                  ]
                }
              ],
              "layout": {
                "barmode": "stack",
                "template": {
                  "data": {
                    "bar": [
                      {
                        "error_x": {
                          "color": "#2a3f5f"
                        },
                        "error_y": {
                          "color": "#2a3f5f"
                        },
                        "marker": {
                          "line": {
                            "color": "#E5ECF6",
                            "width": 0.5
                          },
                          "pattern": {
                            "fillmode": "overlay",
                            "size": 10,
                            "solidity": 0.2
                          }
                        },
                        "type": "bar"
                      }
                    ],
                    "barpolar": [
                      {
                        "marker": {
                          "line": {
                            "color": "#E5ECF6",
                            "width": 0.5
                          },
                          "pattern": {
                            "fillmode": "overlay",
                            "size": 10,
                            "solidity": 0.2
                          }
                        },
                        "type": "barpolar"
                      }
                    ],
                    "carpet": [
                      {
                        "aaxis": {
                          "endlinecolor": "#2a3f5f",
                          "gridcolor": "white",
                          "linecolor": "white",
                          "minorgridcolor": "white",
                          "startlinecolor": "#2a3f5f"
                        },
                        "baxis": {
                          "endlinecolor": "#2a3f5f",
                          "gridcolor": "white",
                          "linecolor": "white",
                          "minorgridcolor": "white",
                          "startlinecolor": "#2a3f5f"
                        },
                        "type": "carpet"
                      }
                    ],
                    "choropleth": [
                      {
                        "colorbar": {
                          "outlinewidth": 0,
                          "ticks": ""
                        },
                        "type": "choropleth"
                      }
                    ],
                    "contour": [
                      {
                        "colorbar": {
                          "outlinewidth": 0,
                          "ticks": ""
                        },
                        "colorscale": [
                          [
                            0,
                            "#0d0887"
                          ],
                          [
                            0.1111111111111111,
                            "#46039f"
                          ],
                          [
                            0.2222222222222222,
                            "#7201a8"
                          ],
                          [
                            0.3333333333333333,
                            "#9c179e"
                          ],
                          [
                            0.4444444444444444,
                            "#bd3786"
                          ],
                          [
                            0.5555555555555556,
                            "#d8576b"
                          ],
                          [
                            0.6666666666666666,
                            "#ed7953"
                          ],
                          [
                            0.7777777777777778,
                            "#fb9f3a"
                          ],
                          [
                            0.8888888888888888,
                            "#fdca26"
                          ],
                          [
                            1,
                            "#f0f921"
                          ]
                        ],
                        "type": "contour"
                      }
                    ],
                    "contourcarpet": [
                      {
                        "colorbar": {
                          "outlinewidth": 0,
                          "ticks": ""
                        },
                        "type": "contourcarpet"
                      }
                    ],
                    "heatmap": [
                      {
                        "colorbar": {
                          "outlinewidth": 0,
                          "ticks": ""
                        },
                        "colorscale": [
                          [
                            0,
                            "#0d0887"
                          ],
                          [
                            0.1111111111111111,
                            "#46039f"
                          ],
                          [
                            0.2222222222222222,
                            "#7201a8"
                          ],
                          [
                            0.3333333333333333,
                            "#9c179e"
                          ],
                          [
                            0.4444444444444444,
                            "#bd3786"
                          ],
                          [
                            0.5555555555555556,
                            "#d8576b"
                          ],
                          [
                            0.6666666666666666,
                            "#ed7953"
                          ],
                          [
                            0.7777777777777778,
                            "#fb9f3a"
                          ],
                          [
                            0.8888888888888888,
                            "#fdca26"
                          ],
                          [
                            1,
                            "#f0f921"
                          ]
                        ],
                        "type": "heatmap"
                      }
                    ],
                    "heatmapgl": [
                      {
                        "colorbar": {
                          "outlinewidth": 0,
                          "ticks": ""
                        },
                        "colorscale": [
                          [
                            0,
                            "#0d0887"
                          ],
                          [
                            0.1111111111111111,
                            "#46039f"
                          ],
                          [
                            0.2222222222222222,
                            "#7201a8"
                          ],
                          [
                            0.3333333333333333,
                            "#9c179e"
                          ],
                          [
                            0.4444444444444444,
                            "#bd3786"
                          ],
                          [
                            0.5555555555555556,
                            "#d8576b"
                          ],
                          [
                            0.6666666666666666,
                            "#ed7953"
                          ],
                          [
                            0.7777777777777778,
                            "#fb9f3a"
                          ],
                          [
                            0.8888888888888888,
                            "#fdca26"
                          ],
                          [
                            1,
                            "#f0f921"
                          ]
                        ],
                        "type": "heatmapgl"
                      }
                    ],
                    "histogram": [
                      {
                        "marker": {
                          "pattern": {
                            "fillmode": "overlay",
                            "size": 10,
                            "solidity": 0.2
                          }
                        },
                        "type": "histogram"
                      }
                    ],
                    "histogram2d": [
                      {
                        "colorbar": {
                          "outlinewidth": 0,
                          "ticks": ""
                        },
                        "colorscale": [
                          [
                            0,
                            "#0d0887"
                          ],
                          [
                            0.1111111111111111,
                            "#46039f"
                          ],
                          [
                            0.2222222222222222,
                            "#7201a8"
                          ],
                          [
                            0.3333333333333333,
                            "#9c179e"
                          ],
                          [
                            0.4444444444444444,
                            "#bd3786"
                          ],
                          [
                            0.5555555555555556,
                            "#d8576b"
                          ],
                          [
                            0.6666666666666666,
                            "#ed7953"
                          ],
                          [
                            0.7777777777777778,
                            "#fb9f3a"
                          ],
                          [
                            0.8888888888888888,
                            "#fdca26"
                          ],
                          [
                            1,
                            "#f0f921"
                          ]
                        ],
                        "type": "histogram2d"
                      }
                    ],
                    "histogram2dcontour": [
                      {
                        "colorbar": {
                          "outlinewidth": 0,
                          "ticks": ""
                        },
                        "colorscale": [
                          [
                            0,
                            "#0d0887"
                          ],
                          [
                            0.1111111111111111,
                            "#46039f"
                          ],
                          [
                            0.2222222222222222,
                            "#7201a8"
                          ],
                          [
                            0.3333333333333333,
                            "#9c179e"
                          ],
                          [
                            0.4444444444444444,
                            "#bd3786"
                          ],
                          [
                            0.5555555555555556,
                            "#d8576b"
                          ],
                          [
                            0.6666666666666666,
                            "#ed7953"
                          ],
                          [
                            0.7777777777777778,
                            "#fb9f3a"
                          ],
                          [
                            0.8888888888888888,
                            "#fdca26"
                          ],
                          [
                            1,
                            "#f0f921"
                          ]
                        ],
                        "type": "histogram2dcontour"
                      }
                    ],
                    "mesh3d": [
                      {
                        "colorbar": {
                          "outlinewidth": 0,
                          "ticks": ""
                        },
                        "type": "mesh3d"
                      }
                    ],
                    "parcoords": [
                      {
                        "line": {
                          "colorbar": {
                            "outlinewidth": 0,
                            "ticks": ""
                          }
                        },
                        "type": "parcoords"
                      }
                    ],
                    "pie": [
                      {
                        "automargin": true,
                        "type": "pie"
                      }
                    ],
                    "scatter": [
                      {
                        "fillpattern": {
                          "fillmode": "overlay",
                          "size": 10,
                          "solidity": 0.2
                        },
                        "type": "scatter"
                      }
                    ],
                    "scatter3d": [
                      {
                        "line": {
                          "colorbar": {
                            "outlinewidth": 0,
                            "ticks": ""
                          }
                        },
                        "marker": {
                          "colorbar": {
                            "outlinewidth": 0,
                            "ticks": ""
                          }
                        },
                        "type": "scatter3d"
                      }
                    ],
                    "scattercarpet": [
                      {
                        "marker": {
                          "colorbar": {
                            "outlinewidth": 0,
                            "ticks": ""
                          }
                        },
                        "type": "scattercarpet"
                      }
                    ],
                    "scattergeo": [
                      {
                        "marker": {
                          "colorbar": {
                            "outlinewidth": 0,
                            "ticks": ""
                          }
                        },
                        "type": "scattergeo"
                      }
                    ],
                    "scattergl": [
                      {
                        "marker": {
                          "colorbar": {
                            "outlinewidth": 0,
                            "ticks": ""
                          }
                        },
                        "type": "scattergl"
                      }
                    ],
                    "scattermapbox": [
                      {
                        "marker": {
                          "colorbar": {
                            "outlinewidth": 0,
                            "ticks": ""
                          }
                        },
                        "type": "scattermapbox"
                      }
                    ],
                    "scatterpolar": [
                      {
                        "marker": {
                          "colorbar": {
                            "outlinewidth": 0,
                            "ticks": ""
                          }
                        },
                        "type": "scatterpolar"
                      }
                    ],
                    "scatterpolargl": [
                      {
                        "marker": {
                          "colorbar": {
                            "outlinewidth": 0,
                            "ticks": ""
                          }
                        },
                        "type": "scatterpolargl"
                      }
                    ],
                    "scatterternary": [
                      {
                        "marker": {
                          "colorbar": {
                            "outlinewidth": 0,
                            "ticks": ""
                          }
                        },
                        "type": "scatterternary"
                      }
                    ],
                    "surface": [
                      {
                        "colorbar": {
                          "outlinewidth": 0,
                          "ticks": ""
                        },
                        "colorscale": [
                          [
                            0,
                            "#0d0887"
                          ],
                          [
                            0.1111111111111111,
                            "#46039f"
                          ],
                          [
                            0.2222222222222222,
                            "#7201a8"
                          ],
                          [
                            0.3333333333333333,
                            "#9c179e"
                          ],
                          [
                            0.4444444444444444,
                            "#bd3786"
                          ],
                          [
                            0.5555555555555556,
                            "#d8576b"
                          ],
                          [
                            0.6666666666666666,
                            "#ed7953"
                          ],
                          [
                            0.7777777777777778,
                            "#fb9f3a"
                          ],
                          [
                            0.8888888888888888,
                            "#fdca26"
                          ],
                          [
                            1,
                            "#f0f921"
                          ]
                        ],
                        "type": "surface"
                      }
                    ],
                    "table": [
                      {
                        "cells": {
                          "fill": {
                            "color": "#EBF0F8"
                          },
                          "line": {
                            "color": "white"
                          }
                        },
                        "header": {
                          "fill": {
                            "color": "#C8D4E3"
                          },
                          "line": {
                            "color": "white"
                          }
                        },
                        "type": "table"
                      }
                    ]
                  },
                  "layout": {
                    "annotationdefaults": {
                      "arrowcolor": "#2a3f5f",
                      "arrowhead": 0,
                      "arrowwidth": 1
                    },
                    "autotypenumbers": "strict",
                    "coloraxis": {
                      "colorbar": {
                        "outlinewidth": 0,
                        "ticks": ""
                      }
                    },
                    "colorscale": {
                      "diverging": [
                        [
                          0,
                          "#8e0152"
                        ],
                        [
                          0.1,
                          "#c51b7d"
                        ],
                        [
                          0.2,
                          "#de77ae"
                        ],
                        [
                          0.3,
                          "#f1b6da"
                        ],
                        [
                          0.4,
                          "#fde0ef"
                        ],
                        [
                          0.5,
                          "#f7f7f7"
                        ],
                        [
                          0.6,
                          "#e6f5d0"
                        ],
                        [
                          0.7,
                          "#b8e186"
                        ],
                        [
                          0.8,
                          "#7fbc41"
                        ],
                        [
                          0.9,
                          "#4d9221"
                        ],
                        [
                          1,
                          "#276419"
                        ]
                      ],
                      "sequential": [
                        [
                          0,
                          "#0d0887"
                        ],
                        [
                          0.1111111111111111,
                          "#46039f"
                        ],
                        [
                          0.2222222222222222,
                          "#7201a8"
                        ],
                        [
                          0.3333333333333333,
                          "#9c179e"
                        ],
                        [
                          0.4444444444444444,
                          "#bd3786"
                        ],
                        [
                          0.5555555555555556,
                          "#d8576b"
                        ],
                        [
                          0.6666666666666666,
                          "#ed7953"
                        ],
                        [
                          0.7777777777777778,
                          "#fb9f3a"
                        ],
                        [
                          0.8888888888888888,
                          "#fdca26"
                        ],
                        [
                          1,
                          "#f0f921"
                        ]
                      ],
                      "sequentialminus": [
                        [
                          0,
                          "#0d0887"
                        ],
                        [
                          0.1111111111111111,
                          "#46039f"
                        ],
                        [
                          0.2222222222222222,
                          "#7201a8"
                        ],
                        [
                          0.3333333333333333,
                          "#9c179e"
                        ],
                        [
                          0.4444444444444444,
                          "#bd3786"
                        ],
                        [
                          0.5555555555555556,
                          "#d8576b"
                        ],
                        [
                          0.6666666666666666,
                          "#ed7953"
                        ],
                        [
                          0.7777777777777778,
                          "#fb9f3a"
                        ],
                        [
                          0.8888888888888888,
                          "#fdca26"
                        ],
                        [
                          1,
                          "#f0f921"
                        ]
                      ]
                    },
                    "colorway": [
                      "#636efa",
                      "#EF553B",
                      "#00cc96",
                      "#ab63fa",
                      "#FFA15A",
                      "#19d3f3",
                      "#FF6692",
                      "#B6E880",
                      "#FF97FF",
                      "#FECB52"
                    ],
                    "font": {
                      "color": "#2a3f5f"
                    },
                    "geo": {
                      "bgcolor": "white",
                      "lakecolor": "white",
                      "landcolor": "#E5ECF6",
                      "showlakes": true,
                      "showland": true,
                      "subunitcolor": "white"
                    },
                    "hoverlabel": {
                      "align": "left"
                    },
                    "hovermode": "closest",
                    "mapbox": {
                      "style": "light"
                    },
                    "paper_bgcolor": "white",
                    "plot_bgcolor": "#E5ECF6",
                    "polar": {
                      "angularaxis": {
                        "gridcolor": "white",
                        "linecolor": "white",
                        "ticks": ""
                      },
                      "bgcolor": "#E5ECF6",
                      "radialaxis": {
                        "gridcolor": "white",
                        "linecolor": "white",
                        "ticks": ""
                      }
                    },
                    "scene": {
                      "xaxis": {
                        "backgroundcolor": "#E5ECF6",
                        "gridcolor": "white",
                        "gridwidth": 2,
                        "linecolor": "white",
                        "showbackground": true,
                        "ticks": "",
                        "zerolinecolor": "white"
                      },
                      "yaxis": {
                        "backgroundcolor": "#E5ECF6",
                        "gridcolor": "white",
                        "gridwidth": 2,
                        "linecolor": "white",
                        "showbackground": true,
                        "ticks": "",
                        "zerolinecolor": "white"
                      },
                      "zaxis": {
                        "backgroundcolor": "#E5ECF6",
                        "gridcolor": "white",
                        "gridwidth": 2,
                        "linecolor": "white",
                        "showbackground": true,
                        "ticks": "",
                        "zerolinecolor": "white"
                      }
                    },
                    "shapedefaults": {
                      "line": {
                        "color": "#2a3f5f"
                      }
                    },
                    "ternary": {
                      "aaxis": {
                        "gridcolor": "white",
                        "linecolor": "white",
                        "ticks": ""
                      },
                      "baxis": {
                        "gridcolor": "white",
                        "linecolor": "white",
                        "ticks": ""
                      },
                      "bgcolor": "#E5ECF6",
                      "caxis": {
                        "gridcolor": "white",
                        "linecolor": "white",
                        "ticks": ""
                      }
                    },
                    "title": {
                      "x": 0.05
                    },
                    "xaxis": {
                      "automargin": true,
                      "gridcolor": "white",
                      "linecolor": "white",
                      "ticks": "",
                      "title": {
                        "standoff": 15
                      },
                      "zerolinecolor": "white",
                      "zerolinewidth": 2
                    },
                    "yaxis": {
                      "automargin": true,
                      "gridcolor": "white",
                      "linecolor": "white",
                      "ticks": "",
                      "title": {
                        "standoff": 15
                      },
                      "zerolinecolor": "white",
                      "zerolinewidth": 2
                    }
                  }
                },
                "title": {
                  "text": "Preventable causes of death in USA 1999-2021"
                },
                "xaxis": {
                  "title": {
                    "text": "Year"
                  }
                },
                "yaxis": {
                  "title": {
                    "text": "Deaths"
                  }
                }
              }
            }
          },
          "metadata": {},
          "output_type": "display_data"
        }
      ],
      "source": [
        "plot_preventable_deaths(preventable_deaths_df)"
      ]
    },
    {
      "cell_type": "code",
      "execution_count": 56,
      "metadata": {
        "colab": {
          "base_uri": "https://localhost:8080/",
          "height": 564
        },
        "id": "6JSNNl_Jmpe9",
        "outputId": "5860e147-0b74-4db8-962c-886fbe05ea8a"
      },
      "outputs": [
        {
          "data": {
            "image/png": "[encoded data removed]",
            "text/plain": [
              "<Figure size 1000x600 with 1 Axes>"
            ]
          },
          "metadata": {},
          "output_type": "display_data"
        }
      ],
      "source": [
        "plot_compare_years2(preventable_deaths_df, 2021, 1999)"
      ]
    },
    {
      "cell_type": "code",
      "execution_count": 57,
      "metadata": {
        "colab": {
          "base_uri": "https://localhost:8080/",
          "height": 743
        },
        "id": "hMuzgwvlmpe9",
        "outputId": "fc4aa141-f5a9-47b7-8730-301f5ef38c4f"
      },
      "outputs": [],
      "source": [
        "def plot_preventable_heatmap(dataframe, year):\n",
        "    dataframe = dataframe[dataframe['Year'] == year]\n",
        "\n",
        "    grouped_df = dataframe.groupby('Cause of Death')['Deaths'].sum().nlargest(10).index\n",
        "    dataframe = dataframe[dataframe['Cause of Death'].isin(grouped_df) & (dataframe['Cause of Death'] != 'All Causes')]\n",
        "\n",
        "    age_group_order = ['<1 years', '1-4 years', '5-9 years','10-14 years' ,'15-24 years', '25-34 years',\n",
        "                       '35-44 years', '45-54 years', '55-64 years', '65-74 years', '75-84 years', '85+ years']\n",
        "    dataframe['Age Group'] = pd.Categorical(dataframe['Age Group'], categories=age_group_order, ordered=True)\n",
        "\n",
        "    dataframe = dataframe.groupby(['Age Group', 'Cause of Death'])['Deaths'].sum().unstack()\n",
        "\n",
        "    plt.figure(figsize=(10, 6))\n",
        "    sns.heatmap(dataframe, annot=True, fmt='.0f', cmap=sns.cm.rocket_r)\n",
        "    plt.title('Preventable Deaths in '+str(year))\n",
        "    plt.xlabel('Cause of Death')\n",
        "    plt.ylabel('Age Group')\n",
        "    plt.show()\n"
      ]
    },
    {
      "cell_type": "code",
      "execution_count": 58,
      "metadata": {},
      "outputs": [
        {
          "data": {
            "image/png": "[encoded data removed]",
            "text/plain": [
              "<Figure size 1000x600 with 2 Axes>"
            ]
          },
          "metadata": {},
          "output_type": "display_data"
        }
      ],
      "source": [
        "plot_preventable_heatmap(preventable_deaths_df, 2021)"
      ]
    }
  ],
  "metadata": {
    "colab": {
      "provenance": []
    },
    "kernelspec": {
      "display_name": "Python 3",
      "language": "python",
      "name": "python3"
    },
    "language_info": {
      "codemirror_mode": {
        "name": "ipython",
        "version": 3
      },
      "file_extension": ".py",
      "mimetype": "text/x-python",
      "name": "python",
      "nbconvert_exporter": "python",
      "pygments_lexer": "ipython3",
      "version": "3.9.13"
    },
    "orig_nbformat": 4
  },
  "nbformat": 4,
  "nbformat_minor": 0
}
